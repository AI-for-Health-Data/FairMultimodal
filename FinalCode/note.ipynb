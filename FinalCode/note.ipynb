{
 "cells": [
  {
   "cell_type": "code",
   "execution_count": 4,
   "id": "f52ad3ad-9413-4ff6-984f-fdf8e6af2bc7",
   "metadata": {},
   "outputs": [
    {
     "name": "stderr",
     "output_type": "stream",
     "text": [
      "/var/folders/d7/1jjz4hpd3s771hd3c98czx1c0000gn/T/ipykernel_24805/2160161246.py:4: DtypeWarning: Columns (58,59,60,61,62,63,64,65,66) have mixed types. Specify dtype option on import or set low_memory=False.\n",
      "  filtered_unstructured_df = pd.read_csv('filtered_unstructured.csv')\n"
     ]
    },
    {
     "name": "stdout",
     "output_type": "stream",
     "text": [
      "   subject_id                                       note_chunk_1  \\\n",
      "0           3  date of birth: sex: m service: medicine chief ...   \n",
      "1           4  date of birth: sex: f service: chief complaint...   \n",
      "2           6  date of birth: sex: f service: admission diagn...   \n",
      "3           9  date of birth: sex: m service: neurology chief...   \n",
      "4          11  date of birth: sex: f service: neurosurgery al...   \n",
      "\n",
      "                                        note_chunk_2  \\\n",
      "0  heart had a regular rate and rhythm. there wer...   \n",
      "1  strength was in all extremities. pertinent lab...   \n",
      "2  cc of replacement and on , tacrolimus was star...   \n",
      "3  nicardipine drip. the patient was also given d...   \n",
      "4  are discerned. conclusion: possible small amou...   \n",
      "\n",
      "                                        note_chunk_3  \\\n",
      "0  a non-q-wave myocardial infarction, as his tro...   \n",
      "1  was to follow up with doctor in clinic over th...   \n",
      "2  transplant. arterial thrombosis. deep venous t...   \n",
      "3  done which showed no evidence of hydronephrosi...   \n",
      "4  this morning with doctor , it was decided that...   \n",
      "\n",
      "                                        note_chunk_4  \\\n",
      "0  despite the presumption of a gram-negative uro...   \n",
      "1  motion are normal. aorta: the aortic root is n...   \n",
      "2  the transplant is a new 6 x 5 cm fluid collect...   \n",
      "3  cerebral hemorrhage reason for this examinatio...   \n",
      "4  hours) as needed for pain. disp:*20 tablet(s)*...   \n",
      "\n",
      "                                        note_chunk_5  \\\n",
      "0  500 mg p.o. q.d. ipratropium nebulizers q.4-6h...   \n",
      "1  and a left picc line has been pulled back. it ...   \n",
      "2  the cavoatrial junction allowing for the inspi...   \n",
      "3  of diffuse anoxic injury. findings discussed b...   \n",
      "4  \"unchanged mass effect and edema around large ...   \n",
      "\n",
      "                                        note_chunk_6  \\\n",
      "0  resting regional left ventricular wall motion ...   \n",
      "1  pm chest (portable ap) clip # reason: please e...   \n",
      "2  and pain. with reason for this examination: ?d...   \n",
      "3  preservation of -white matter cortical differe...   \n",
      "4  mass medical condition: 50 year old woman with...   \n",
      "\n",
      "                                        note_chunk_7  \\\n",
      "0  clip # reason: r/o msk injury medical conditio...   \n",
      "1  in to ew from home with c/o fever x8days chill...   \n",
      "2  needs known. percocet 1tab given for pain w/ +...   \n",
      "3  avg 140-160/70's. k+ and other lytes sent w/ab...   \n",
      "4  ms changes reason for this examination: assess...   \n",
      "\n",
      "                                        note_chunk_8  \\\n",
      "0  good position. impression: slight worsening of...   \n",
      "1                                                NaN   \n",
      "2  hct decreased this am no evidence of bleeding....   \n",
      "3  today without incident. pt sxn for thick tan s...   \n",
      "4  15 medical condition: 50 year old woman with b...   \n",
      "\n",
      "                                        note_chunk_9  ... note_chunk_1021  \\\n",
      "0  for this examination: assess for acute cardiop...  ...             NaN   \n",
      "1                                                NaN  ...             NaN   \n",
      "2  serousy drng. a/p: aggressive pulm toilet as p...  ...             NaN   \n",
      "3  nicardipine. vasotec added to regimen but not ...  ...             NaN   \n",
      "4  preop admitting diagnosis: brain mass medical ...  ...             NaN   \n",
      "\n",
      "  note_chunk_1022 note_chunk_1023 note_chunk_1024 note_chunk_1025  \\\n",
      "0             NaN             NaN             NaN             NaN   \n",
      "1             NaN             NaN             NaN             NaN   \n",
      "2             NaN             NaN             NaN             NaN   \n",
      "3             NaN             NaN             NaN             NaN   \n",
      "4             NaN             NaN             NaN             NaN   \n",
      "\n",
      "  note_chunk_1026 note_chunk_1027 note_chunk_1028 short_term_mortality  \\\n",
      "0             NaN             NaN             NaN                    0   \n",
      "1             NaN             NaN             NaN                    0   \n",
      "2             NaN             NaN             NaN                    0   \n",
      "3             NaN             NaN             NaN                    1   \n",
      "4             NaN             NaN             NaN                    0   \n",
      "\n",
      "  readmission_within_30_days  \n",
      "0                          0  \n",
      "1                          0  \n",
      "2                          0  \n",
      "3                          0  \n",
      "4                          0  \n",
      "\n",
      "[5 rows x 1031 columns]\n"
     ]
    }
   ],
   "source": [
    "import pandas as pd\n",
    "\n",
    "# Read the filtered unstructured dataset from CSV\n",
    "filtered_unstructured_df = pd.read_csv('filtered_unstructured.csv')\n",
    "\n",
    "# Identify all note columns that start with \"note_chunk_\"\n",
    "note_columns = [col for col in filtered_unstructured_df.columns if col.startswith('note_chunk_')]\n",
    "\n",
    "# Define the outcome columns and the subject identifier column\n",
    "outcome_columns = ['short_term_mortality', 'readmission_within_30_days']\n",
    "id_column = ['subject_id']\n",
    "\n",
    "# Combine all the desired columns into a single list\n",
    "columns_to_extract = id_column + note_columns + outcome_columns\n",
    "\n",
    "# Extract the desired columns from the dataframe\n",
    "extracted_df = filtered_unstructured_df[columns_to_extract]\n",
    "\n",
    "# Display the first few rows of the extracted dataframe\n",
    "print(extracted_df.head())\n",
    "\n",
    "# Optionally, save the extracted dataframe to a CSV file for future use\n",
    "extracted_df.to_csv('extracted_subjects_notes_outcomes.csv', index=False)\n"
   ]
  },
  {
   "cell_type": "code",
   "execution_count": 6,
   "id": "85afa8d3-e76d-4cc8-a664-067957a5daea",
   "metadata": {},
   "outputs": [
    {
     "data": {
      "text/plain": [
       "(33942, 1031)"
      ]
     },
     "execution_count": 6,
     "metadata": {},
     "output_type": "execute_result"
    }
   ],
   "source": [
    "extracted_df.shape"
   ]
  },
  {
   "cell_type": "code",
   "execution_count": 8,
   "id": "92875bb0-af1f-4a5f-b80e-84888125a746",
   "metadata": {},
   "outputs": [
    {
     "name": "stdout",
     "output_type": "stream",
     "text": [
      "Positive mortality cases: 3525\n",
      "Positive readmission cases: 3033\n"
     ]
    }
   ],
   "source": [
    "# Count the number of positive cases for short-term mortality and readmission\n",
    "positive_mortality = extracted_df['short_term_mortality'].sum()\n",
    "positive_readmission = extracted_df['readmission_within_30_days'].sum()\n",
    "\n",
    "print(\"Positive mortality cases:\", positive_mortality)\n",
    "print(\"Positive readmission cases:\", positive_readmission)"
   ]
  },
  {
   "cell_type": "code",
   "execution_count": null,
   "id": "98028318-0550-44b8-8d42-938add6eb4e2",
   "metadata": {},
   "outputs": [],
   "source": []
  }
 ],
 "metadata": {
  "kernelspec": {
   "display_name": "Python (allennlp_env)",
   "language": "python",
   "name": "allennlp_env"
  },
  "language_info": {
   "codemirror_mode": {
    "name": "ipython",
    "version": 3
   },
   "file_extension": ".py",
   "mimetype": "text/x-python",
   "name": "python",
   "nbconvert_exporter": "python",
   "pygments_lexer": "ipython3",
   "version": "3.8.20"
  }
 },
 "nbformat": 4,
 "nbformat_minor": 5
}

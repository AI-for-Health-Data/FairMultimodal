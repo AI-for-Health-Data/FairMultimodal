{
 "cells": [
  {
   "cell_type": "code",
   "execution_count": 1,
   "id": "113220c8-d053-4584-bb88-3774bde1364c",
   "metadata": {
    "tags": []
   },
   "outputs": [
    {
     "name": "stdout",
     "output_type": "stream",
     "text": [
      "Collecting transformers[torch]\n",
      "  Using cached transformers-4.46.3-py3-none-any.whl (10.0 MB)\n",
      "Collecting filelock (from transformers[torch])\n",
      "  Using cached filelock-3.16.1-py3-none-any.whl (16 kB)\n",
      "Collecting huggingface-hub<1.0,>=0.23.2 (from transformers[torch])\n",
      "  Using cached huggingface_hub-0.26.2-py3-none-any.whl (447 kB)\n",
      "Requirement already satisfied: numpy>=1.17 in /opt/conda/envs/rapids/lib/python3.10/site-packages (from transformers[torch]) (1.24.3)\n",
      "Requirement already satisfied: packaging>=20.0 in /opt/conda/envs/rapids/lib/python3.10/site-packages (from transformers[torch]) (23.1)\n",
      "Requirement already satisfied: pyyaml>=5.1 in /opt/conda/envs/rapids/lib/python3.10/site-packages (from transformers[torch]) (6.0)\n",
      "Collecting regex!=2019.12.17 (from transformers[torch])\n",
      "  Using cached regex-2024.11.6-cp310-cp310-manylinux_2_17_x86_64.manylinux2014_x86_64.whl (781 kB)\n",
      "Requirement already satisfied: requests in /opt/conda/envs/rapids/lib/python3.10/site-packages (from transformers[torch]) (2.31.0)\n",
      "Collecting tokenizers<0.21,>=0.20 (from transformers[torch])\n",
      "  Using cached tokenizers-0.20.3-cp310-cp310-manylinux_2_17_x86_64.manylinux2014_x86_64.whl (3.0 MB)\n",
      "Collecting safetensors>=0.4.1 (from transformers[torch])\n",
      "  Using cached safetensors-0.4.5-cp310-cp310-manylinux_2_17_x86_64.manylinux2014_x86_64.whl (435 kB)\n",
      "Requirement already satisfied: tqdm>=4.27 in /opt/conda/envs/rapids/lib/python3.10/site-packages (from transformers[torch]) (4.65.0)\n",
      "Collecting torch (from transformers[torch])\n",
      "  Using cached torch-2.5.1-cp310-cp310-manylinux1_x86_64.whl (906.4 MB)\n",
      "Collecting accelerate>=0.26.0 (from transformers[torch])\n",
      "  Using cached accelerate-1.1.1-py3-none-any.whl (333 kB)\n",
      "Requirement already satisfied: psutil in /opt/conda/envs/rapids/lib/python3.10/site-packages (from accelerate>=0.26.0->transformers[torch]) (5.9.5)\n",
      "Requirement already satisfied: fsspec>=2023.5.0 in /opt/conda/envs/rapids/lib/python3.10/site-packages (from huggingface-hub<1.0,>=0.23.2->transformers[torch]) (2023.6.0)\n",
      "Requirement already satisfied: typing-extensions>=3.7.4.3 in /opt/conda/envs/rapids/lib/python3.10/site-packages (from huggingface-hub<1.0,>=0.23.2->transformers[torch]) (4.6.3)\n",
      "Collecting typing-extensions>=3.7.4.3 (from huggingface-hub<1.0,>=0.23.2->transformers[torch])\n",
      "  Using cached typing_extensions-4.12.2-py3-none-any.whl (37 kB)\n",
      "Requirement already satisfied: networkx in /opt/conda/envs/rapids/lib/python3.10/site-packages (from torch->transformers[torch]) (3.1)\n",
      "Requirement already satisfied: jinja2 in /opt/conda/envs/rapids/lib/python3.10/site-packages (from torch->transformers[torch]) (3.1.2)\n",
      "Collecting nvidia-cuda-nvrtc-cu12==12.4.127 (from torch->transformers[torch])\n",
      "  Using cached nvidia_cuda_nvrtc_cu12-12.4.127-py3-none-manylinux2014_x86_64.whl (24.6 MB)\n",
      "Collecting nvidia-cuda-runtime-cu12==12.4.127 (from torch->transformers[torch])\n",
      "  Using cached nvidia_cuda_runtime_cu12-12.4.127-py3-none-manylinux2014_x86_64.whl (883 kB)\n",
      "Collecting nvidia-cuda-cupti-cu12==12.4.127 (from torch->transformers[torch])\n",
      "  Using cached nvidia_cuda_cupti_cu12-12.4.127-py3-none-manylinux2014_x86_64.whl (13.8 MB)\n",
      "Collecting nvidia-cudnn-cu12==9.1.0.70 (from torch->transformers[torch])\n",
      "  Using cached nvidia_cudnn_cu12-9.1.0.70-py3-none-manylinux2014_x86_64.whl (664.8 MB)\n",
      "Collecting nvidia-cublas-cu12==12.4.5.8 (from torch->transformers[torch])\n",
      "  Using cached nvidia_cublas_cu12-12.4.5.8-py3-none-manylinux2014_x86_64.whl (363.4 MB)\n",
      "Collecting nvidia-cufft-cu12==11.2.1.3 (from torch->transformers[torch])\n",
      "  Using cached nvidia_cufft_cu12-11.2.1.3-py3-none-manylinux2014_x86_64.whl (211.5 MB)\n",
      "Collecting nvidia-curand-cu12==10.3.5.147 (from torch->transformers[torch])\n",
      "  Using cached nvidia_curand_cu12-10.3.5.147-py3-none-manylinux2014_x86_64.whl (56.3 MB)\n",
      "Collecting nvidia-cusolver-cu12==11.6.1.9 (from torch->transformers[torch])\n",
      "  Using cached nvidia_cusolver_cu12-11.6.1.9-py3-none-manylinux2014_x86_64.whl (127.9 MB)\n",
      "Collecting nvidia-cusparse-cu12==12.3.1.170 (from torch->transformers[torch])\n",
      "  Using cached nvidia_cusparse_cu12-12.3.1.170-py3-none-manylinux2014_x86_64.whl (207.5 MB)\n",
      "Collecting nvidia-nccl-cu12==2.21.5 (from torch->transformers[torch])\n",
      "  Using cached nvidia_nccl_cu12-2.21.5-py3-none-manylinux2014_x86_64.whl (188.7 MB)\n",
      "Collecting nvidia-nvtx-cu12==12.4.127 (from torch->transformers[torch])\n",
      "  Using cached nvidia_nvtx_cu12-12.4.127-py3-none-manylinux2014_x86_64.whl (99 kB)\n",
      "Collecting nvidia-nvjitlink-cu12==12.4.127 (from torch->transformers[torch])\n",
      "  Using cached nvidia_nvjitlink_cu12-12.4.127-py3-none-manylinux2014_x86_64.whl (21.1 MB)\n",
      "Collecting triton==3.1.0 (from torch->transformers[torch])\n",
      "  Using cached triton-3.1.0-cp310-cp310-manylinux_2_17_x86_64.manylinux2014_x86_64.whl (209.5 MB)\n",
      "Collecting sympy==1.13.1 (from torch->transformers[torch])\n",
      "  Using cached sympy-1.13.1-py3-none-any.whl (6.2 MB)\n",
      "Collecting mpmath<1.4,>=1.1.0 (from sympy==1.13.1->torch->transformers[torch])\n",
      "  Using cached mpmath-1.3.0-py3-none-any.whl (536 kB)\n",
      "Requirement already satisfied: charset-normalizer<4,>=2 in /opt/conda/envs/rapids/lib/python3.10/site-packages (from requests->transformers[torch]) (3.1.0)\n",
      "Requirement already satisfied: idna<4,>=2.5 in /opt/conda/envs/rapids/lib/python3.10/site-packages (from requests->transformers[torch]) (3.4)\n",
      "Requirement already satisfied: urllib3<3,>=1.21.1 in /opt/conda/envs/rapids/lib/python3.10/site-packages (from requests->transformers[torch]) (1.26.15)\n",
      "Requirement already satisfied: certifi>=2017.4.17 in /opt/conda/envs/rapids/lib/python3.10/site-packages (from requests->transformers[torch]) (2023.5.7)\n",
      "Requirement already satisfied: MarkupSafe>=2.0 in /opt/conda/envs/rapids/lib/python3.10/site-packages (from jinja2->torch->transformers[torch]) (2.1.3)\n",
      "Installing collected packages: mpmath, typing-extensions, sympy, safetensors, regex, nvidia-nvtx-cu12, nvidia-nvjitlink-cu12, nvidia-nccl-cu12, nvidia-curand-cu12, nvidia-cufft-cu12, nvidia-cuda-runtime-cu12, nvidia-cuda-nvrtc-cu12, nvidia-cuda-cupti-cu12, nvidia-cublas-cu12, filelock, triton, nvidia-cusparse-cu12, nvidia-cudnn-cu12, huggingface-hub, tokenizers, nvidia-cusolver-cu12, transformers, torch, accelerate\n",
      "  Attempting uninstall: typing-extensions\n",
      "    Found existing installation: typing_extensions 4.6.3\n",
      "    Uninstalling typing_extensions-4.6.3:\n",
      "      Successfully uninstalled typing_extensions-4.6.3\n",
      "\u001b[31mERROR: pip's dependency resolver does not currently take into account all the packages that are installed. This behaviour is the source of the following dependency conflicts.\n",
      "cudf 23.6.0 requires cupy-cuda11x>=12.0.0, which is not installed.\n",
      "cugraph 23.6.2 requires cupy-cuda11x>=12.0.0, which is not installed.\n",
      "cuml 23.6.0 requires cupy-cuda11x>=12.0.0, which is not installed.\n",
      "dask-cudf 23.6.0 requires cupy-cuda11x>=12.0.0, which is not installed.\u001b[0m\u001b[31m\n",
      "\u001b[0mSuccessfully installed accelerate-1.1.1 filelock-3.16.1 huggingface-hub-0.26.2 mpmath-1.3.0 nvidia-cublas-cu12-12.4.5.8 nvidia-cuda-cupti-cu12-12.4.127 nvidia-cuda-nvrtc-cu12-12.4.127 nvidia-cuda-runtime-cu12-12.4.127 nvidia-cudnn-cu12-9.1.0.70 nvidia-cufft-cu12-11.2.1.3 nvidia-curand-cu12-10.3.5.147 nvidia-cusolver-cu12-11.6.1.9 nvidia-cusparse-cu12-12.3.1.170 nvidia-nccl-cu12-2.21.5 nvidia-nvjitlink-cu12-12.4.127 nvidia-nvtx-cu12-12.4.127 regex-2024.11.6 safetensors-0.4.5 sympy-1.13.1 tokenizers-0.20.3 torch-2.5.1 transformers-4.46.3 triton-3.1.0 typing-extensions-4.12.2\n"
     ]
    }
   ],
   "source": [
    "!/opt/conda/envs/rapids/bin/python -m pip install transformers[torch]"
   ]
  },
  {
   "cell_type": "code",
   "execution_count": 2,
   "id": "52236c4d-1e68-4d9e-b582-6157a2b35978",
   "metadata": {
    "tags": []
   },
   "outputs": [
    {
     "name": "stdout",
     "output_type": "stream",
     "text": [
      "Requirement already satisfied: torch in /opt/conda/envs/rapids/lib/python3.10/site-packages (2.5.1)\n",
      "Requirement already satisfied: filelock in /opt/conda/envs/rapids/lib/python3.10/site-packages (from torch) (3.16.1)\n",
      "Requirement already satisfied: typing-extensions>=4.8.0 in /opt/conda/envs/rapids/lib/python3.10/site-packages (from torch) (4.12.2)\n",
      "Requirement already satisfied: networkx in /opt/conda/envs/rapids/lib/python3.10/site-packages (from torch) (3.1)\n",
      "Requirement already satisfied: jinja2 in /opt/conda/envs/rapids/lib/python3.10/site-packages (from torch) (3.1.2)\n",
      "Requirement already satisfied: fsspec in /opt/conda/envs/rapids/lib/python3.10/site-packages (from torch) (2023.6.0)\n",
      "Requirement already satisfied: nvidia-cuda-nvrtc-cu12==12.4.127 in /opt/conda/envs/rapids/lib/python3.10/site-packages (from torch) (12.4.127)\n",
      "Requirement already satisfied: nvidia-cuda-runtime-cu12==12.4.127 in /opt/conda/envs/rapids/lib/python3.10/site-packages (from torch) (12.4.127)\n",
      "Requirement already satisfied: nvidia-cuda-cupti-cu12==12.4.127 in /opt/conda/envs/rapids/lib/python3.10/site-packages (from torch) (12.4.127)\n",
      "Requirement already satisfied: nvidia-cudnn-cu12==9.1.0.70 in /opt/conda/envs/rapids/lib/python3.10/site-packages (from torch) (9.1.0.70)\n",
      "Requirement already satisfied: nvidia-cublas-cu12==12.4.5.8 in /opt/conda/envs/rapids/lib/python3.10/site-packages (from torch) (12.4.5.8)\n",
      "Requirement already satisfied: nvidia-cufft-cu12==11.2.1.3 in /opt/conda/envs/rapids/lib/python3.10/site-packages (from torch) (11.2.1.3)\n",
      "Requirement already satisfied: nvidia-curand-cu12==10.3.5.147 in /opt/conda/envs/rapids/lib/python3.10/site-packages (from torch) (10.3.5.147)\n",
      "Requirement already satisfied: nvidia-cusolver-cu12==11.6.1.9 in /opt/conda/envs/rapids/lib/python3.10/site-packages (from torch) (11.6.1.9)\n",
      "Requirement already satisfied: nvidia-cusparse-cu12==12.3.1.170 in /opt/conda/envs/rapids/lib/python3.10/site-packages (from torch) (12.3.1.170)\n",
      "Requirement already satisfied: nvidia-nccl-cu12==2.21.5 in /opt/conda/envs/rapids/lib/python3.10/site-packages (from torch) (2.21.5)\n",
      "Requirement already satisfied: nvidia-nvtx-cu12==12.4.127 in /opt/conda/envs/rapids/lib/python3.10/site-packages (from torch) (12.4.127)\n",
      "Requirement already satisfied: nvidia-nvjitlink-cu12==12.4.127 in /opt/conda/envs/rapids/lib/python3.10/site-packages (from torch) (12.4.127)\n",
      "Requirement already satisfied: triton==3.1.0 in /opt/conda/envs/rapids/lib/python3.10/site-packages (from torch) (3.1.0)\n",
      "Requirement already satisfied: sympy==1.13.1 in /opt/conda/envs/rapids/lib/python3.10/site-packages (from torch) (1.13.1)\n",
      "Requirement already satisfied: mpmath<1.4,>=1.1.0 in /opt/conda/envs/rapids/lib/python3.10/site-packages (from sympy==1.13.1->torch) (1.3.0)\n",
      "Requirement already satisfied: MarkupSafe>=2.0 in /opt/conda/envs/rapids/lib/python3.10/site-packages (from jinja2->torch) (2.1.3)\n",
      "Requirement already satisfied: transformers in /opt/conda/envs/rapids/lib/python3.10/site-packages (4.46.3)\n",
      "Requirement already satisfied: filelock in /opt/conda/envs/rapids/lib/python3.10/site-packages (from transformers) (3.16.1)\n",
      "Requirement already satisfied: huggingface-hub<1.0,>=0.23.2 in /opt/conda/envs/rapids/lib/python3.10/site-packages (from transformers) (0.26.2)\n",
      "Requirement already satisfied: numpy>=1.17 in /opt/conda/envs/rapids/lib/python3.10/site-packages (from transformers) (1.24.3)\n",
      "Requirement already satisfied: packaging>=20.0 in /opt/conda/envs/rapids/lib/python3.10/site-packages (from transformers) (23.1)\n",
      "Requirement already satisfied: pyyaml>=5.1 in /opt/conda/envs/rapids/lib/python3.10/site-packages (from transformers) (6.0)\n",
      "Requirement already satisfied: regex!=2019.12.17 in /opt/conda/envs/rapids/lib/python3.10/site-packages (from transformers) (2024.11.6)\n",
      "Requirement already satisfied: requests in /opt/conda/envs/rapids/lib/python3.10/site-packages (from transformers) (2.31.0)\n",
      "Requirement already satisfied: tokenizers<0.21,>=0.20 in /opt/conda/envs/rapids/lib/python3.10/site-packages (from transformers) (0.20.3)\n",
      "Requirement already satisfied: safetensors>=0.4.1 in /opt/conda/envs/rapids/lib/python3.10/site-packages (from transformers) (0.4.5)\n",
      "Requirement already satisfied: tqdm>=4.27 in /opt/conda/envs/rapids/lib/python3.10/site-packages (from transformers) (4.65.0)\n",
      "Requirement already satisfied: fsspec>=2023.5.0 in /opt/conda/envs/rapids/lib/python3.10/site-packages (from huggingface-hub<1.0,>=0.23.2->transformers) (2023.6.0)\n",
      "Requirement already satisfied: typing-extensions>=3.7.4.3 in /opt/conda/envs/rapids/lib/python3.10/site-packages (from huggingface-hub<1.0,>=0.23.2->transformers) (4.12.2)\n",
      "Requirement already satisfied: charset-normalizer<4,>=2 in /opt/conda/envs/rapids/lib/python3.10/site-packages (from requests->transformers) (3.1.0)\n",
      "Requirement already satisfied: idna<4,>=2.5 in /opt/conda/envs/rapids/lib/python3.10/site-packages (from requests->transformers) (3.4)\n",
      "Requirement already satisfied: urllib3<3,>=1.21.1 in /opt/conda/envs/rapids/lib/python3.10/site-packages (from requests->transformers) (1.26.15)\n",
      "Requirement already satisfied: certifi>=2017.4.17 in /opt/conda/envs/rapids/lib/python3.10/site-packages (from requests->transformers) (2023.5.7)\n"
     ]
    }
   ],
   "source": [
    "!/opt/conda/envs/rapids/bin/python -m pip install torch\n",
    "!/opt/conda/envs/rapids/bin/python -m pip install transformers"
   ]
  },
  {
   "cell_type": "code",
   "execution_count": 3,
   "id": "9f75d96c-a9e9-457a-901a-5972fceb6bea",
   "metadata": {
    "tags": []
   },
   "outputs": [],
   "source": [
    "import pandas as pd\n",
    "from sklearn.model_selection import train_test_split\n",
    "from transformers import BertTokenizer, BertForSequenceClassification, Trainer, TrainingArguments\n",
    "import torch"
   ]
  },
  {
   "cell_type": "code",
   "execution_count": 4,
   "id": "3b5d578c-0f62-4dd1-911e-5afd172029bc",
   "metadata": {
    "tags": []
   },
   "outputs": [
    {
     "name": "stderr",
     "output_type": "stream",
     "text": [
      "/tmp/ipykernel_4006585/632160543.py:2: DtypeWarning: Columns (4,5) have mixed types. Specify dtype option on import or set low_memory=False.\n",
      "  data = pd.read_csv(r'Data/NOTEEVENTS.csv',compression = 'gzip')\n"
     ]
    }
   ],
   "source": [
    "# Tokenize the 'text' column and keep the labels (readmitted_within_30_days, OUD, short_term_mortality)\n",
    "data = pd.read_csv(r'Data/NOTEEVENTS.csv',compression = 'gzip')\n",
    "addmissions = pd.read_csv(r'Data/ADMISSIONS.csv',compression = 'gzip')"
   ]
  },
  {
   "cell_type": "code",
   "execution_count": 5,
   "id": "633a6c9f-75fd-496b-a802-cf897be8a6bb",
   "metadata": {
    "tags": []
   },
   "outputs": [
    {
     "data": {
      "text/html": [
       "<div>\n",
       "<style scoped>\n",
       "    .dataframe tbody tr th:only-of-type {\n",
       "        vertical-align: middle;\n",
       "    }\n",
       "\n",
       "    .dataframe tbody tr th {\n",
       "        vertical-align: top;\n",
       "    }\n",
       "\n",
       "    .dataframe thead th {\n",
       "        text-align: right;\n",
       "    }\n",
       "</style>\n",
       "<table border=\"1\" class=\"dataframe\">\n",
       "  <thead>\n",
       "    <tr style=\"text-align: right;\">\n",
       "      <th></th>\n",
       "      <th>ROW_ID</th>\n",
       "      <th>SUBJECT_ID</th>\n",
       "      <th>HADM_ID</th>\n",
       "      <th>CHARTDATE</th>\n",
       "      <th>CHARTTIME</th>\n",
       "      <th>STORETIME</th>\n",
       "      <th>CATEGORY</th>\n",
       "      <th>DESCRIPTION</th>\n",
       "      <th>CGID</th>\n",
       "      <th>ISERROR</th>\n",
       "      <th>TEXT</th>\n",
       "    </tr>\n",
       "  </thead>\n",
       "  <tbody>\n",
       "    <tr>\n",
       "      <th>0</th>\n",
       "      <td>174</td>\n",
       "      <td>22532</td>\n",
       "      <td>167853.0</td>\n",
       "      <td>2151-08-04</td>\n",
       "      <td>NaN</td>\n",
       "      <td>NaN</td>\n",
       "      <td>Discharge summary</td>\n",
       "      <td>Report</td>\n",
       "      <td>NaN</td>\n",
       "      <td>NaN</td>\n",
       "      <td>Admission Date:  [**2151-7-16**]       Dischar...</td>\n",
       "    </tr>\n",
       "    <tr>\n",
       "      <th>1</th>\n",
       "      <td>175</td>\n",
       "      <td>13702</td>\n",
       "      <td>107527.0</td>\n",
       "      <td>2118-06-14</td>\n",
       "      <td>NaN</td>\n",
       "      <td>NaN</td>\n",
       "      <td>Discharge summary</td>\n",
       "      <td>Report</td>\n",
       "      <td>NaN</td>\n",
       "      <td>NaN</td>\n",
       "      <td>Admission Date:  [**2118-6-2**]       Discharg...</td>\n",
       "    </tr>\n",
       "    <tr>\n",
       "      <th>2</th>\n",
       "      <td>176</td>\n",
       "      <td>13702</td>\n",
       "      <td>167118.0</td>\n",
       "      <td>2119-05-25</td>\n",
       "      <td>NaN</td>\n",
       "      <td>NaN</td>\n",
       "      <td>Discharge summary</td>\n",
       "      <td>Report</td>\n",
       "      <td>NaN</td>\n",
       "      <td>NaN</td>\n",
       "      <td>Admission Date:  [**2119-5-4**]              D...</td>\n",
       "    </tr>\n",
       "    <tr>\n",
       "      <th>3</th>\n",
       "      <td>177</td>\n",
       "      <td>13702</td>\n",
       "      <td>196489.0</td>\n",
       "      <td>2124-08-18</td>\n",
       "      <td>NaN</td>\n",
       "      <td>NaN</td>\n",
       "      <td>Discharge summary</td>\n",
       "      <td>Report</td>\n",
       "      <td>NaN</td>\n",
       "      <td>NaN</td>\n",
       "      <td>Admission Date:  [**2124-7-21**]              ...</td>\n",
       "    </tr>\n",
       "    <tr>\n",
       "      <th>4</th>\n",
       "      <td>178</td>\n",
       "      <td>26880</td>\n",
       "      <td>135453.0</td>\n",
       "      <td>2162-03-25</td>\n",
       "      <td>NaN</td>\n",
       "      <td>NaN</td>\n",
       "      <td>Discharge summary</td>\n",
       "      <td>Report</td>\n",
       "      <td>NaN</td>\n",
       "      <td>NaN</td>\n",
       "      <td>Admission Date:  [**2162-3-3**]              D...</td>\n",
       "    </tr>\n",
       "  </tbody>\n",
       "</table>\n",
       "</div>"
      ],
      "text/plain": [
       "   ROW_ID  SUBJECT_ID   HADM_ID   CHARTDATE CHARTTIME STORETIME  \\\n",
       "0     174       22532  167853.0  2151-08-04       NaN       NaN   \n",
       "1     175       13702  107527.0  2118-06-14       NaN       NaN   \n",
       "2     176       13702  167118.0  2119-05-25       NaN       NaN   \n",
       "3     177       13702  196489.0  2124-08-18       NaN       NaN   \n",
       "4     178       26880  135453.0  2162-03-25       NaN       NaN   \n",
       "\n",
       "            CATEGORY DESCRIPTION  CGID  ISERROR  \\\n",
       "0  Discharge summary      Report   NaN      NaN   \n",
       "1  Discharge summary      Report   NaN      NaN   \n",
       "2  Discharge summary      Report   NaN      NaN   \n",
       "3  Discharge summary      Report   NaN      NaN   \n",
       "4  Discharge summary      Report   NaN      NaN   \n",
       "\n",
       "                                                TEXT  \n",
       "0  Admission Date:  [**2151-7-16**]       Dischar...  \n",
       "1  Admission Date:  [**2118-6-2**]       Discharg...  \n",
       "2  Admission Date:  [**2119-5-4**]              D...  \n",
       "3  Admission Date:  [**2124-7-21**]              ...  \n",
       "4  Admission Date:  [**2162-3-3**]              D...  "
      ]
     },
     "execution_count": 5,
     "metadata": {},
     "output_type": "execute_result"
    }
   ],
   "source": [
    "data.head()"
   ]
  },
  {
   "cell_type": "code",
   "execution_count": 6,
   "id": "d4152d6c-b694-4cf7-bfe4-2bb1596a88f2",
   "metadata": {
    "tags": []
   },
   "outputs": [],
   "source": [
    "data.columns = data.columns.str.lower()\n",
    "addmissions.columns = addmissions.columns.str.lower()"
   ]
  },
  {
   "cell_type": "code",
   "execution_count": 7,
   "id": "fe027c4f-ff88-43d2-a302-c7df1e2613ab",
   "metadata": {
    "tags": []
   },
   "outputs": [],
   "source": [
    "data = pd.merge(data,addmissions[['subject_id','hadm_id','dischtime','hospital_expire_flag','ethnicity','religion']],on = ['subject_id','hadm_id'],how = 'left')"
   ]
  },
  {
   "cell_type": "code",
   "execution_count": 8,
   "id": "83935da4-44e9-4693-a68d-10c450a99b3e",
   "metadata": {
    "tags": []
   },
   "outputs": [],
   "source": [
    "data[['chartdate','dischtime']] = data[['chartdate','dischtime']].apply(pd.to_datetime,errors = 'coerce')\n",
    "data['dischtime'] = data['dischtime'] - pd.to_timedelta(1, unit='d')\n",
    "data = data[data['dischtime'] >= data['chartdate']]\n",
    "data.reset_index(inplace = True,drop = True)\n",
    "data = data[['subject_id', 'text', 'ethnicity', 'religion', 'hospital_expire_flag']]"
   ]
  },
  {
   "cell_type": "code",
   "execution_count": 9,
   "id": "9cee2682-ce94-40b9-9352-90cf54aeb236",
   "metadata": {
    "tags": []
   },
   "outputs": [],
   "source": [
    "data = pd.get_dummies(data, columns=['ethnicity', 'religion'])\n"
   ]
  },
  {
   "cell_type": "code",
   "execution_count": 10,
   "id": "28c94d24-d6e2-45c0-b1ec-2d56c5472de6",
   "metadata": {
    "tags": []
   },
   "outputs": [
    {
     "name": "stdout",
     "output_type": "stream",
     "text": [
      "PyTorch is using GPU: NVIDIA A100-SXM4-80GB\n"
     ]
    }
   ],
   "source": [
    "if torch.cuda.is_available():\n",
    "    print(f\"PyTorch is using GPU: {torch.cuda.get_device_name(0)}\")\n",
    "else:\n",
    "    print(\"PyTorch is using CPU\")"
   ]
  },
  {
   "cell_type": "code",
   "execution_count": 11,
   "id": "12880e3c-33d9-4843-8c2c-4aa8e4b30bf6",
   "metadata": {
    "tags": []
   },
   "outputs": [],
   "source": [
    "\n",
    "data['text'] = data['text'].fillna('')  # Handle missing text\n",
    "\n",
    "# Define labels\n",
    "\n",
    "# Initialize BERT tokenizer\n",
    "tokenizer = BertTokenizer.from_pretrained('emilyalsentzer/Bio_ClinicalBERT')\n",
    "\n",
    "# data = data.sample(1000)"
   ]
  },
  {
   "cell_type": "code",
   "execution_count": 12,
   "id": "aec57b13-3ae0-42a5-9fea-f54f79313982",
   "metadata": {
    "tags": []
   },
   "outputs": [
    {
     "name": "stdout",
     "output_type": "stream",
     "text": [
      "1738125\n"
     ]
    }
   ],
   "source": [
    "labels_data = data['hospital_expire_flag']\n",
    "patient_ids = data['subject_id'].values\n",
    "print(len(labels_data))"
   ]
  },
  {
   "cell_type": "code",
   "execution_count": 13,
   "id": "a533f432-9ca3-4543-b474-4371962fddd5",
   "metadata": {
    "tags": []
   },
   "outputs": [],
   "source": [
    "# from concurrent.futures import ThreadPoolExecutor, as_completed\n",
    "# import time\n",
    "# from transformers import AutoTokenizer\n",
    "\n",
    "# # Initialize the tokenizer\n",
    "# # tokenizer = BertTokenizer.from_pretrained('emilyalsentzer/Bio_ClinicalBERT')\n",
    "# tokenizer = AutoTokenizer.from_pretrained(\"bert-base-uncased\", use_fast=True)\n",
    "\n",
    "# # Parameters\n",
    "# batch_size = 100  # Adjust based on your data and system memory\n",
    "# total_batches = len(data['text']) // batch_size + (1 if len(data['text']) % batch_size != 0 else 0)\n",
    "# batches = [data['text'][i:i + batch_size].tolist() for i in range(0, len(data['text']), batch_size)]\n",
    "\n",
    "\n",
    "# tokenized_data_batches = []\n",
    "# tokenized_count = 0\n",
    "# start_time = time.time()\n",
    "# last_print_time = start_time\n",
    "\n",
    "# # Define tokenization function\n",
    "# def tokenize_batch(batch):\n",
    "#     return tokenizer(batch, padding=True, truncation=True, return_tensors='pt')\n",
    "\n",
    "# with ThreadPoolExecutor(max_workers=5) as executor:\n",
    "#     futures = {executor.submit(tokenize_batch, batch): i for i, batch in enumerate(batches)}\n",
    "\n",
    "#     for future in as_completed(futures):\n",
    "#         # Retrieve the tokenized batch and add to results\n",
    "#         tokenized_data_batches.append(future.result())\n",
    "#         tokenized_count += 1\n",
    "        \n",
    "#         # Calculate and print progress every 5 seconds\n",
    "#         current_time = time.time()\n",
    "#         if current_time - last_print_time >= 5:\n",
    "#             progress = (tokenized_count / total_batches) * 100\n",
    "#             print(f\"Progress: {progress:.2f}% of data tokenized\")\n",
    "#             last_print_time = current_time\n",
    "\n",
    "# print(\"Tokenization complete.\")\n",
    "# print(f\"Total time: {time.time() - start_time:.2f} seconds\")\n"
   ]
  },
  {
   "cell_type": "code",
   "execution_count": 15,
   "id": "cff55a53-e9b3-4446-a3e1-a5f7ce344251",
   "metadata": {
    "tags": []
   },
   "outputs": [],
   "source": [
    "device = torch.device(\"cuda\" if torch.cuda.is_available() else \"cpu\")"
   ]
  },
  {
   "cell_type": "code",
   "execution_count": 14,
   "id": "495a5d80-be7c-4df5-8f0b-771cbbac0fe4",
   "metadata": {
    "collapsed": true,
    "jupyter": {
     "outputs_hidden": true
    },
    "tags": []
   },
   "outputs": [
    {
     "name": "stdout",
     "output_type": "stream",
     "text": [
      "Processing batch 1/870 (0.11% completed)\n",
      "Memory Usage: 5783.86 MB (RSS), 18280.98 MB (VMS)\n",
      "Memory Usage: 5847.27 MB (RSS), 18342.52 MB (VMS)\n",
      "Processing batch 2/870 (0.23% completed)\n",
      "Memory Usage: 5847.27 MB (RSS), 18342.52 MB (VMS)\n",
      "Memory Usage: 5871.60 MB (RSS), 18366.95 MB (VMS)\n",
      "Processing batch 3/870 (0.34% completed)\n",
      "Memory Usage: 5871.60 MB (RSS), 18366.95 MB (VMS)\n",
      "Memory Usage: 5887.23 MB (RSS), 18382.58 MB (VMS)\n",
      "Processing batch 4/870 (0.46% completed)\n",
      "Memory Usage: 5887.23 MB (RSS), 18382.58 MB (VMS)\n",
      "Memory Usage: 5910.66 MB (RSS), 18406.02 MB (VMS)\n",
      "Processing batch 5/870 (0.57% completed)\n",
      "Memory Usage: 5910.66 MB (RSS), 18406.02 MB (VMS)\n",
      "Memory Usage: 5934.10 MB (RSS), 18429.45 MB (VMS)\n",
      "Processing batch 6/870 (0.69% completed)\n",
      "Memory Usage: 5934.10 MB (RSS), 18429.45 MB (VMS)\n",
      "Memory Usage: 5957.32 MB (RSS), 18452.89 MB (VMS)\n",
      "Processing batch 7/870 (0.80% completed)\n",
      "Memory Usage: 5957.32 MB (RSS), 18452.89 MB (VMS)\n",
      "Memory Usage: 5980.98 MB (RSS), 18476.33 MB (VMS)\n",
      "Processing batch 8/870 (0.92% completed)\n",
      "Memory Usage: 5980.98 MB (RSS), 18476.33 MB (VMS)\n",
      "Memory Usage: 6004.42 MB (RSS), 18499.77 MB (VMS)\n",
      "Processing batch 9/870 (1.03% completed)\n",
      "Memory Usage: 6004.42 MB (RSS), 18499.77 MB (VMS)\n",
      "Memory Usage: 6027.72 MB (RSS), 18523.20 MB (VMS)\n",
      "Processing batch 10/870 (1.15% completed)\n",
      "Memory Usage: 6027.72 MB (RSS), 18523.20 MB (VMS)\n",
      "Memory Usage: 6051.30 MB (RSS), 18546.64 MB (VMS)\n",
      "Processing batch 11/870 (1.26% completed)\n",
      "Memory Usage: 6051.30 MB (RSS), 18546.64 MB (VMS)\n",
      "Memory Usage: 6074.73 MB (RSS), 18570.08 MB (VMS)\n",
      "Processing batch 12/870 (1.38% completed)\n",
      "Memory Usage: 6074.73 MB (RSS), 18570.08 MB (VMS)\n",
      "Memory Usage: 6098.17 MB (RSS), 18593.52 MB (VMS)\n",
      "Processing batch 13/870 (1.49% completed)\n",
      "Memory Usage: 6098.17 MB (RSS), 18593.52 MB (VMS)\n",
      "Memory Usage: 6121.61 MB (RSS), 18616.95 MB (VMS)\n",
      "Processing batch 14/870 (1.61% completed)\n",
      "Memory Usage: 6121.61 MB (RSS), 18616.95 MB (VMS)\n",
      "Memory Usage: 6145.05 MB (RSS), 18640.39 MB (VMS)\n",
      "Processing batch 15/870 (1.72% completed)\n",
      "Memory Usage: 6145.05 MB (RSS), 18640.39 MB (VMS)\n",
      "Memory Usage: 6168.43 MB (RSS), 18663.83 MB (VMS)\n",
      "Processing batch 16/870 (1.84% completed)\n",
      "Memory Usage: 6168.43 MB (RSS), 18663.83 MB (VMS)\n",
      "Memory Usage: 6191.92 MB (RSS), 18687.27 MB (VMS)\n",
      "Processing batch 17/870 (1.95% completed)\n",
      "Memory Usage: 6191.92 MB (RSS), 18687.27 MB (VMS)\n",
      "Memory Usage: 6215.38 MB (RSS), 18710.70 MB (VMS)\n",
      "Processing batch 18/870 (2.07% completed)\n",
      "Memory Usage: 6215.38 MB (RSS), 18710.70 MB (VMS)\n",
      "Memory Usage: 6238.66 MB (RSS), 18734.14 MB (VMS)\n",
      "Processing batch 19/870 (2.18% completed)\n",
      "Memory Usage: 6238.66 MB (RSS), 18734.14 MB (VMS)\n",
      "Memory Usage: 6262.20 MB (RSS), 18757.58 MB (VMS)\n",
      "Processing batch 20/870 (2.30% completed)\n",
      "Memory Usage: 6262.20 MB (RSS), 18757.58 MB (VMS)\n",
      "Memory Usage: 6285.50 MB (RSS), 18781.02 MB (VMS)\n",
      "Processing batch 21/870 (2.41% completed)\n",
      "Memory Usage: 6285.50 MB (RSS), 18781.02 MB (VMS)\n",
      "Memory Usage: 6309.09 MB (RSS), 18804.45 MB (VMS)\n",
      "Processing batch 22/870 (2.53% completed)\n",
      "Memory Usage: 6309.09 MB (RSS), 18804.45 MB (VMS)\n",
      "Memory Usage: 6332.58 MB (RSS), 18827.89 MB (VMS)\n",
      "Processing batch 23/870 (2.64% completed)\n",
      "Memory Usage: 6332.58 MB (RSS), 18827.89 MB (VMS)\n",
      "Memory Usage: 6355.91 MB (RSS), 18851.33 MB (VMS)\n",
      "Processing batch 24/870 (2.76% completed)\n",
      "Memory Usage: 6355.91 MB (RSS), 18851.33 MB (VMS)\n",
      "Memory Usage: 6379.30 MB (RSS), 18874.77 MB (VMS)\n",
      "Processing batch 25/870 (2.87% completed)\n",
      "Memory Usage: 6379.30 MB (RSS), 18874.77 MB (VMS)\n",
      "Memory Usage: 6402.89 MB (RSS), 18898.21 MB (VMS)\n",
      "Processing batch 26/870 (2.99% completed)\n",
      "Memory Usage: 6402.89 MB (RSS), 18898.21 MB (VMS)\n",
      "Memory Usage: 6426.26 MB (RSS), 18921.64 MB (VMS)\n",
      "Processing batch 27/870 (3.10% completed)\n",
      "Memory Usage: 6426.26 MB (RSS), 18921.64 MB (VMS)\n",
      "Memory Usage: 6449.75 MB (RSS), 18945.08 MB (VMS)\n",
      "Processing batch 28/870 (3.22% completed)\n",
      "Memory Usage: 6449.75 MB (RSS), 18945.08 MB (VMS)\n",
      "Memory Usage: 6473.14 MB (RSS), 18968.52 MB (VMS)\n",
      "Processing batch 29/870 (3.33% completed)\n",
      "Memory Usage: 6473.14 MB (RSS), 18968.52 MB (VMS)\n",
      "Memory Usage: 6496.58 MB (RSS), 18991.96 MB (VMS)\n",
      "Processing batch 30/870 (3.45% completed)\n",
      "Memory Usage: 6496.58 MB (RSS), 18991.96 MB (VMS)\n",
      "Memory Usage: 6519.99 MB (RSS), 19015.39 MB (VMS)\n",
      "Processing batch 31/870 (3.56% completed)\n",
      "Memory Usage: 6519.99 MB (RSS), 19015.39 MB (VMS)\n",
      "Memory Usage: 6543.31 MB (RSS), 19038.83 MB (VMS)\n",
      "Processing batch 32/870 (3.68% completed)\n",
      "Memory Usage: 6543.31 MB (RSS), 19038.83 MB (VMS)\n",
      "Memory Usage: 6566.72 MB (RSS), 19062.27 MB (VMS)\n",
      "Processing batch 33/870 (3.79% completed)\n",
      "Memory Usage: 6566.72 MB (RSS), 19062.27 MB (VMS)\n",
      "Memory Usage: 6590.17 MB (RSS), 19085.71 MB (VMS)\n",
      "Processing batch 34/870 (3.91% completed)\n",
      "Memory Usage: 6590.17 MB (RSS), 19085.71 MB (VMS)\n",
      "Memory Usage: 6613.64 MB (RSS), 19109.14 MB (VMS)\n",
      "Processing batch 35/870 (4.02% completed)\n",
      "Memory Usage: 6613.64 MB (RSS), 19109.14 MB (VMS)\n",
      "Memory Usage: 6637.07 MB (RSS), 19132.58 MB (VMS)\n",
      "Processing batch 36/870 (4.14% completed)\n",
      "Memory Usage: 6637.07 MB (RSS), 19132.58 MB (VMS)\n",
      "Memory Usage: 6660.49 MB (RSS), 19156.02 MB (VMS)\n",
      "Processing batch 37/870 (4.25% completed)\n",
      "Memory Usage: 6660.49 MB (RSS), 19156.02 MB (VMS)\n",
      "Memory Usage: 6684.14 MB (RSS), 19179.46 MB (VMS)\n",
      "Processing batch 38/870 (4.37% completed)\n",
      "Memory Usage: 6684.14 MB (RSS), 19179.46 MB (VMS)\n",
      "Memory Usage: 6707.50 MB (RSS), 19202.89 MB (VMS)\n",
      "Processing batch 39/870 (4.48% completed)\n",
      "Memory Usage: 6707.50 MB (RSS), 19202.89 MB (VMS)\n",
      "Memory Usage: 6730.95 MB (RSS), 19226.33 MB (VMS)\n",
      "Processing batch 40/870 (4.60% completed)\n",
      "Memory Usage: 6730.95 MB (RSS), 19226.33 MB (VMS)\n",
      "Memory Usage: 6754.29 MB (RSS), 19249.77 MB (VMS)\n",
      "Processing batch 41/870 (4.71% completed)\n",
      "Memory Usage: 6754.29 MB (RSS), 19249.77 MB (VMS)\n",
      "Memory Usage: 6777.66 MB (RSS), 19273.21 MB (VMS)\n",
      "Processing batch 42/870 (4.83% completed)\n",
      "Memory Usage: 6777.66 MB (RSS), 19273.21 MB (VMS)\n",
      "Memory Usage: 6801.31 MB (RSS), 19296.64 MB (VMS)\n",
      "Processing batch 43/870 (4.94% completed)\n",
      "Memory Usage: 6801.31 MB (RSS), 19296.64 MB (VMS)\n",
      "Memory Usage: 6824.59 MB (RSS), 19320.08 MB (VMS)\n",
      "Processing batch 44/870 (5.06% completed)\n",
      "Memory Usage: 6824.59 MB (RSS), 19320.08 MB (VMS)\n",
      "Memory Usage: 6848.05 MB (RSS), 19343.52 MB (VMS)\n",
      "Processing batch 45/870 (5.17% completed)\n",
      "Memory Usage: 6848.05 MB (RSS), 19343.52 MB (VMS)\n",
      "Memory Usage: 6871.47 MB (RSS), 19366.96 MB (VMS)\n",
      "Processing batch 46/870 (5.29% completed)\n",
      "Memory Usage: 6871.47 MB (RSS), 19366.96 MB (VMS)\n",
      "Memory Usage: 6895.04 MB (RSS), 19390.40 MB (VMS)\n",
      "Processing batch 47/870 (5.40% completed)\n",
      "Memory Usage: 6895.04 MB (RSS), 19390.40 MB (VMS)\n",
      "Memory Usage: 6918.29 MB (RSS), 19413.84 MB (VMS)\n",
      "Processing batch 48/870 (5.52% completed)\n",
      "Memory Usage: 6918.52 MB (RSS), 19413.84 MB (VMS)\n",
      "Memory Usage: 6941.96 MB (RSS), 19437.27 MB (VMS)\n",
      "Processing batch 49/870 (5.63% completed)\n",
      "Memory Usage: 6941.96 MB (RSS), 19437.27 MB (VMS)\n",
      "Memory Usage: 6965.36 MB (RSS), 19460.71 MB (VMS)\n",
      "Processing batch 50/870 (5.75% completed)\n",
      "Memory Usage: 6965.36 MB (RSS), 19460.71 MB (VMS)\n",
      "Memory Usage: 6988.84 MB (RSS), 19484.15 MB (VMS)\n",
      "Processing batch 51/870 (5.86% completed)\n",
      "Memory Usage: 6988.84 MB (RSS), 19484.15 MB (VMS)\n",
      "Memory Usage: 7012.22 MB (RSS), 19507.59 MB (VMS)\n",
      "Processing batch 52/870 (5.98% completed)\n",
      "Memory Usage: 7012.22 MB (RSS), 19507.59 MB (VMS)\n",
      "Memory Usage: 7035.67 MB (RSS), 19531.02 MB (VMS)\n",
      "Processing batch 53/870 (6.09% completed)\n",
      "Memory Usage: 7035.67 MB (RSS), 19531.02 MB (VMS)\n",
      "Memory Usage: 7058.93 MB (RSS), 19554.46 MB (VMS)\n",
      "Processing batch 54/870 (6.21% completed)\n",
      "Memory Usage: 7058.93 MB (RSS), 19554.46 MB (VMS)\n",
      "Memory Usage: 7082.43 MB (RSS), 19577.90 MB (VMS)\n",
      "Processing batch 55/870 (6.32% completed)\n",
      "Memory Usage: 7082.43 MB (RSS), 19577.90 MB (VMS)\n",
      "Memory Usage: 7105.91 MB (RSS), 19601.34 MB (VMS)\n",
      "Processing batch 56/870 (6.44% completed)\n",
      "Memory Usage: 7105.91 MB (RSS), 19601.34 MB (VMS)\n",
      "Memory Usage: 7129.39 MB (RSS), 19624.77 MB (VMS)\n",
      "Processing batch 57/870 (6.55% completed)\n",
      "Memory Usage: 7129.39 MB (RSS), 19624.77 MB (VMS)\n",
      "Memory Usage: 7152.65 MB (RSS), 19648.21 MB (VMS)\n",
      "Processing batch 58/870 (6.67% completed)\n",
      "Memory Usage: 7152.65 MB (RSS), 19648.21 MB (VMS)\n",
      "Memory Usage: 7176.20 MB (RSS), 19671.65 MB (VMS)\n",
      "Processing batch 59/870 (6.78% completed)\n",
      "Memory Usage: 7176.20 MB (RSS), 19671.65 MB (VMS)\n",
      "Memory Usage: 7199.73 MB (RSS), 19695.09 MB (VMS)\n",
      "Processing batch 60/870 (6.90% completed)\n",
      "Memory Usage: 7199.73 MB (RSS), 19695.09 MB (VMS)\n",
      "Memory Usage: 7223.06 MB (RSS), 19718.52 MB (VMS)\n",
      "Processing batch 61/870 (7.01% completed)\n",
      "Memory Usage: 7223.06 MB (RSS), 19718.52 MB (VMS)\n",
      "Memory Usage: 7246.43 MB (RSS), 19741.96 MB (VMS)\n",
      "Processing batch 62/870 (7.13% completed)\n",
      "Memory Usage: 7246.43 MB (RSS), 19741.96 MB (VMS)\n",
      "Memory Usage: 7270.09 MB (RSS), 19765.40 MB (VMS)\n",
      "Processing batch 63/870 (7.24% completed)\n",
      "Memory Usage: 7270.09 MB (RSS), 19765.40 MB (VMS)\n",
      "Memory Usage: 7293.32 MB (RSS), 19788.84 MB (VMS)\n",
      "Processing batch 64/870 (7.36% completed)\n",
      "Memory Usage: 7293.32 MB (RSS), 19788.84 MB (VMS)\n",
      "Memory Usage: 7316.85 MB (RSS), 19812.27 MB (VMS)\n",
      "Processing batch 65/870 (7.47% completed)\n",
      "Memory Usage: 7316.85 MB (RSS), 19812.27 MB (VMS)\n",
      "Memory Usage: 7340.32 MB (RSS), 19835.71 MB (VMS)\n",
      "Processing batch 66/870 (7.59% completed)\n",
      "Memory Usage: 7340.32 MB (RSS), 19835.71 MB (VMS)\n",
      "Memory Usage: 7363.76 MB (RSS), 19859.15 MB (VMS)\n",
      "Processing batch 67/870 (7.70% completed)\n",
      "Memory Usage: 7363.76 MB (RSS), 19859.15 MB (VMS)\n",
      "Memory Usage: 7387.17 MB (RSS), 19882.59 MB (VMS)\n",
      "Processing batch 68/870 (7.82% completed)\n",
      "Memory Usage: 7387.17 MB (RSS), 19882.59 MB (VMS)\n",
      "Memory Usage: 7410.46 MB (RSS), 19906.03 MB (VMS)\n",
      "Processing batch 69/870 (7.93% completed)\n",
      "Memory Usage: 7410.46 MB (RSS), 19906.03 MB (VMS)\n",
      "Memory Usage: 7433.91 MB (RSS), 19929.46 MB (VMS)\n",
      "Processing batch 70/870 (8.05% completed)\n",
      "Memory Usage: 7433.91 MB (RSS), 19929.46 MB (VMS)\n",
      "Memory Usage: 7457.47 MB (RSS), 19952.90 MB (VMS)\n",
      "Processing batch 71/870 (8.16% completed)\n",
      "Memory Usage: 7457.47 MB (RSS), 19952.90 MB (VMS)\n",
      "Memory Usage: 7481.02 MB (RSS), 19976.34 MB (VMS)\n",
      "Processing batch 72/870 (8.28% completed)\n",
      "Memory Usage: 7481.02 MB (RSS), 19976.34 MB (VMS)\n",
      "Memory Usage: 7504.34 MB (RSS), 19999.78 MB (VMS)\n",
      "Processing batch 73/870 (8.39% completed)\n",
      "Memory Usage: 7504.34 MB (RSS), 19999.78 MB (VMS)\n",
      "Memory Usage: 7527.90 MB (RSS), 20023.21 MB (VMS)\n",
      "Processing batch 74/870 (8.51% completed)\n",
      "Memory Usage: 7527.90 MB (RSS), 20023.21 MB (VMS)\n",
      "Memory Usage: 7551.22 MB (RSS), 20046.65 MB (VMS)\n",
      "Processing batch 75/870 (8.62% completed)\n",
      "Memory Usage: 7551.22 MB (RSS), 20046.65 MB (VMS)\n",
      "Memory Usage: 7574.58 MB (RSS), 20070.09 MB (VMS)\n",
      "Processing batch 76/870 (8.74% completed)\n",
      "Memory Usage: 7574.58 MB (RSS), 20070.09 MB (VMS)\n",
      "Memory Usage: 7598.21 MB (RSS), 20093.53 MB (VMS)\n",
      "Processing batch 77/870 (8.85% completed)\n",
      "Memory Usage: 7598.22 MB (RSS), 20093.53 MB (VMS)\n",
      "Memory Usage: 7621.62 MB (RSS), 20116.96 MB (VMS)\n",
      "Processing batch 78/870 (8.97% completed)\n",
      "Memory Usage: 7621.62 MB (RSS), 20116.96 MB (VMS)\n",
      "Memory Usage: 7645.04 MB (RSS), 20140.40 MB (VMS)\n",
      "Processing batch 79/870 (9.08% completed)\n",
      "Memory Usage: 7645.04 MB (RSS), 20140.40 MB (VMS)\n",
      "Memory Usage: 7668.29 MB (RSS), 20163.84 MB (VMS)\n",
      "Processing batch 80/870 (9.20% completed)\n",
      "Memory Usage: 7668.29 MB (RSS), 20163.84 MB (VMS)\n",
      "Memory Usage: 7691.72 MB (RSS), 20187.28 MB (VMS)\n",
      "Processing batch 81/870 (9.31% completed)\n",
      "Memory Usage: 7691.72 MB (RSS), 20187.28 MB (VMS)\n",
      "Memory Usage: 7715.37 MB (RSS), 20210.71 MB (VMS)\n",
      "Processing batch 82/870 (9.43% completed)\n",
      "Memory Usage: 7715.37 MB (RSS), 20210.71 MB (VMS)\n",
      "Memory Usage: 7738.74 MB (RSS), 20234.15 MB (VMS)\n",
      "Processing batch 83/870 (9.54% completed)\n",
      "Memory Usage: 7738.74 MB (RSS), 20234.15 MB (VMS)\n",
      "Memory Usage: 7762.04 MB (RSS), 20257.59 MB (VMS)\n",
      "Processing batch 84/870 (9.66% completed)\n",
      "Memory Usage: 7762.04 MB (RSS), 20257.59 MB (VMS)\n",
      "Memory Usage: 7785.72 MB (RSS), 20281.03 MB (VMS)\n",
      "Processing batch 85/870 (9.77% completed)\n",
      "Memory Usage: 7785.72 MB (RSS), 20281.03 MB (VMS)\n",
      "Memory Usage: 7808.95 MB (RSS), 20304.46 MB (VMS)\n",
      "Processing batch 86/870 (9.89% completed)\n",
      "Memory Usage: 7809.16 MB (RSS), 20304.46 MB (VMS)\n",
      "Memory Usage: 7832.59 MB (RSS), 20327.90 MB (VMS)\n",
      "Processing batch 87/870 (10.00% completed)\n",
      "Memory Usage: 7832.59 MB (RSS), 20327.90 MB (VMS)\n",
      "Memory Usage: 7855.92 MB (RSS), 20351.34 MB (VMS)\n",
      "Processing batch 88/870 (10.11% completed)\n",
      "Memory Usage: 7855.92 MB (RSS), 20351.34 MB (VMS)\n",
      "Memory Usage: 7879.47 MB (RSS), 20374.78 MB (VMS)\n",
      "Processing batch 89/870 (10.23% completed)\n",
      "Memory Usage: 7879.47 MB (RSS), 20374.78 MB (VMS)\n",
      "Memory Usage: 7902.91 MB (RSS), 20398.22 MB (VMS)\n",
      "Processing batch 90/870 (10.34% completed)\n",
      "Memory Usage: 7902.91 MB (RSS), 20398.22 MB (VMS)\n",
      "Memory Usage: 7926.35 MB (RSS), 20421.66 MB (VMS)\n",
      "Processing batch 91/870 (10.46% completed)\n",
      "Memory Usage: 7926.35 MB (RSS), 20421.66 MB (VMS)\n",
      "Memory Usage: 7949.79 MB (RSS), 20445.09 MB (VMS)\n",
      "Processing batch 92/870 (10.57% completed)\n",
      "Memory Usage: 7949.79 MB (RSS), 20445.09 MB (VMS)\n",
      "Memory Usage: 7973.22 MB (RSS), 20468.53 MB (VMS)\n",
      "Processing batch 93/870 (10.69% completed)\n",
      "Memory Usage: 7973.22 MB (RSS), 20468.53 MB (VMS)\n",
      "Memory Usage: 7996.66 MB (RSS), 20491.97 MB (VMS)\n",
      "Processing batch 94/870 (10.80% completed)\n",
      "Memory Usage: 7996.66 MB (RSS), 20491.97 MB (VMS)\n",
      "Memory Usage: 8020.10 MB (RSS), 20515.41 MB (VMS)\n",
      "Processing batch 95/870 (10.92% completed)\n",
      "Memory Usage: 8020.10 MB (RSS), 20515.41 MB (VMS)\n",
      "Memory Usage: 8043.54 MB (RSS), 20538.84 MB (VMS)\n",
      "Processing batch 96/870 (11.03% completed)\n",
      "Memory Usage: 8043.54 MB (RSS), 20538.84 MB (VMS)\n",
      "Memory Usage: 8066.97 MB (RSS), 20562.28 MB (VMS)\n",
      "Processing batch 97/870 (11.15% completed)\n",
      "Memory Usage: 8066.97 MB (RSS), 20562.28 MB (VMS)\n",
      "Memory Usage: 8090.31 MB (RSS), 20585.72 MB (VMS)\n",
      "Processing batch 98/870 (11.26% completed)\n",
      "Memory Usage: 8090.31 MB (RSS), 20585.72 MB (VMS)\n",
      "Memory Usage: 8113.85 MB (RSS), 20609.16 MB (VMS)\n",
      "Processing batch 99/870 (11.38% completed)\n",
      "Memory Usage: 8113.85 MB (RSS), 20609.16 MB (VMS)\n",
      "Memory Usage: 8137.25 MB (RSS), 20632.59 MB (VMS)\n",
      "Processing batch 100/870 (11.49% completed)\n",
      "Memory Usage: 8137.25 MB (RSS), 20632.59 MB (VMS)\n",
      "Memory Usage: 8160.58 MB (RSS), 20656.03 MB (VMS)\n",
      "Processing batch 101/870 (11.61% completed)\n",
      "Memory Usage: 8160.58 MB (RSS), 20656.03 MB (VMS)\n",
      "Memory Usage: 8184.16 MB (RSS), 20679.47 MB (VMS)\n",
      "Processing batch 102/870 (11.72% completed)\n",
      "Memory Usage: 8184.16 MB (RSS), 20679.47 MB (VMS)\n",
      "Memory Usage: 8207.56 MB (RSS), 20702.91 MB (VMS)\n",
      "Processing batch 103/870 (11.84% completed)\n",
      "Memory Usage: 8207.56 MB (RSS), 20702.91 MB (VMS)\n",
      "Memory Usage: 8230.97 MB (RSS), 20726.34 MB (VMS)\n",
      "Processing batch 104/870 (11.95% completed)\n",
      "Memory Usage: 8230.97 MB (RSS), 20726.34 MB (VMS)\n",
      "Memory Usage: 8254.47 MB (RSS), 20749.78 MB (VMS)\n",
      "Processing batch 105/870 (12.07% completed)\n",
      "Memory Usage: 8254.47 MB (RSS), 20749.78 MB (VMS)\n",
      "Memory Usage: 8277.91 MB (RSS), 20773.22 MB (VMS)\n",
      "Processing batch 106/870 (12.18% completed)\n",
      "Memory Usage: 8277.91 MB (RSS), 20773.22 MB (VMS)\n",
      "Memory Usage: 8301.23 MB (RSS), 20796.66 MB (VMS)\n",
      "Processing batch 107/870 (12.30% completed)\n",
      "Memory Usage: 8301.23 MB (RSS), 20796.66 MB (VMS)\n",
      "Memory Usage: 8324.79 MB (RSS), 20820.09 MB (VMS)\n",
      "Processing batch 108/870 (12.41% completed)\n",
      "Memory Usage: 8324.79 MB (RSS), 20820.09 MB (VMS)\n",
      "Memory Usage: 8348.23 MB (RSS), 20843.54 MB (VMS)\n",
      "Processing batch 109/870 (12.53% completed)\n",
      "Memory Usage: 8348.23 MB (RSS), 20843.54 MB (VMS)\n",
      "Memory Usage: 8371.66 MB (RSS), 20866.97 MB (VMS)\n",
      "Processing batch 110/870 (12.64% completed)\n",
      "Memory Usage: 8371.66 MB (RSS), 20866.97 MB (VMS)\n",
      "Memory Usage: 8395.10 MB (RSS), 20890.41 MB (VMS)\n",
      "Processing batch 111/870 (12.76% completed)\n",
      "Memory Usage: 8395.10 MB (RSS), 20890.41 MB (VMS)\n",
      "Memory Usage: 8418.54 MB (RSS), 20913.85 MB (VMS)\n",
      "Processing batch 112/870 (12.87% completed)\n",
      "Memory Usage: 8418.54 MB (RSS), 20913.85 MB (VMS)\n",
      "Memory Usage: 8441.96 MB (RSS), 20937.29 MB (VMS)\n",
      "Processing batch 113/870 (12.99% completed)\n",
      "Memory Usage: 8441.96 MB (RSS), 20937.29 MB (VMS)\n",
      "Memory Usage: 8465.38 MB (RSS), 20960.72 MB (VMS)\n",
      "Processing batch 114/870 (13.10% completed)\n",
      "Memory Usage: 8465.38 MB (RSS), 20960.72 MB (VMS)\n",
      "Memory Usage: 8488.85 MB (RSS), 20984.16 MB (VMS)\n",
      "Processing batch 115/870 (13.22% completed)\n",
      "Memory Usage: 8488.85 MB (RSS), 20984.16 MB (VMS)\n",
      "Memory Usage: 8512.18 MB (RSS), 21007.60 MB (VMS)\n",
      "Processing batch 116/870 (13.33% completed)\n",
      "Memory Usage: 8512.18 MB (RSS), 21007.60 MB (VMS)\n",
      "Memory Usage: 8535.67 MB (RSS), 21031.04 MB (VMS)\n",
      "Processing batch 117/870 (13.45% completed)\n",
      "Memory Usage: 8535.67 MB (RSS), 21031.04 MB (VMS)\n",
      "Memory Usage: 8559.16 MB (RSS), 21054.47 MB (VMS)\n",
      "Processing batch 118/870 (13.56% completed)\n",
      "Memory Usage: 8559.16 MB (RSS), 21054.47 MB (VMS)\n",
      "Memory Usage: 8582.60 MB (RSS), 21077.91 MB (VMS)\n",
      "Processing batch 119/870 (13.68% completed)\n",
      "Memory Usage: 8582.60 MB (RSS), 21077.91 MB (VMS)\n",
      "Memory Usage: 8606.04 MB (RSS), 21101.35 MB (VMS)\n",
      "Processing batch 120/870 (13.79% completed)\n",
      "Memory Usage: 8606.04 MB (RSS), 21101.35 MB (VMS)\n",
      "Memory Usage: 8629.48 MB (RSS), 21124.79 MB (VMS)\n",
      "Processing batch 121/870 (13.91% completed)\n",
      "Memory Usage: 8629.48 MB (RSS), 21124.79 MB (VMS)\n",
      "Memory Usage: 8652.77 MB (RSS), 21148.22 MB (VMS)\n",
      "Processing batch 122/870 (14.02% completed)\n",
      "Memory Usage: 8652.77 MB (RSS), 21148.22 MB (VMS)\n",
      "Memory Usage: 8676.35 MB (RSS), 21171.66 MB (VMS)\n",
      "Processing batch 123/870 (14.14% completed)\n",
      "Memory Usage: 8676.35 MB (RSS), 21171.66 MB (VMS)\n",
      "Memory Usage: 8699.75 MB (RSS), 21195.10 MB (VMS)\n",
      "Processing batch 124/870 (14.25% completed)\n",
      "Memory Usage: 8699.75 MB (RSS), 21195.10 MB (VMS)\n",
      "Memory Usage: 8723.23 MB (RSS), 21218.54 MB (VMS)\n",
      "Processing batch 125/870 (14.37% completed)\n",
      "Memory Usage: 8723.23 MB (RSS), 21218.54 MB (VMS)\n",
      "Memory Usage: 8746.64 MB (RSS), 21241.97 MB (VMS)\n",
      "Processing batch 126/870 (14.48% completed)\n",
      "Memory Usage: 8746.64 MB (RSS), 21241.97 MB (VMS)\n",
      "Memory Usage: 8770.10 MB (RSS), 21265.41 MB (VMS)\n",
      "Processing batch 127/870 (14.60% completed)\n",
      "Memory Usage: 8770.10 MB (RSS), 21265.41 MB (VMS)\n",
      "Memory Usage: 8793.50 MB (RSS), 21288.85 MB (VMS)\n",
      "Processing batch 128/870 (14.71% completed)\n",
      "Memory Usage: 8793.50 MB (RSS), 21288.85 MB (VMS)\n",
      "Memory Usage: 8816.98 MB (RSS), 21312.29 MB (VMS)\n",
      "Processing batch 129/870 (14.83% completed)\n",
      "Memory Usage: 8816.98 MB (RSS), 21312.29 MB (VMS)\n",
      "Memory Usage: 8840.41 MB (RSS), 21335.72 MB (VMS)\n",
      "Processing batch 130/870 (14.94% completed)\n",
      "Memory Usage: 8840.41 MB (RSS), 21335.72 MB (VMS)\n",
      "Memory Usage: 8863.86 MB (RSS), 21359.16 MB (VMS)\n",
      "Processing batch 131/870 (15.06% completed)\n",
      "Memory Usage: 8863.86 MB (RSS), 21359.16 MB (VMS)\n",
      "Memory Usage: 8887.11 MB (RSS), 21382.60 MB (VMS)\n",
      "Processing batch 132/870 (15.17% completed)\n",
      "Memory Usage: 8887.30 MB (RSS), 21382.60 MB (VMS)\n",
      "Memory Usage: 8910.73 MB (RSS), 21406.04 MB (VMS)\n",
      "Processing batch 133/870 (15.29% completed)\n",
      "Memory Usage: 8910.73 MB (RSS), 21406.04 MB (VMS)\n",
      "Memory Usage: 8934.01 MB (RSS), 21429.48 MB (VMS)\n",
      "Processing batch 134/870 (15.40% completed)\n",
      "Memory Usage: 8934.01 MB (RSS), 21429.48 MB (VMS)\n",
      "Memory Usage: 8957.61 MB (RSS), 21452.91 MB (VMS)\n",
      "Processing batch 135/870 (15.52% completed)\n",
      "Memory Usage: 8957.61 MB (RSS), 21452.91 MB (VMS)\n",
      "Memory Usage: 8980.89 MB (RSS), 21476.35 MB (VMS)\n",
      "Processing batch 136/870 (15.63% completed)\n",
      "Memory Usage: 8980.89 MB (RSS), 21476.35 MB (VMS)\n",
      "Memory Usage: 9004.48 MB (RSS), 21499.79 MB (VMS)\n",
      "Processing batch 137/870 (15.75% completed)\n",
      "Memory Usage: 9004.48 MB (RSS), 21499.79 MB (VMS)\n",
      "Memory Usage: 9027.92 MB (RSS), 21523.23 MB (VMS)\n",
      "Processing batch 138/870 (15.86% completed)\n",
      "Memory Usage: 9027.92 MB (RSS), 21523.23 MB (VMS)\n",
      "Memory Usage: 9051.36 MB (RSS), 21546.66 MB (VMS)\n",
      "Processing batch 139/870 (15.98% completed)\n",
      "Memory Usage: 9051.36 MB (RSS), 21546.66 MB (VMS)\n",
      "Memory Usage: 9074.66 MB (RSS), 21570.10 MB (VMS)\n",
      "Processing batch 140/870 (16.09% completed)\n",
      "Memory Usage: 9074.66 MB (RSS), 21570.10 MB (VMS)\n",
      "Memory Usage: 9098.08 MB (RSS), 21593.54 MB (VMS)\n",
      "Processing batch 141/870 (16.21% completed)\n",
      "Memory Usage: 9098.08 MB (RSS), 21593.54 MB (VMS)\n",
      "Memory Usage: 9121.67 MB (RSS), 21616.98 MB (VMS)\n",
      "Processing batch 142/870 (16.32% completed)\n",
      "Memory Usage: 9121.67 MB (RSS), 21616.98 MB (VMS)\n",
      "Memory Usage: 9145.02 MB (RSS), 21640.41 MB (VMS)\n",
      "Processing batch 143/870 (16.44% completed)\n",
      "Memory Usage: 9145.02 MB (RSS), 21640.41 MB (VMS)\n",
      "Memory Usage: 9168.55 MB (RSS), 21663.85 MB (VMS)\n",
      "Processing batch 144/870 (16.55% completed)\n",
      "Memory Usage: 9168.55 MB (RSS), 21663.85 MB (VMS)\n",
      "Memory Usage: 9191.87 MB (RSS), 21687.29 MB (VMS)\n",
      "Processing batch 145/870 (16.67% completed)\n",
      "Memory Usage: 9191.87 MB (RSS), 21687.29 MB (VMS)\n",
      "Memory Usage: 9215.42 MB (RSS), 21710.73 MB (VMS)\n",
      "Processing batch 146/870 (16.78% completed)\n",
      "Memory Usage: 9215.42 MB (RSS), 21710.73 MB (VMS)\n",
      "Memory Usage: 9238.75 MB (RSS), 21734.16 MB (VMS)\n",
      "Processing batch 147/870 (16.90% completed)\n",
      "Memory Usage: 9238.75 MB (RSS), 21734.16 MB (VMS)\n",
      "Memory Usage: 9262.24 MB (RSS), 21757.60 MB (VMS)\n",
      "Processing batch 148/870 (17.01% completed)\n",
      "Memory Usage: 9262.24 MB (RSS), 21757.60 MB (VMS)\n",
      "Memory Usage: 9285.73 MB (RSS), 21781.04 MB (VMS)\n",
      "Processing batch 149/870 (17.13% completed)\n",
      "Memory Usage: 9285.73 MB (RSS), 21781.04 MB (VMS)\n",
      "Memory Usage: 9309.17 MB (RSS), 21804.48 MB (VMS)\n",
      "Processing batch 150/870 (17.24% completed)\n",
      "Memory Usage: 9309.17 MB (RSS), 21804.48 MB (VMS)\n",
      "Memory Usage: 9332.61 MB (RSS), 21827.91 MB (VMS)\n",
      "Processing batch 151/870 (17.36% completed)\n",
      "Memory Usage: 9332.61 MB (RSS), 21827.91 MB (VMS)\n",
      "Memory Usage: 9356.00 MB (RSS), 21851.36 MB (VMS)\n",
      "Processing batch 152/870 (17.47% completed)\n",
      "Memory Usage: 9356.00 MB (RSS), 21851.36 MB (VMS)\n",
      "Memory Usage: 9379.49 MB (RSS), 21874.79 MB (VMS)\n",
      "Processing batch 153/870 (17.59% completed)\n",
      "Memory Usage: 9379.49 MB (RSS), 21874.79 MB (VMS)\n",
      "Memory Usage: 9402.81 MB (RSS), 21898.23 MB (VMS)\n",
      "Processing batch 154/870 (17.70% completed)\n",
      "Memory Usage: 9402.81 MB (RSS), 21898.23 MB (VMS)\n",
      "Memory Usage: 9426.26 MB (RSS), 21921.67 MB (VMS)\n",
      "Processing batch 155/870 (17.82% completed)\n",
      "Memory Usage: 9426.26 MB (RSS), 21921.67 MB (VMS)\n",
      "Memory Usage: 9449.80 MB (RSS), 21945.11 MB (VMS)\n",
      "Processing batch 156/870 (17.93% completed)\n",
      "Memory Usage: 9449.80 MB (RSS), 21945.11 MB (VMS)\n",
      "Memory Usage: 9473.08 MB (RSS), 21968.54 MB (VMS)\n",
      "Processing batch 157/870 (18.05% completed)\n",
      "Memory Usage: 9473.08 MB (RSS), 21968.54 MB (VMS)\n",
      "Memory Usage: 9496.68 MB (RSS), 21991.98 MB (VMS)\n",
      "Processing batch 158/870 (18.16% completed)\n",
      "Memory Usage: 9496.68 MB (RSS), 21991.98 MB (VMS)\n",
      "Memory Usage: 9520.04 MB (RSS), 22015.42 MB (VMS)\n",
      "Processing batch 159/870 (18.28% completed)\n",
      "Memory Usage: 9520.04 MB (RSS), 22015.42 MB (VMS)\n",
      "Memory Usage: 9543.55 MB (RSS), 22038.86 MB (VMS)\n",
      "Processing batch 160/870 (18.39% completed)\n",
      "Memory Usage: 9543.55 MB (RSS), 22038.86 MB (VMS)\n",
      "Memory Usage: 9566.95 MB (RSS), 22062.29 MB (VMS)\n",
      "Processing batch 161/870 (18.51% completed)\n",
      "Memory Usage: 9566.95 MB (RSS), 22062.29 MB (VMS)\n",
      "Memory Usage: 9590.43 MB (RSS), 22085.73 MB (VMS)\n",
      "Processing batch 162/870 (18.62% completed)\n",
      "Memory Usage: 9590.43 MB (RSS), 22085.73 MB (VMS)\n",
      "Memory Usage: 9613.86 MB (RSS), 22109.17 MB (VMS)\n",
      "Processing batch 163/870 (18.74% completed)\n",
      "Memory Usage: 9613.86 MB (RSS), 22109.17 MB (VMS)\n",
      "Memory Usage: 9637.30 MB (RSS), 22132.61 MB (VMS)\n",
      "Processing batch 164/870 (18.85% completed)\n",
      "Memory Usage: 9637.30 MB (RSS), 22132.61 MB (VMS)\n",
      "Memory Usage: 9660.61 MB (RSS), 22156.04 MB (VMS)\n",
      "Processing batch 165/870 (18.97% completed)\n",
      "Memory Usage: 9660.61 MB (RSS), 22156.04 MB (VMS)\n",
      "Memory Usage: 9684.18 MB (RSS), 22179.48 MB (VMS)\n",
      "Processing batch 166/870 (19.08% completed)\n",
      "Memory Usage: 9684.18 MB (RSS), 22179.48 MB (VMS)\n",
      "Memory Usage: 9707.59 MB (RSS), 22202.92 MB (VMS)\n",
      "Processing batch 167/870 (19.20% completed)\n",
      "Memory Usage: 9707.59 MB (RSS), 22202.92 MB (VMS)\n",
      "Memory Usage: 9730.95 MB (RSS), 22226.36 MB (VMS)\n",
      "Processing batch 168/870 (19.31% completed)\n",
      "Memory Usage: 9730.95 MB (RSS), 22226.36 MB (VMS)\n",
      "Memory Usage: 9754.49 MB (RSS), 22249.79 MB (VMS)\n",
      "Processing batch 169/870 (19.43% completed)\n",
      "Memory Usage: 9754.49 MB (RSS), 22249.79 MB (VMS)\n",
      "Memory Usage: 9777.90 MB (RSS), 22273.23 MB (VMS)\n",
      "Processing batch 170/870 (19.54% completed)\n",
      "Memory Usage: 9777.90 MB (RSS), 22273.23 MB (VMS)\n",
      "Memory Usage: 9801.36 MB (RSS), 22296.67 MB (VMS)\n",
      "Processing batch 171/870 (19.66% completed)\n",
      "Memory Usage: 9801.36 MB (RSS), 22296.67 MB (VMS)\n",
      "Memory Usage: 9824.70 MB (RSS), 22320.11 MB (VMS)\n",
      "Processing batch 172/870 (19.77% completed)\n",
      "Memory Usage: 9824.70 MB (RSS), 22320.11 MB (VMS)\n",
      "Memory Usage: 9848.24 MB (RSS), 22343.55 MB (VMS)\n",
      "Processing batch 173/870 (19.89% completed)\n",
      "Memory Usage: 9848.24 MB (RSS), 22343.55 MB (VMS)\n",
      "Memory Usage: 9871.49 MB (RSS), 22366.98 MB (VMS)\n",
      "Processing batch 174/870 (20.00% completed)\n",
      "Memory Usage: 9871.49 MB (RSS), 22366.98 MB (VMS)\n",
      "Memory Usage: 9895.12 MB (RSS), 22390.42 MB (VMS)\n",
      "Processing batch 175/870 (20.11% completed)\n",
      "Memory Usage: 9895.12 MB (RSS), 22390.42 MB (VMS)\n",
      "Memory Usage: 9918.55 MB (RSS), 22413.86 MB (VMS)\n",
      "Processing batch 176/870 (20.23% completed)\n",
      "Memory Usage: 9918.55 MB (RSS), 22413.86 MB (VMS)\n",
      "Memory Usage: 9941.99 MB (RSS), 22437.30 MB (VMS)\n",
      "Processing batch 177/870 (20.34% completed)\n",
      "Memory Usage: 9941.99 MB (RSS), 22437.30 MB (VMS)\n",
      "Memory Usage: 9965.28 MB (RSS), 22460.73 MB (VMS)\n",
      "Processing batch 178/870 (20.46% completed)\n",
      "Memory Usage: 9965.28 MB (RSS), 22460.73 MB (VMS)\n",
      "Memory Usage: 9988.87 MB (RSS), 22484.17 MB (VMS)\n",
      "Processing batch 179/870 (20.57% completed)\n",
      "Memory Usage: 9988.87 MB (RSS), 22484.17 MB (VMS)\n",
      "Memory Usage: 10012.20 MB (RSS), 22507.61 MB (VMS)\n",
      "Processing batch 180/870 (20.69% completed)\n",
      "Memory Usage: 10012.20 MB (RSS), 22507.61 MB (VMS)\n",
      "Memory Usage: 10035.73 MB (RSS), 22531.05 MB (VMS)\n",
      "Processing batch 181/870 (20.80% completed)\n",
      "Memory Usage: 10035.73 MB (RSS), 22531.05 MB (VMS)\n",
      "Memory Usage: 10059.18 MB (RSS), 22554.48 MB (VMS)\n",
      "Processing batch 182/870 (20.92% completed)\n",
      "Memory Usage: 10059.18 MB (RSS), 22554.48 MB (VMS)\n",
      "Memory Usage: 10082.62 MB (RSS), 22577.92 MB (VMS)\n",
      "Processing batch 183/870 (21.03% completed)\n",
      "Memory Usage: 10082.62 MB (RSS), 22577.92 MB (VMS)\n",
      "Memory Usage: 10106.05 MB (RSS), 22601.36 MB (VMS)\n",
      "Processing batch 184/870 (21.15% completed)\n",
      "Memory Usage: 10106.05 MB (RSS), 22601.36 MB (VMS)\n",
      "Memory Usage: 10129.34 MB (RSS), 22624.80 MB (VMS)\n",
      "Processing batch 185/870 (21.26% completed)\n",
      "Memory Usage: 10129.34 MB (RSS), 22624.80 MB (VMS)\n",
      "Memory Usage: 10152.93 MB (RSS), 22648.23 MB (VMS)\n",
      "Processing batch 186/870 (21.38% completed)\n",
      "Memory Usage: 10152.93 MB (RSS), 22648.23 MB (VMS)\n",
      "Memory Usage: 10176.37 MB (RSS), 22671.67 MB (VMS)\n",
      "Processing batch 187/870 (21.49% completed)\n",
      "Memory Usage: 10176.37 MB (RSS), 22671.67 MB (VMS)\n",
      "Memory Usage: 10199.80 MB (RSS), 22695.11 MB (VMS)\n",
      "Processing batch 188/870 (21.61% completed)\n",
      "Memory Usage: 10199.80 MB (RSS), 22695.11 MB (VMS)\n",
      "Memory Usage: 10223.24 MB (RSS), 22718.55 MB (VMS)\n",
      "Processing batch 189/870 (21.72% completed)\n",
      "Memory Usage: 10223.24 MB (RSS), 22718.55 MB (VMS)\n",
      "Memory Usage: 10246.68 MB (RSS), 22741.98 MB (VMS)\n",
      "Processing batch 190/870 (21.84% completed)\n",
      "Memory Usage: 10246.68 MB (RSS), 22741.98 MB (VMS)\n",
      "Memory Usage: 10270.10 MB (RSS), 22765.42 MB (VMS)\n",
      "Processing batch 191/870 (21.95% completed)\n",
      "Memory Usage: 10270.10 MB (RSS), 22765.42 MB (VMS)\n",
      "Memory Usage: 10293.41 MB (RSS), 22788.86 MB (VMS)\n",
      "Processing batch 192/870 (22.07% completed)\n",
      "Memory Usage: 10293.41 MB (RSS), 22788.86 MB (VMS)\n",
      "Memory Usage: 10316.99 MB (RSS), 22812.30 MB (VMS)\n",
      "Processing batch 193/870 (22.18% completed)\n",
      "Memory Usage: 10316.99 MB (RSS), 22812.30 MB (VMS)\n",
      "Memory Usage: 10340.36 MB (RSS), 22835.73 MB (VMS)\n",
      "Processing batch 194/870 (22.30% completed)\n",
      "Memory Usage: 10340.36 MB (RSS), 22835.73 MB (VMS)\n",
      "Memory Usage: 10363.87 MB (RSS), 22859.18 MB (VMS)\n",
      "Processing batch 195/870 (22.41% completed)\n",
      "Memory Usage: 10363.87 MB (RSS), 22859.18 MB (VMS)\n",
      "Memory Usage: 10387.31 MB (RSS), 22882.61 MB (VMS)\n",
      "Processing batch 196/870 (22.53% completed)\n",
      "Memory Usage: 10387.31 MB (RSS), 22882.61 MB (VMS)\n",
      "Memory Usage: 10410.65 MB (RSS), 22906.05 MB (VMS)\n",
      "Processing batch 197/870 (22.64% completed)\n",
      "Memory Usage: 10410.65 MB (RSS), 22906.05 MB (VMS)\n",
      "Memory Usage: 10434.18 MB (RSS), 22929.49 MB (VMS)\n",
      "Processing batch 198/870 (22.76% completed)\n",
      "Memory Usage: 10434.18 MB (RSS), 22929.49 MB (VMS)\n",
      "Memory Usage: 10457.45 MB (RSS), 22952.93 MB (VMS)\n",
      "Processing batch 199/870 (22.87% completed)\n",
      "Memory Usage: 10457.45 MB (RSS), 22952.93 MB (VMS)\n",
      "Memory Usage: 10481.06 MB (RSS), 22976.36 MB (VMS)\n",
      "Processing batch 200/870 (22.99% completed)\n",
      "Memory Usage: 10481.06 MB (RSS), 22976.36 MB (VMS)\n",
      "Memory Usage: 10504.50 MB (RSS), 22999.80 MB (VMS)\n",
      "Processing batch 201/870 (23.10% completed)\n",
      "Memory Usage: 10504.50 MB (RSS), 22999.80 MB (VMS)\n",
      "Memory Usage: 10527.94 MB (RSS), 23023.24 MB (VMS)\n",
      "Processing batch 202/870 (23.22% completed)\n",
      "Memory Usage: 10527.94 MB (RSS), 23023.24 MB (VMS)\n",
      "Memory Usage: 10551.27 MB (RSS), 23046.68 MB (VMS)\n",
      "Processing batch 203/870 (23.33% completed)\n",
      "Memory Usage: 10551.27 MB (RSS), 23046.68 MB (VMS)\n",
      "Memory Usage: 10574.81 MB (RSS), 23070.11 MB (VMS)\n",
      "Processing batch 204/870 (23.45% completed)\n",
      "Memory Usage: 10574.81 MB (RSS), 23070.11 MB (VMS)\n",
      "Memory Usage: 10598.25 MB (RSS), 23093.55 MB (VMS)\n",
      "Processing batch 205/870 (23.56% completed)\n",
      "Memory Usage: 10598.25 MB (RSS), 23093.55 MB (VMS)\n",
      "Memory Usage: 10621.69 MB (RSS), 23116.99 MB (VMS)\n",
      "Processing batch 206/870 (23.68% completed)\n",
      "Memory Usage: 10621.69 MB (RSS), 23116.99 MB (VMS)\n",
      "Memory Usage: 10645.12 MB (RSS), 23140.43 MB (VMS)\n",
      "Processing batch 207/870 (23.79% completed)\n",
      "Memory Usage: 10645.12 MB (RSS), 23140.43 MB (VMS)\n",
      "Memory Usage: 10668.43 MB (RSS), 23163.86 MB (VMS)\n",
      "Processing batch 208/870 (23.91% completed)\n",
      "Memory Usage: 10668.43 MB (RSS), 23163.86 MB (VMS)\n",
      "Memory Usage: 10692.00 MB (RSS), 23187.30 MB (VMS)\n",
      "Processing batch 209/870 (24.02% completed)\n",
      "Memory Usage: 10692.00 MB (RSS), 23187.30 MB (VMS)\n",
      "Memory Usage: 10715.41 MB (RSS), 23210.74 MB (VMS)\n",
      "Processing batch 210/870 (24.14% completed)\n",
      "Memory Usage: 10715.41 MB (RSS), 23210.74 MB (VMS)\n",
      "Memory Usage: 10738.88 MB (RSS), 23234.18 MB (VMS)\n",
      "Processing batch 211/870 (24.25% completed)\n",
      "Memory Usage: 10738.88 MB (RSS), 23234.18 MB (VMS)\n",
      "Memory Usage: 10762.23 MB (RSS), 23257.61 MB (VMS)\n",
      "Processing batch 212/870 (24.37% completed)\n",
      "Memory Usage: 10762.23 MB (RSS), 23257.61 MB (VMS)\n",
      "Memory Usage: 10785.75 MB (RSS), 23281.05 MB (VMS)\n",
      "Processing batch 213/870 (24.48% completed)\n",
      "Memory Usage: 10785.75 MB (RSS), 23281.05 MB (VMS)\n",
      "Memory Usage: 10809.19 MB (RSS), 23304.49 MB (VMS)\n",
      "Processing batch 214/870 (24.60% completed)\n",
      "Memory Usage: 10809.19 MB (RSS), 23304.49 MB (VMS)\n",
      "Memory Usage: 10832.62 MB (RSS), 23327.93 MB (VMS)\n",
      "Processing batch 215/870 (24.71% completed)\n",
      "Memory Usage: 10832.62 MB (RSS), 23327.93 MB (VMS)\n",
      "Memory Usage: 10856.07 MB (RSS), 23351.37 MB (VMS)\n",
      "Processing batch 216/870 (24.83% completed)\n",
      "Memory Usage: 10856.07 MB (RSS), 23351.37 MB (VMS)\n",
      "Memory Usage: 10879.27 MB (RSS), 23374.80 MB (VMS)\n",
      "Processing batch 217/870 (24.94% completed)\n",
      "Memory Usage: 10879.50 MB (RSS), 23374.80 MB (VMS)\n",
      "Memory Usage: 10902.94 MB (RSS), 23398.24 MB (VMS)\n",
      "Processing batch 218/870 (25.06% completed)\n",
      "Memory Usage: 10902.94 MB (RSS), 23398.24 MB (VMS)\n",
      "Memory Usage: 10926.33 MB (RSS), 23421.68 MB (VMS)\n",
      "Processing batch 219/870 (25.17% completed)\n",
      "Memory Usage: 10926.33 MB (RSS), 23421.68 MB (VMS)\n",
      "Memory Usage: 10949.82 MB (RSS), 23445.12 MB (VMS)\n",
      "Processing batch 220/870 (25.29% completed)\n",
      "Memory Usage: 10949.82 MB (RSS), 23445.12 MB (VMS)\n",
      "Memory Usage: 10973.25 MB (RSS), 23468.55 MB (VMS)\n",
      "Processing batch 221/870 (25.40% completed)\n",
      "Memory Usage: 10973.25 MB (RSS), 23468.55 MB (VMS)\n",
      "Memory Usage: 10996.61 MB (RSS), 23491.99 MB (VMS)\n",
      "Processing batch 222/870 (25.52% completed)\n",
      "Memory Usage: 10996.61 MB (RSS), 23491.99 MB (VMS)\n",
      "Memory Usage: 11020.13 MB (RSS), 23515.43 MB (VMS)\n",
      "Processing batch 223/870 (25.63% completed)\n",
      "Memory Usage: 11020.13 MB (RSS), 23515.43 MB (VMS)\n",
      "Memory Usage: 11043.48 MB (RSS), 23538.87 MB (VMS)\n",
      "Processing batch 224/870 (25.75% completed)\n",
      "Memory Usage: 11043.48 MB (RSS), 23538.87 MB (VMS)\n",
      "Memory Usage: 11067.00 MB (RSS), 23562.30 MB (VMS)\n",
      "Processing batch 225/870 (25.86% completed)\n",
      "Memory Usage: 11067.00 MB (RSS), 23562.30 MB (VMS)\n",
      "Memory Usage: 11090.40 MB (RSS), 23585.74 MB (VMS)\n",
      "Processing batch 226/870 (25.98% completed)\n",
      "Memory Usage: 11090.40 MB (RSS), 23585.74 MB (VMS)\n",
      "Memory Usage: 11113.70 MB (RSS), 23609.18 MB (VMS)\n",
      "Processing batch 227/870 (26.09% completed)\n",
      "Memory Usage: 11113.70 MB (RSS), 23609.18 MB (VMS)\n",
      "Memory Usage: 11137.32 MB (RSS), 23632.62 MB (VMS)\n",
      "Processing batch 228/870 (26.21% completed)\n",
      "Memory Usage: 11137.32 MB (RSS), 23632.62 MB (VMS)\n",
      "Memory Usage: 11160.58 MB (RSS), 23656.05 MB (VMS)\n",
      "Processing batch 229/870 (26.32% completed)\n",
      "Memory Usage: 11160.58 MB (RSS), 23656.05 MB (VMS)\n",
      "Memory Usage: 11183.99 MB (RSS), 23679.49 MB (VMS)\n",
      "Processing batch 230/870 (26.44% completed)\n",
      "Memory Usage: 11184.19 MB (RSS), 23679.49 MB (VMS)\n",
      "Memory Usage: 11207.47 MB (RSS), 23702.93 MB (VMS)\n",
      "Processing batch 231/870 (26.55% completed)\n",
      "Memory Usage: 11207.47 MB (RSS), 23702.93 MB (VMS)\n",
      "Memory Usage: 11231.07 MB (RSS), 23726.37 MB (VMS)\n",
      "Processing batch 232/870 (26.67% completed)\n",
      "Memory Usage: 11231.07 MB (RSS), 23726.37 MB (VMS)\n",
      "Memory Usage: 11254.36 MB (RSS), 23749.80 MB (VMS)\n",
      "Processing batch 233/870 (26.78% completed)\n",
      "Memory Usage: 11254.36 MB (RSS), 23749.80 MB (VMS)\n",
      "Memory Usage: 11277.77 MB (RSS), 23773.24 MB (VMS)\n",
      "Processing batch 234/870 (26.90% completed)\n",
      "Memory Usage: 11277.77 MB (RSS), 23773.24 MB (VMS)\n",
      "Memory Usage: 11301.38 MB (RSS), 23796.68 MB (VMS)\n",
      "Processing batch 235/870 (27.01% completed)\n",
      "Memory Usage: 11301.38 MB (RSS), 23796.68 MB (VMS)\n",
      "Memory Usage: 11324.79 MB (RSS), 23820.12 MB (VMS)\n",
      "Processing batch 236/870 (27.13% completed)\n",
      "Memory Usage: 11324.79 MB (RSS), 23820.12 MB (VMS)\n",
      "Memory Usage: 11348.26 MB (RSS), 23843.56 MB (VMS)\n",
      "Processing batch 237/870 (27.24% completed)\n",
      "Memory Usage: 11348.26 MB (RSS), 23843.56 MB (VMS)\n",
      "Memory Usage: 11371.70 MB (RSS), 23867.00 MB (VMS)\n",
      "Processing batch 238/870 (27.36% completed)\n",
      "Memory Usage: 11371.70 MB (RSS), 23867.00 MB (VMS)\n",
      "Memory Usage: 11395.02 MB (RSS), 23890.43 MB (VMS)\n",
      "Processing batch 239/870 (27.47% completed)\n",
      "Memory Usage: 11395.02 MB (RSS), 23890.43 MB (VMS)\n",
      "Memory Usage: 11418.57 MB (RSS), 23913.87 MB (VMS)\n",
      "Processing batch 240/870 (27.59% completed)\n",
      "Memory Usage: 11418.57 MB (RSS), 23913.87 MB (VMS)\n",
      "Memory Usage: 11441.90 MB (RSS), 23937.31 MB (VMS)\n",
      "Processing batch 241/870 (27.70% completed)\n",
      "Memory Usage: 11441.90 MB (RSS), 23937.31 MB (VMS)\n",
      "Memory Usage: 11465.45 MB (RSS), 23960.75 MB (VMS)\n",
      "Processing batch 242/870 (27.82% completed)\n",
      "Memory Usage: 11465.45 MB (RSS), 23960.75 MB (VMS)\n",
      "Memory Usage: 11488.71 MB (RSS), 23984.18 MB (VMS)\n",
      "Processing batch 243/870 (27.93% completed)\n",
      "Memory Usage: 11488.71 MB (RSS), 23984.18 MB (VMS)\n",
      "Memory Usage: 11512.32 MB (RSS), 24007.62 MB (VMS)\n",
      "Processing batch 244/870 (28.05% completed)\n",
      "Memory Usage: 11512.32 MB (RSS), 24007.62 MB (VMS)\n",
      "Memory Usage: 11535.64 MB (RSS), 24031.06 MB (VMS)\n",
      "Processing batch 245/870 (28.16% completed)\n",
      "Memory Usage: 11535.64 MB (RSS), 24031.06 MB (VMS)\n",
      "Memory Usage: 11559.04 MB (RSS), 24054.50 MB (VMS)\n",
      "Processing batch 246/870 (28.28% completed)\n",
      "Memory Usage: 11559.04 MB (RSS), 24054.50 MB (VMS)\n",
      "Memory Usage: 11582.63 MB (RSS), 24077.93 MB (VMS)\n",
      "Processing batch 247/870 (28.39% completed)\n",
      "Memory Usage: 11582.63 MB (RSS), 24077.93 MB (VMS)\n",
      "Memory Usage: 11605.98 MB (RSS), 24101.37 MB (VMS)\n",
      "Processing batch 248/870 (28.51% completed)\n",
      "Memory Usage: 11605.98 MB (RSS), 24101.37 MB (VMS)\n",
      "Memory Usage: 11629.39 MB (RSS), 24124.81 MB (VMS)\n",
      "Processing batch 249/870 (28.62% completed)\n",
      "Memory Usage: 11629.39 MB (RSS), 24124.81 MB (VMS)\n",
      "Memory Usage: 11652.95 MB (RSS), 24148.25 MB (VMS)\n",
      "Processing batch 250/870 (28.74% completed)\n",
      "Memory Usage: 11652.95 MB (RSS), 24148.25 MB (VMS)\n",
      "Memory Usage: 11676.38 MB (RSS), 24171.68 MB (VMS)\n",
      "Processing batch 251/870 (28.85% completed)\n",
      "Memory Usage: 11676.38 MB (RSS), 24171.68 MB (VMS)\n",
      "Memory Usage: 11699.82 MB (RSS), 24195.12 MB (VMS)\n",
      "Processing batch 252/870 (28.97% completed)\n",
      "Memory Usage: 11699.82 MB (RSS), 24195.12 MB (VMS)\n",
      "Memory Usage: 11723.26 MB (RSS), 24218.56 MB (VMS)\n",
      "Processing batch 253/870 (29.08% completed)\n",
      "Memory Usage: 11723.26 MB (RSS), 24218.56 MB (VMS)\n",
      "Memory Usage: 11746.62 MB (RSS), 24242.00 MB (VMS)\n",
      "Processing batch 254/870 (29.20% completed)\n",
      "Memory Usage: 11746.62 MB (RSS), 24242.00 MB (VMS)\n",
      "Memory Usage: 11770.03 MB (RSS), 24265.43 MB (VMS)\n",
      "Processing batch 255/870 (29.31% completed)\n",
      "Memory Usage: 11770.03 MB (RSS), 24265.43 MB (VMS)\n",
      "Memory Usage: 11793.57 MB (RSS), 24288.87 MB (VMS)\n",
      "Processing batch 256/870 (29.43% completed)\n",
      "Memory Usage: 11793.57 MB (RSS), 24288.87 MB (VMS)\n",
      "Memory Usage: 11817.01 MB (RSS), 24312.31 MB (VMS)\n",
      "Processing batch 257/870 (29.54% completed)\n",
      "Memory Usage: 11817.01 MB (RSS), 24312.31 MB (VMS)\n",
      "Memory Usage: 11840.41 MB (RSS), 24335.75 MB (VMS)\n",
      "Processing batch 258/870 (29.66% completed)\n",
      "Memory Usage: 11840.41 MB (RSS), 24335.75 MB (VMS)\n",
      "Memory Usage: 11863.70 MB (RSS), 24359.19 MB (VMS)\n",
      "Processing batch 259/870 (29.77% completed)\n",
      "Memory Usage: 11863.70 MB (RSS), 24359.19 MB (VMS)\n",
      "Memory Usage: 11887.33 MB (RSS), 24382.62 MB (VMS)\n",
      "Processing batch 260/870 (29.89% completed)\n",
      "Memory Usage: 11887.33 MB (RSS), 24382.62 MB (VMS)\n",
      "Memory Usage: 11910.74 MB (RSS), 24406.06 MB (VMS)\n",
      "Processing batch 261/870 (30.00% completed)\n",
      "Memory Usage: 11910.74 MB (RSS), 24406.06 MB (VMS)\n",
      "Memory Usage: 11934.20 MB (RSS), 24429.50 MB (VMS)\n",
      "Processing batch 262/870 (30.11% completed)\n",
      "Memory Usage: 11934.20 MB (RSS), 24429.50 MB (VMS)\n",
      "Memory Usage: 11957.59 MB (RSS), 24452.94 MB (VMS)\n",
      "Processing batch 263/870 (30.23% completed)\n",
      "Memory Usage: 11957.59 MB (RSS), 24452.94 MB (VMS)\n",
      "Memory Usage: 11981.08 MB (RSS), 24476.38 MB (VMS)\n",
      "Processing batch 264/870 (30.34% completed)\n",
      "Memory Usage: 11981.08 MB (RSS), 24476.38 MB (VMS)\n",
      "Memory Usage: 12004.52 MB (RSS), 24499.81 MB (VMS)\n",
      "Processing batch 265/870 (30.46% completed)\n",
      "Memory Usage: 12004.52 MB (RSS), 24499.81 MB (VMS)\n",
      "Memory Usage: 12027.77 MB (RSS), 24523.25 MB (VMS)\n",
      "Processing batch 266/870 (30.57% completed)\n",
      "Memory Usage: 12027.77 MB (RSS), 24523.25 MB (VMS)\n",
      "Memory Usage: 12051.39 MB (RSS), 24546.69 MB (VMS)\n",
      "Processing batch 267/870 (30.69% completed)\n",
      "Memory Usage: 12051.39 MB (RSS), 24546.69 MB (VMS)\n",
      "Memory Usage: 12074.82 MB (RSS), 24570.12 MB (VMS)\n",
      "Processing batch 268/870 (30.80% completed)\n",
      "Memory Usage: 12074.82 MB (RSS), 24570.12 MB (VMS)\n",
      "Memory Usage: 12098.21 MB (RSS), 24593.56 MB (VMS)\n",
      "Processing batch 269/870 (30.92% completed)\n",
      "Memory Usage: 12098.21 MB (RSS), 24593.56 MB (VMS)\n",
      "Memory Usage: 12121.54 MB (RSS), 24617.00 MB (VMS)\n",
      "Processing batch 270/870 (31.03% completed)\n",
      "Memory Usage: 12121.54 MB (RSS), 24617.00 MB (VMS)\n",
      "Memory Usage: 12145.04 MB (RSS), 24640.44 MB (VMS)\n",
      "Processing batch 271/870 (31.15% completed)\n",
      "Memory Usage: 12145.04 MB (RSS), 24640.44 MB (VMS)\n",
      "Memory Usage: 12168.58 MB (RSS), 24663.88 MB (VMS)\n",
      "Processing batch 272/870 (31.26% completed)\n",
      "Memory Usage: 12168.58 MB (RSS), 24663.88 MB (VMS)\n",
      "Memory Usage: 12191.86 MB (RSS), 24687.31 MB (VMS)\n",
      "Processing batch 273/870 (31.38% completed)\n",
      "Memory Usage: 12191.86 MB (RSS), 24687.31 MB (VMS)\n",
      "Memory Usage: 12215.45 MB (RSS), 24710.75 MB (VMS)\n",
      "Processing batch 274/870 (31.49% completed)\n",
      "Memory Usage: 12215.45 MB (RSS), 24710.75 MB (VMS)\n",
      "Memory Usage: 12238.89 MB (RSS), 24734.19 MB (VMS)\n",
      "Processing batch 275/870 (31.61% completed)\n",
      "Memory Usage: 12238.89 MB (RSS), 24734.19 MB (VMS)\n",
      "Memory Usage: 12262.33 MB (RSS), 24757.62 MB (VMS)\n",
      "Processing batch 276/870 (31.72% completed)\n",
      "Memory Usage: 12262.33 MB (RSS), 24757.62 MB (VMS)\n",
      "Memory Usage: 12285.77 MB (RSS), 24781.06 MB (VMS)\n",
      "Processing batch 277/870 (31.84% completed)\n",
      "Memory Usage: 12285.77 MB (RSS), 24781.06 MB (VMS)\n",
      "Memory Usage: 12309.12 MB (RSS), 24804.50 MB (VMS)\n",
      "Processing batch 278/870 (31.95% completed)\n",
      "Memory Usage: 12309.12 MB (RSS), 24804.50 MB (VMS)\n",
      "Memory Usage: 12332.64 MB (RSS), 24827.94 MB (VMS)\n",
      "Processing batch 279/870 (32.07% completed)\n",
      "Memory Usage: 12332.64 MB (RSS), 24827.94 MB (VMS)\n",
      "Memory Usage: 12356.08 MB (RSS), 24851.38 MB (VMS)\n",
      "Processing batch 280/870 (32.18% completed)\n",
      "Memory Usage: 12356.08 MB (RSS), 24851.38 MB (VMS)\n",
      "Memory Usage: 12379.52 MB (RSS), 24874.82 MB (VMS)\n",
      "Processing batch 281/870 (32.30% completed)\n",
      "Memory Usage: 12379.52 MB (RSS), 24874.82 MB (VMS)\n",
      "Memory Usage: 12402.94 MB (RSS), 24898.25 MB (VMS)\n",
      "Processing batch 282/870 (32.41% completed)\n",
      "Memory Usage: 12402.94 MB (RSS), 24898.25 MB (VMS)\n",
      "Memory Usage: 12426.25 MB (RSS), 24921.69 MB (VMS)\n",
      "Processing batch 283/870 (32.53% completed)\n",
      "Memory Usage: 12426.25 MB (RSS), 24921.69 MB (VMS)\n",
      "Memory Usage: 12449.83 MB (RSS), 24945.13 MB (VMS)\n",
      "Processing batch 284/870 (32.64% completed)\n",
      "Memory Usage: 12449.83 MB (RSS), 24945.13 MB (VMS)\n",
      "Memory Usage: 12473.21 MB (RSS), 24968.57 MB (VMS)\n",
      "Processing batch 285/870 (32.76% completed)\n",
      "Memory Usage: 12473.21 MB (RSS), 24968.57 MB (VMS)\n",
      "Memory Usage: 12496.71 MB (RSS), 24992.00 MB (VMS)\n",
      "Processing batch 286/870 (32.87% completed)\n",
      "Memory Usage: 12496.71 MB (RSS), 24992.00 MB (VMS)\n",
      "Memory Usage: 12520.14 MB (RSS), 25015.44 MB (VMS)\n",
      "Processing batch 287/870 (32.99% completed)\n",
      "Memory Usage: 12520.14 MB (RSS), 25015.44 MB (VMS)\n",
      "Memory Usage: 12543.41 MB (RSS), 25038.88 MB (VMS)\n",
      "Processing batch 288/870 (33.10% completed)\n",
      "Memory Usage: 12543.41 MB (RSS), 25038.88 MB (VMS)\n",
      "Memory Usage: 12566.90 MB (RSS), 25062.32 MB (VMS)\n",
      "Processing batch 289/870 (33.22% completed)\n",
      "Memory Usage: 12566.90 MB (RSS), 25062.32 MB (VMS)\n",
      "Memory Usage: 12590.20 MB (RSS), 25085.75 MB (VMS)\n",
      "Processing batch 290/870 (33.33% completed)\n",
      "Memory Usage: 12590.46 MB (RSS), 25085.75 MB (VMS)\n",
      "Memory Usage: 12613.89 MB (RSS), 25109.19 MB (VMS)\n",
      "Processing batch 291/870 (33.45% completed)\n",
      "Memory Usage: 12613.89 MB (RSS), 25109.19 MB (VMS)\n",
      "Memory Usage: 12637.21 MB (RSS), 25132.63 MB (VMS)\n",
      "Processing batch 292/870 (33.56% completed)\n",
      "Memory Usage: 12637.21 MB (RSS), 25132.63 MB (VMS)\n",
      "Memory Usage: 12660.69 MB (RSS), 25156.07 MB (VMS)\n",
      "Processing batch 293/870 (33.68% completed)\n",
      "Memory Usage: 12660.69 MB (RSS), 25156.07 MB (VMS)\n",
      "Memory Usage: 12684.18 MB (RSS), 25179.50 MB (VMS)\n",
      "Processing batch 294/870 (33.79% completed)\n",
      "Memory Usage: 12684.18 MB (RSS), 25179.50 MB (VMS)\n",
      "Memory Usage: 12707.40 MB (RSS), 25202.94 MB (VMS)\n",
      "Processing batch 295/870 (33.91% completed)\n",
      "Memory Usage: 12707.40 MB (RSS), 25202.94 MB (VMS)\n",
      "Memory Usage: 12731.08 MB (RSS), 25226.38 MB (VMS)\n",
      "Processing batch 296/870 (34.02% completed)\n",
      "Memory Usage: 12731.08 MB (RSS), 25226.38 MB (VMS)\n",
      "Memory Usage: 12754.52 MB (RSS), 25249.82 MB (VMS)\n",
      "Processing batch 297/870 (34.14% completed)\n",
      "Memory Usage: 12754.52 MB (RSS), 25249.82 MB (VMS)\n",
      "Memory Usage: 12777.85 MB (RSS), 25273.25 MB (VMS)\n",
      "Processing batch 298/870 (34.25% completed)\n",
      "Memory Usage: 12777.85 MB (RSS), 25273.25 MB (VMS)\n",
      "Memory Usage: 12801.25 MB (RSS), 25296.69 MB (VMS)\n",
      "Processing batch 299/870 (34.37% completed)\n",
      "Memory Usage: 12801.25 MB (RSS), 25296.69 MB (VMS)\n",
      "Memory Usage: 12824.79 MB (RSS), 25320.13 MB (VMS)\n",
      "Processing batch 300/870 (34.48% completed)\n",
      "Memory Usage: 12824.79 MB (RSS), 25320.13 MB (VMS)\n",
      "Memory Usage: 12848.04 MB (RSS), 25343.57 MB (VMS)\n",
      "Processing batch 301/870 (34.60% completed)\n",
      "Memory Usage: 12848.04 MB (RSS), 25343.57 MB (VMS)\n",
      "Memory Usage: 12871.71 MB (RSS), 25367.01 MB (VMS)\n",
      "Processing batch 302/870 (34.71% completed)\n",
      "Memory Usage: 12871.71 MB (RSS), 25367.01 MB (VMS)\n",
      "Memory Usage: 12894.93 MB (RSS), 25390.45 MB (VMS)\n",
      "Processing batch 303/870 (34.83% completed)\n",
      "Memory Usage: 12894.93 MB (RSS), 25390.45 MB (VMS)\n",
      "Memory Usage: 12918.44 MB (RSS), 25413.88 MB (VMS)\n",
      "Processing batch 304/870 (34.94% completed)\n",
      "Memory Usage: 12918.44 MB (RSS), 25413.88 MB (VMS)\n",
      "Memory Usage: 12941.78 MB (RSS), 25437.32 MB (VMS)\n",
      "Processing batch 305/870 (35.06% completed)\n",
      "Memory Usage: 12942.02 MB (RSS), 25437.32 MB (VMS)\n",
      "Memory Usage: 12965.32 MB (RSS), 25460.76 MB (VMS)\n",
      "Processing batch 306/870 (35.17% completed)\n",
      "Memory Usage: 12965.32 MB (RSS), 25460.76 MB (VMS)\n",
      "Memory Usage: 12988.75 MB (RSS), 25484.20 MB (VMS)\n",
      "Processing batch 307/870 (35.29% completed)\n",
      "Memory Usage: 12988.75 MB (RSS), 25484.20 MB (VMS)\n",
      "Memory Usage: 13012.21 MB (RSS), 25507.63 MB (VMS)\n",
      "Processing batch 308/870 (35.40% completed)\n",
      "Memory Usage: 13012.21 MB (RSS), 25507.63 MB (VMS)\n",
      "Memory Usage: 13035.62 MB (RSS), 25531.07 MB (VMS)\n",
      "Processing batch 309/870 (35.52% completed)\n",
      "Memory Usage: 13035.62 MB (RSS), 25531.07 MB (VMS)\n",
      "Memory Usage: 13059.17 MB (RSS), 25554.51 MB (VMS)\n",
      "Processing batch 310/870 (35.63% completed)\n",
      "Memory Usage: 13059.17 MB (RSS), 25554.51 MB (VMS)\n",
      "Memory Usage: 13082.50 MB (RSS), 25577.95 MB (VMS)\n",
      "Processing batch 311/870 (35.75% completed)\n",
      "Memory Usage: 13082.50 MB (RSS), 25577.95 MB (VMS)\n",
      "Memory Usage: 13105.99 MB (RSS), 25601.38 MB (VMS)\n",
      "Processing batch 312/870 (35.86% completed)\n",
      "Memory Usage: 13105.99 MB (RSS), 25601.38 MB (VMS)\n",
      "Memory Usage: 13129.52 MB (RSS), 25624.82 MB (VMS)\n",
      "Processing batch 313/870 (35.98% completed)\n",
      "Memory Usage: 13129.52 MB (RSS), 25624.82 MB (VMS)\n",
      "Memory Usage: 13152.96 MB (RSS), 25648.26 MB (VMS)\n",
      "Processing batch 314/870 (36.09% completed)\n",
      "Memory Usage: 13152.96 MB (RSS), 25648.26 MB (VMS)\n",
      "Memory Usage: 13176.22 MB (RSS), 25671.70 MB (VMS)\n",
      "Processing batch 315/870 (36.21% completed)\n",
      "Memory Usage: 13176.22 MB (RSS), 25671.70 MB (VMS)\n",
      "Memory Usage: 13199.73 MB (RSS), 25695.13 MB (VMS)\n",
      "Processing batch 316/870 (36.32% completed)\n",
      "Memory Usage: 13199.73 MB (RSS), 25695.13 MB (VMS)\n",
      "Memory Usage: 13223.07 MB (RSS), 25718.57 MB (VMS)\n",
      "Processing batch 317/870 (36.44% completed)\n",
      "Memory Usage: 13223.07 MB (RSS), 25718.57 MB (VMS)\n",
      "Memory Usage: 13246.71 MB (RSS), 25742.01 MB (VMS)\n",
      "Processing batch 318/870 (36.55% completed)\n",
      "Memory Usage: 13246.71 MB (RSS), 25742.01 MB (VMS)\n",
      "Memory Usage: 13269.90 MB (RSS), 25765.45 MB (VMS)\n",
      "Processing batch 319/870 (36.67% completed)\n",
      "Memory Usage: 13270.15 MB (RSS), 25765.45 MB (VMS)\n",
      "Memory Usage: 13293.43 MB (RSS), 25788.88 MB (VMS)\n",
      "Processing batch 320/870 (36.78% completed)\n",
      "Memory Usage: 13293.43 MB (RSS), 25788.88 MB (VMS)\n",
      "Memory Usage: 13316.92 MB (RSS), 25812.32 MB (VMS)\n",
      "Processing batch 321/870 (36.90% completed)\n",
      "Memory Usage: 13316.92 MB (RSS), 25812.32 MB (VMS)\n",
      "Memory Usage: 13340.40 MB (RSS), 25835.76 MB (VMS)\n",
      "Processing batch 322/870 (37.01% completed)\n",
      "Memory Usage: 13340.40 MB (RSS), 25835.76 MB (VMS)\n",
      "Memory Usage: 13363.79 MB (RSS), 25859.20 MB (VMS)\n",
      "Processing batch 323/870 (37.13% completed)\n",
      "Memory Usage: 13363.79 MB (RSS), 25859.20 MB (VMS)\n",
      "Memory Usage: 13387.34 MB (RSS), 25882.64 MB (VMS)\n",
      "Processing batch 324/870 (37.24% completed)\n",
      "Memory Usage: 13387.34 MB (RSS), 25882.64 MB (VMS)\n",
      "Memory Usage: 13410.74 MB (RSS), 25906.07 MB (VMS)\n",
      "Processing batch 325/870 (37.36% completed)\n",
      "Memory Usage: 13410.74 MB (RSS), 25906.07 MB (VMS)\n",
      "Memory Usage: 13434.22 MB (RSS), 25929.51 MB (VMS)\n",
      "Processing batch 326/870 (37.47% completed)\n",
      "Memory Usage: 13434.22 MB (RSS), 25929.51 MB (VMS)\n",
      "Memory Usage: 13457.48 MB (RSS), 25952.95 MB (VMS)\n",
      "Processing batch 327/870 (37.59% completed)\n",
      "Memory Usage: 13457.48 MB (RSS), 25952.95 MB (VMS)\n",
      "Memory Usage: 13481.09 MB (RSS), 25976.39 MB (VMS)\n",
      "Processing batch 328/870 (37.70% completed)\n",
      "Memory Usage: 13481.09 MB (RSS), 25976.39 MB (VMS)\n",
      "Memory Usage: 13504.53 MB (RSS), 25999.82 MB (VMS)\n",
      "Processing batch 329/870 (37.82% completed)\n",
      "Memory Usage: 13504.53 MB (RSS), 25999.82 MB (VMS)\n",
      "Memory Usage: 13527.77 MB (RSS), 26023.26 MB (VMS)\n",
      "Processing batch 330/870 (37.93% completed)\n",
      "Memory Usage: 13527.77 MB (RSS), 26023.26 MB (VMS)\n",
      "Memory Usage: 13551.29 MB (RSS), 26046.70 MB (VMS)\n",
      "Processing batch 331/870 (38.05% completed)\n",
      "Memory Usage: 13551.29 MB (RSS), 26046.70 MB (VMS)\n",
      "Memory Usage: 13574.83 MB (RSS), 26070.14 MB (VMS)\n",
      "Processing batch 332/870 (38.16% completed)\n",
      "Memory Usage: 13574.83 MB (RSS), 26070.14 MB (VMS)\n",
      "Memory Usage: 13598.28 MB (RSS), 26093.57 MB (VMS)\n",
      "Processing batch 333/870 (38.28% completed)\n",
      "Memory Usage: 13598.28 MB (RSS), 26093.57 MB (VMS)\n",
      "Memory Usage: 13621.72 MB (RSS), 26117.01 MB (VMS)\n",
      "Processing batch 334/870 (38.39% completed)\n",
      "Memory Usage: 13621.72 MB (RSS), 26117.01 MB (VMS)\n",
      "Memory Usage: 13644.97 MB (RSS), 26140.45 MB (VMS)\n",
      "Processing batch 335/870 (38.51% completed)\n",
      "Memory Usage: 13644.97 MB (RSS), 26140.45 MB (VMS)\n",
      "Memory Usage: 13668.45 MB (RSS), 26163.89 MB (VMS)\n",
      "Processing batch 336/870 (38.62% completed)\n",
      "Memory Usage: 13668.45 MB (RSS), 26163.89 MB (VMS)\n",
      "Memory Usage: 13692.01 MB (RSS), 26187.32 MB (VMS)\n",
      "Processing batch 337/870 (38.74% completed)\n",
      "Memory Usage: 13692.01 MB (RSS), 26187.32 MB (VMS)\n",
      "Memory Usage: 13715.25 MB (RSS), 26210.76 MB (VMS)\n",
      "Processing batch 338/870 (38.85% completed)\n",
      "Memory Usage: 13715.47 MB (RSS), 26210.76 MB (VMS)\n",
      "Memory Usage: 13738.91 MB (RSS), 26234.20 MB (VMS)\n",
      "Processing batch 339/870 (38.97% completed)\n",
      "Memory Usage: 13738.91 MB (RSS), 26234.20 MB (VMS)\n",
      "Memory Usage: 13785.68 MB (RSS), 26281.07 MB (VMS)\n",
      "Processing batch 341/870 (39.20% completed)\n",
      "Memory Usage: 13785.68 MB (RSS), 26281.07 MB (VMS)\n",
      "Memory Usage: 13809.16 MB (RSS), 26304.51 MB (VMS)\n",
      "Processing batch 342/870 (39.31% completed)\n",
      "Memory Usage: 13809.16 MB (RSS), 26304.51 MB (VMS)\n",
      "Memory Usage: 13832.51 MB (RSS), 26327.95 MB (VMS)\n",
      "Processing batch 343/870 (39.43% completed)\n",
      "Memory Usage: 13832.51 MB (RSS), 26327.95 MB (VMS)\n",
      "Memory Usage: 13856.10 MB (RSS), 26351.39 MB (VMS)\n",
      "Processing batch 344/870 (39.54% completed)\n",
      "Memory Usage: 13856.10 MB (RSS), 26351.39 MB (VMS)\n",
      "Memory Usage: 13879.33 MB (RSS), 26374.83 MB (VMS)\n",
      "Processing batch 345/870 (39.66% completed)\n",
      "Memory Usage: 13879.33 MB (RSS), 26374.83 MB (VMS)\n",
      "Memory Usage: 13902.97 MB (RSS), 26398.27 MB (VMS)\n",
      "Processing batch 346/870 (39.77% completed)\n",
      "Memory Usage: 13902.97 MB (RSS), 26398.27 MB (VMS)\n",
      "Memory Usage: 13926.39 MB (RSS), 26421.70 MB (VMS)\n",
      "Processing batch 347/870 (39.89% completed)\n",
      "Memory Usage: 13926.39 MB (RSS), 26421.70 MB (VMS)\n",
      "Memory Usage: 13949.64 MB (RSS), 26445.14 MB (VMS)\n",
      "Processing batch 348/870 (40.00% completed)\n",
      "Memory Usage: 13949.64 MB (RSS), 26445.14 MB (VMS)\n",
      "Memory Usage: 13973.20 MB (RSS), 26468.58 MB (VMS)\n",
      "Processing batch 349/870 (40.11% completed)\n",
      "Memory Usage: 13973.20 MB (RSS), 26468.58 MB (VMS)\n",
      "Memory Usage: 13996.72 MB (RSS), 26492.02 MB (VMS)\n",
      "Processing batch 350/870 (40.23% completed)\n",
      "Memory Usage: 13996.72 MB (RSS), 26492.02 MB (VMS)\n",
      "Memory Usage: 14019.96 MB (RSS), 26515.45 MB (VMS)\n",
      "Processing batch 351/870 (40.34% completed)\n",
      "Memory Usage: 14019.96 MB (RSS), 26515.45 MB (VMS)\n",
      "Memory Usage: 14043.54 MB (RSS), 26538.89 MB (VMS)\n",
      "Processing batch 352/870 (40.46% completed)\n",
      "Memory Usage: 14043.54 MB (RSS), 26538.89 MB (VMS)\n",
      "Memory Usage: 14066.95 MB (RSS), 26562.33 MB (VMS)\n",
      "Processing batch 353/870 (40.57% completed)\n",
      "Memory Usage: 14066.95 MB (RSS), 26562.33 MB (VMS)\n",
      "Memory Usage: 14090.46 MB (RSS), 26585.77 MB (VMS)\n",
      "Processing batch 354/870 (40.69% completed)\n",
      "Memory Usage: 14090.46 MB (RSS), 26585.77 MB (VMS)\n",
      "Memory Usage: 14113.91 MB (RSS), 26609.20 MB (VMS)\n",
      "Processing batch 355/870 (40.80% completed)\n",
      "Memory Usage: 14113.91 MB (RSS), 26609.20 MB (VMS)\n",
      "Memory Usage: 14137.29 MB (RSS), 26632.64 MB (VMS)\n",
      "Processing batch 356/870 (40.92% completed)\n",
      "Memory Usage: 14137.29 MB (RSS), 26632.64 MB (VMS)\n",
      "Memory Usage: 14160.57 MB (RSS), 26656.08 MB (VMS)\n",
      "Processing batch 357/870 (41.03% completed)\n",
      "Memory Usage: 14160.57 MB (RSS), 26656.08 MB (VMS)\n",
      "Memory Usage: 14183.99 MB (RSS), 26679.52 MB (VMS)\n",
      "Processing batch 358/870 (41.15% completed)\n",
      "Memory Usage: 14183.99 MB (RSS), 26679.52 MB (VMS)\n",
      "Memory Usage: 14207.56 MB (RSS), 26702.95 MB (VMS)\n",
      "Processing batch 359/870 (41.26% completed)\n",
      "Memory Usage: 14207.56 MB (RSS), 26702.95 MB (VMS)\n",
      "Memory Usage: 14231.10 MB (RSS), 26726.39 MB (VMS)\n",
      "Processing batch 360/870 (41.38% completed)\n",
      "Memory Usage: 14231.10 MB (RSS), 26726.39 MB (VMS)\n",
      "Memory Usage: 14254.44 MB (RSS), 26749.83 MB (VMS)\n",
      "Processing batch 361/870 (41.49% completed)\n",
      "Memory Usage: 14254.44 MB (RSS), 26749.83 MB (VMS)\n",
      "Memory Usage: 14277.73 MB (RSS), 26773.27 MB (VMS)\n",
      "Processing batch 362/870 (41.61% completed)\n",
      "Memory Usage: 14277.73 MB (RSS), 26773.27 MB (VMS)\n",
      "Memory Usage: 14301.25 MB (RSS), 26796.70 MB (VMS)\n",
      "Processing batch 363/870 (41.72% completed)\n",
      "Memory Usage: 14301.25 MB (RSS), 26796.70 MB (VMS)\n",
      "Memory Usage: 14324.85 MB (RSS), 26820.14 MB (VMS)\n",
      "Processing batch 364/870 (41.84% completed)\n",
      "Memory Usage: 14324.85 MB (RSS), 26820.14 MB (VMS)\n",
      "Memory Usage: 14348.29 MB (RSS), 26843.58 MB (VMS)\n",
      "Processing batch 365/870 (41.95% completed)\n",
      "Memory Usage: 14348.29 MB (RSS), 26843.58 MB (VMS)\n",
      "Memory Usage: 14371.65 MB (RSS), 26867.02 MB (VMS)\n",
      "Processing batch 366/870 (42.07% completed)\n",
      "Memory Usage: 14371.65 MB (RSS), 26867.02 MB (VMS)\n",
      "Memory Usage: 14395.14 MB (RSS), 26890.46 MB (VMS)\n",
      "Processing batch 367/870 (42.18% completed)\n",
      "Memory Usage: 14395.14 MB (RSS), 26890.46 MB (VMS)\n",
      "Memory Usage: 14418.56 MB (RSS), 26913.89 MB (VMS)\n",
      "Processing batch 368/870 (42.30% completed)\n",
      "Memory Usage: 14418.56 MB (RSS), 26913.89 MB (VMS)\n",
      "Memory Usage: 14441.97 MB (RSS), 26937.33 MB (VMS)\n",
      "Processing batch 369/870 (42.41% completed)\n",
      "Memory Usage: 14441.97 MB (RSS), 26937.33 MB (VMS)\n",
      "Memory Usage: 14465.41 MB (RSS), 26960.77 MB (VMS)\n",
      "Processing batch 370/870 (42.53% completed)\n",
      "Memory Usage: 14465.41 MB (RSS), 26960.77 MB (VMS)\n",
      "Memory Usage: 14488.91 MB (RSS), 26984.21 MB (VMS)\n",
      "Processing batch 371/870 (42.64% completed)\n",
      "Memory Usage: 14488.91 MB (RSS), 26984.21 MB (VMS)\n",
      "Memory Usage: 14512.35 MB (RSS), 27007.64 MB (VMS)\n",
      "Processing batch 372/870 (42.76% completed)\n",
      "Memory Usage: 14512.35 MB (RSS), 27007.64 MB (VMS)\n",
      "Memory Usage: 14535.78 MB (RSS), 27031.08 MB (VMS)\n",
      "Processing batch 373/870 (42.87% completed)\n",
      "Memory Usage: 14535.78 MB (RSS), 27031.08 MB (VMS)\n",
      "Memory Usage: 14559.03 MB (RSS), 27054.52 MB (VMS)\n",
      "Processing batch 374/870 (42.99% completed)\n",
      "Memory Usage: 14559.03 MB (RSS), 27054.52 MB (VMS)\n",
      "Memory Usage: 14582.66 MB (RSS), 27077.96 MB (VMS)\n",
      "Processing batch 375/870 (43.10% completed)\n",
      "Memory Usage: 14582.66 MB (RSS), 27077.96 MB (VMS)\n",
      "Memory Usage: 14606.09 MB (RSS), 27101.39 MB (VMS)\n",
      "Processing batch 376/870 (43.22% completed)\n",
      "Memory Usage: 14606.09 MB (RSS), 27101.39 MB (VMS)\n",
      "Memory Usage: 14629.45 MB (RSS), 27124.83 MB (VMS)\n",
      "Processing batch 377/870 (43.33% completed)\n",
      "Memory Usage: 14629.45 MB (RSS), 27124.83 MB (VMS)\n",
      "Memory Usage: 14652.98 MB (RSS), 27148.27 MB (VMS)\n",
      "Processing batch 378/870 (43.45% completed)\n",
      "Memory Usage: 14652.98 MB (RSS), 27148.27 MB (VMS)\n",
      "Memory Usage: 14676.29 MB (RSS), 27171.71 MB (VMS)\n",
      "Processing batch 379/870 (43.56% completed)\n",
      "Memory Usage: 14676.29 MB (RSS), 27171.71 MB (VMS)\n",
      "Memory Usage: 14699.70 MB (RSS), 27195.14 MB (VMS)\n",
      "Processing batch 380/870 (43.68% completed)\n",
      "Memory Usage: 14699.70 MB (RSS), 27195.14 MB (VMS)\n",
      "Memory Usage: 14723.29 MB (RSS), 27218.58 MB (VMS)\n",
      "Processing batch 381/870 (43.79% completed)\n",
      "Memory Usage: 14723.29 MB (RSS), 27218.58 MB (VMS)\n",
      "Memory Usage: 14746.60 MB (RSS), 27242.02 MB (VMS)\n",
      "Processing batch 382/870 (43.91% completed)\n",
      "Memory Usage: 14746.60 MB (RSS), 27242.02 MB (VMS)\n",
      "Memory Usage: 14770.10 MB (RSS), 27265.46 MB (VMS)\n",
      "Processing batch 383/870 (44.02% completed)\n",
      "Memory Usage: 14770.10 MB (RSS), 27265.46 MB (VMS)\n",
      "Memory Usage: 14793.42 MB (RSS), 27288.89 MB (VMS)\n",
      "Processing batch 384/870 (44.14% completed)\n",
      "Memory Usage: 14793.42 MB (RSS), 27288.89 MB (VMS)\n",
      "Memory Usage: 14817.04 MB (RSS), 27312.33 MB (VMS)\n",
      "Processing batch 385/870 (44.25% completed)\n",
      "Memory Usage: 14817.04 MB (RSS), 27312.33 MB (VMS)\n",
      "Memory Usage: 14840.48 MB (RSS), 27335.77 MB (VMS)\n",
      "Processing batch 386/870 (44.37% completed)\n",
      "Memory Usage: 14840.48 MB (RSS), 27335.77 MB (VMS)\n",
      "Memory Usage: 14863.91 MB (RSS), 27359.21 MB (VMS)\n",
      "Processing batch 387/870 (44.48% completed)\n",
      "Memory Usage: 14863.91 MB (RSS), 27359.21 MB (VMS)\n",
      "Memory Usage: 14887.25 MB (RSS), 27382.65 MB (VMS)\n",
      "Processing batch 388/870 (44.60% completed)\n",
      "Memory Usage: 14887.25 MB (RSS), 27382.65 MB (VMS)\n",
      "Memory Usage: 14910.75 MB (RSS), 27406.09 MB (VMS)\n",
      "Processing batch 389/870 (44.71% completed)\n",
      "Memory Usage: 14910.75 MB (RSS), 27406.09 MB (VMS)\n",
      "Memory Usage: 14934.22 MB (RSS), 27429.52 MB (VMS)\n",
      "Processing batch 390/870 (44.83% completed)\n",
      "Memory Usage: 14934.22 MB (RSS), 27429.52 MB (VMS)\n",
      "Memory Usage: 14957.68 MB (RSS), 27452.96 MB (VMS)\n",
      "Processing batch 391/870 (44.94% completed)\n",
      "Memory Usage: 14957.68 MB (RSS), 27452.96 MB (VMS)\n",
      "Memory Usage: 14981.05 MB (RSS), 27476.40 MB (VMS)\n",
      "Processing batch 392/870 (45.06% completed)\n",
      "Memory Usage: 14981.05 MB (RSS), 27476.40 MB (VMS)\n",
      "Memory Usage: 15004.50 MB (RSS), 27499.84 MB (VMS)\n",
      "Processing batch 393/870 (45.17% completed)\n",
      "Memory Usage: 15004.50 MB (RSS), 27499.84 MB (VMS)\n",
      "Memory Usage: 15027.83 MB (RSS), 27523.27 MB (VMS)\n",
      "Processing batch 394/870 (45.29% completed)\n",
      "Memory Usage: 15027.83 MB (RSS), 27523.27 MB (VMS)\n",
      "Memory Usage: 15051.43 MB (RSS), 27546.71 MB (VMS)\n",
      "Processing batch 395/870 (45.40% completed)\n",
      "Memory Usage: 15051.43 MB (RSS), 27546.71 MB (VMS)\n",
      "Memory Usage: 15074.86 MB (RSS), 27570.15 MB (VMS)\n",
      "Processing batch 396/870 (45.52% completed)\n",
      "Memory Usage: 15074.86 MB (RSS), 27570.15 MB (VMS)\n",
      "Memory Usage: 15098.11 MB (RSS), 27593.59 MB (VMS)\n",
      "Processing batch 397/870 (45.63% completed)\n",
      "Memory Usage: 15098.11 MB (RSS), 27593.59 MB (VMS)\n",
      "Memory Usage: 15121.73 MB (RSS), 27617.02 MB (VMS)\n",
      "Processing batch 398/870 (45.75% completed)\n",
      "Memory Usage: 15121.73 MB (RSS), 27617.02 MB (VMS)\n",
      "Memory Usage: 15145.03 MB (RSS), 27640.46 MB (VMS)\n",
      "Processing batch 399/870 (45.86% completed)\n",
      "Memory Usage: 15145.03 MB (RSS), 27640.46 MB (VMS)\n",
      "Memory Usage: 15168.48 MB (RSS), 27663.90 MB (VMS)\n",
      "Processing batch 400/870 (45.98% completed)\n",
      "Memory Usage: 15168.48 MB (RSS), 27663.90 MB (VMS)\n",
      "Memory Usage: 15191.98 MB (RSS), 27687.34 MB (VMS)\n",
      "Processing batch 401/870 (46.09% completed)\n",
      "Memory Usage: 15191.98 MB (RSS), 27687.34 MB (VMS)\n",
      "Memory Usage: 15215.49 MB (RSS), 27710.77 MB (VMS)\n",
      "Processing batch 402/870 (46.21% completed)\n",
      "Memory Usage: 15215.49 MB (RSS), 27710.77 MB (VMS)\n",
      "Memory Usage: 15238.76 MB (RSS), 27734.21 MB (VMS)\n",
      "Processing batch 403/870 (46.32% completed)\n",
      "Memory Usage: 15238.76 MB (RSS), 27734.21 MB (VMS)\n",
      "Memory Usage: 15262.17 MB (RSS), 27757.65 MB (VMS)\n",
      "Processing batch 404/870 (46.44% completed)\n",
      "Memory Usage: 15262.17 MB (RSS), 27757.65 MB (VMS)\n",
      "Memory Usage: 15285.67 MB (RSS), 27781.09 MB (VMS)\n",
      "Processing batch 405/870 (46.55% completed)\n",
      "Memory Usage: 15285.67 MB (RSS), 27781.09 MB (VMS)\n",
      "Memory Usage: 15309.12 MB (RSS), 27804.52 MB (VMS)\n",
      "Processing batch 406/870 (46.67% completed)\n",
      "Memory Usage: 15309.12 MB (RSS), 27804.52 MB (VMS)\n",
      "Memory Usage: 15332.68 MB (RSS), 27827.96 MB (VMS)\n",
      "Processing batch 407/870 (46.78% completed)\n",
      "Memory Usage: 15332.68 MB (RSS), 27827.96 MB (VMS)\n",
      "Memory Usage: 15356.12 MB (RSS), 27851.40 MB (VMS)\n",
      "Processing batch 408/870 (46.90% completed)\n",
      "Memory Usage: 15356.12 MB (RSS), 27851.40 MB (VMS)\n",
      "Memory Usage: 15379.44 MB (RSS), 27874.84 MB (VMS)\n",
      "Processing batch 409/870 (47.01% completed)\n",
      "Memory Usage: 15379.44 MB (RSS), 27874.84 MB (VMS)\n",
      "Memory Usage: 15402.88 MB (RSS), 27898.28 MB (VMS)\n",
      "Processing batch 410/870 (47.13% completed)\n",
      "Memory Usage: 15402.88 MB (RSS), 27898.28 MB (VMS)\n",
      "Memory Usage: 15426.26 MB (RSS), 27921.71 MB (VMS)\n",
      "Processing batch 411/870 (47.24% completed)\n",
      "Memory Usage: 15426.26 MB (RSS), 27921.71 MB (VMS)\n",
      "Memory Usage: 15449.87 MB (RSS), 27945.15 MB (VMS)\n",
      "Processing batch 412/870 (47.36% completed)\n",
      "Memory Usage: 15449.87 MB (RSS), 27945.15 MB (VMS)\n",
      "Memory Usage: 15473.29 MB (RSS), 27968.59 MB (VMS)\n",
      "Processing batch 413/870 (47.47% completed)\n",
      "Memory Usage: 15473.29 MB (RSS), 27968.59 MB (VMS)\n",
      "Memory Usage: 15496.56 MB (RSS), 27992.03 MB (VMS)\n",
      "Processing batch 414/870 (47.59% completed)\n",
      "Memory Usage: 15496.56 MB (RSS), 27992.03 MB (VMS)\n",
      "Memory Usage: 15520.15 MB (RSS), 28015.46 MB (VMS)\n",
      "Processing batch 415/870 (47.70% completed)\n",
      "Memory Usage: 15520.15 MB (RSS), 28015.46 MB (VMS)\n",
      "Memory Usage: 15543.44 MB (RSS), 28038.90 MB (VMS)\n",
      "Processing batch 416/870 (47.82% completed)\n",
      "Memory Usage: 15543.44 MB (RSS), 28038.90 MB (VMS)\n",
      "Memory Usage: 15567.05 MB (RSS), 28062.34 MB (VMS)\n",
      "Processing batch 417/870 (47.93% completed)\n",
      "Memory Usage: 15567.05 MB (RSS), 28062.34 MB (VMS)\n",
      "Memory Usage: 15590.26 MB (RSS), 28085.78 MB (VMS)\n",
      "Processing batch 418/870 (48.05% completed)\n",
      "Memory Usage: 15590.26 MB (RSS), 28085.78 MB (VMS)\n",
      "Memory Usage: 15613.93 MB (RSS), 28109.21 MB (VMS)\n",
      "Processing batch 419/870 (48.16% completed)\n",
      "Memory Usage: 15613.93 MB (RSS), 28109.21 MB (VMS)\n",
      "Memory Usage: 15637.36 MB (RSS), 28132.65 MB (VMS)\n",
      "Processing batch 420/870 (48.28% completed)\n",
      "Memory Usage: 15637.36 MB (RSS), 28132.65 MB (VMS)\n",
      "Memory Usage: 15660.80 MB (RSS), 28156.09 MB (VMS)\n",
      "Processing batch 421/870 (48.39% completed)\n",
      "Memory Usage: 15660.80 MB (RSS), 28156.09 MB (VMS)\n",
      "Memory Usage: 15684.23 MB (RSS), 28179.53 MB (VMS)\n",
      "Processing batch 422/870 (48.51% completed)\n",
      "Memory Usage: 15684.23 MB (RSS), 28179.53 MB (VMS)\n",
      "Memory Usage: 15707.63 MB (RSS), 28202.96 MB (VMS)\n",
      "Processing batch 423/870 (48.62% completed)\n",
      "Memory Usage: 15707.63 MB (RSS), 28202.96 MB (VMS)\n",
      "Memory Usage: 15731.04 MB (RSS), 28226.40 MB (VMS)\n",
      "Processing batch 424/870 (48.74% completed)\n",
      "Memory Usage: 15731.04 MB (RSS), 28226.40 MB (VMS)\n",
      "Memory Usage: 15754.50 MB (RSS), 28249.84 MB (VMS)\n",
      "Processing batch 425/870 (48.85% completed)\n",
      "Memory Usage: 15754.50 MB (RSS), 28249.84 MB (VMS)\n",
      "Memory Usage: 15777.99 MB (RSS), 28273.28 MB (VMS)\n",
      "Processing batch 426/870 (48.97% completed)\n",
      "Memory Usage: 15777.99 MB (RSS), 28273.28 MB (VMS)\n",
      "Memory Usage: 15801.30 MB (RSS), 28296.71 MB (VMS)\n",
      "Processing batch 427/870 (49.08% completed)\n",
      "Memory Usage: 15801.30 MB (RSS), 28296.71 MB (VMS)\n",
      "Memory Usage: 15824.74 MB (RSS), 28320.15 MB (VMS)\n",
      "Processing batch 428/870 (49.20% completed)\n",
      "Memory Usage: 15824.74 MB (RSS), 28320.15 MB (VMS)\n",
      "Memory Usage: 15848.11 MB (RSS), 28343.59 MB (VMS)\n",
      "Processing batch 429/870 (49.31% completed)\n",
      "Memory Usage: 15848.11 MB (RSS), 28343.59 MB (VMS)\n",
      "Memory Usage: 15871.57 MB (RSS), 28367.03 MB (VMS)\n",
      "Processing batch 430/870 (49.43% completed)\n",
      "Memory Usage: 15871.57 MB (RSS), 28367.03 MB (VMS)\n",
      "Memory Usage: 15895.14 MB (RSS), 28390.47 MB (VMS)\n",
      "Processing batch 431/870 (49.54% completed)\n",
      "Memory Usage: 15895.14 MB (RSS), 28390.47 MB (VMS)\n",
      "Memory Usage: 15918.62 MB (RSS), 28413.91 MB (VMS)\n",
      "Processing batch 432/870 (49.66% completed)\n",
      "Memory Usage: 15918.62 MB (RSS), 28413.91 MB (VMS)\n",
      "Memory Usage: 15942.06 MB (RSS), 28437.34 MB (VMS)\n",
      "Processing batch 433/870 (49.77% completed)\n",
      "Memory Usage: 15942.06 MB (RSS), 28437.34 MB (VMS)\n",
      "Memory Usage: 15965.36 MB (RSS), 28460.78 MB (VMS)\n",
      "Processing batch 434/870 (49.89% completed)\n",
      "Memory Usage: 15965.36 MB (RSS), 28460.78 MB (VMS)\n",
      "Memory Usage: 15988.84 MB (RSS), 28484.22 MB (VMS)\n",
      "Processing batch 435/870 (50.00% completed)\n",
      "Memory Usage: 15988.84 MB (RSS), 28484.22 MB (VMS)\n",
      "Memory Usage: 16012.37 MB (RSS), 28507.66 MB (VMS)\n",
      "Processing batch 436/870 (50.11% completed)\n",
      "Memory Usage: 16012.37 MB (RSS), 28507.66 MB (VMS)\n",
      "Memory Usage: 16035.81 MB (RSS), 28531.09 MB (VMS)\n",
      "Processing batch 437/870 (50.23% completed)\n",
      "Memory Usage: 16035.81 MB (RSS), 28531.09 MB (VMS)\n",
      "Memory Usage: 16059.15 MB (RSS), 28554.53 MB (VMS)\n",
      "Processing batch 438/870 (50.34% completed)\n",
      "Memory Usage: 16059.15 MB (RSS), 28554.53 MB (VMS)\n",
      "Memory Usage: 16082.68 MB (RSS), 28577.97 MB (VMS)\n",
      "Processing batch 439/870 (50.46% completed)\n",
      "Memory Usage: 16082.68 MB (RSS), 28577.97 MB (VMS)\n",
      "Memory Usage: 16106.04 MB (RSS), 28601.41 MB (VMS)\n",
      "Processing batch 440/870 (50.57% completed)\n",
      "Memory Usage: 16106.04 MB (RSS), 28601.41 MB (VMS)\n",
      "Memory Usage: 16129.56 MB (RSS), 28624.84 MB (VMS)\n",
      "Processing batch 441/870 (50.69% completed)\n",
      "Memory Usage: 16129.56 MB (RSS), 28624.84 MB (VMS)\n",
      "Memory Usage: 16152.79 MB (RSS), 28648.28 MB (VMS)\n",
      "Processing batch 442/870 (50.80% completed)\n",
      "Memory Usage: 16152.79 MB (RSS), 28648.28 MB (VMS)\n",
      "Memory Usage: 16176.20 MB (RSS), 28671.72 MB (VMS)\n",
      "Processing batch 443/870 (50.92% completed)\n",
      "Memory Usage: 16176.20 MB (RSS), 28671.72 MB (VMS)\n",
      "Memory Usage: 16199.79 MB (RSS), 28695.16 MB (VMS)\n",
      "Processing batch 444/870 (51.03% completed)\n",
      "Memory Usage: 16199.79 MB (RSS), 28695.16 MB (VMS)\n",
      "Memory Usage: 16223.18 MB (RSS), 28718.59 MB (VMS)\n",
      "Processing batch 445/870 (51.15% completed)\n",
      "Memory Usage: 16223.18 MB (RSS), 28718.59 MB (VMS)\n",
      "Memory Usage: 16246.75 MB (RSS), 28742.03 MB (VMS)\n",
      "Processing batch 446/870 (51.26% completed)\n",
      "Memory Usage: 16246.75 MB (RSS), 28742.03 MB (VMS)\n",
      "Memory Usage: 16270.05 MB (RSS), 28765.47 MB (VMS)\n",
      "Processing batch 447/870 (51.38% completed)\n",
      "Memory Usage: 16270.05 MB (RSS), 28765.47 MB (VMS)\n",
      "Memory Usage: 16293.59 MB (RSS), 28788.91 MB (VMS)\n",
      "Processing batch 448/870 (51.49% completed)\n",
      "Memory Usage: 16293.59 MB (RSS), 28788.91 MB (VMS)\n",
      "Memory Usage: 16316.96 MB (RSS), 28812.34 MB (VMS)\n",
      "Processing batch 449/870 (51.61% completed)\n",
      "Memory Usage: 16316.96 MB (RSS), 28812.34 MB (VMS)\n",
      "Memory Usage: 16340.36 MB (RSS), 28835.78 MB (VMS)\n",
      "Processing batch 450/870 (51.72% completed)\n",
      "Memory Usage: 16340.36 MB (RSS), 28835.78 MB (VMS)\n",
      "Memory Usage: 16363.94 MB (RSS), 28859.22 MB (VMS)\n",
      "Processing batch 451/870 (51.84% completed)\n",
      "Memory Usage: 16363.94 MB (RSS), 28859.22 MB (VMS)\n",
      "Memory Usage: 16387.14 MB (RSS), 28882.66 MB (VMS)\n",
      "Processing batch 452/870 (51.95% completed)\n",
      "Memory Usage: 16387.14 MB (RSS), 28882.66 MB (VMS)\n",
      "Memory Usage: 16410.75 MB (RSS), 28906.10 MB (VMS)\n",
      "Processing batch 453/870 (52.07% completed)\n",
      "Memory Usage: 16410.75 MB (RSS), 28906.10 MB (VMS)\n",
      "Memory Usage: 16434.12 MB (RSS), 28929.54 MB (VMS)\n",
      "Processing batch 454/870 (52.18% completed)\n",
      "Memory Usage: 16434.12 MB (RSS), 28929.54 MB (VMS)\n",
      "Memory Usage: 16457.61 MB (RSS), 28952.97 MB (VMS)\n",
      "Processing batch 455/870 (52.30% completed)\n",
      "Memory Usage: 16457.61 MB (RSS), 28952.97 MB (VMS)\n",
      "Memory Usage: 16481.12 MB (RSS), 28976.41 MB (VMS)\n",
      "Processing batch 456/870 (52.41% completed)\n",
      "Memory Usage: 16481.12 MB (RSS), 28976.41 MB (VMS)\n",
      "Memory Usage: 16504.32 MB (RSS), 28999.85 MB (VMS)\n",
      "Processing batch 457/870 (52.53% completed)\n",
      "Memory Usage: 16504.32 MB (RSS), 28999.85 MB (VMS)\n",
      "Memory Usage: 16527.91 MB (RSS), 29023.29 MB (VMS)\n",
      "Processing batch 458/870 (52.64% completed)\n",
      "Memory Usage: 16527.91 MB (RSS), 29023.29 MB (VMS)\n",
      "Memory Usage: 16551.32 MB (RSS), 29046.72 MB (VMS)\n",
      "Processing batch 459/870 (52.76% completed)\n",
      "Memory Usage: 16551.32 MB (RSS), 29046.72 MB (VMS)\n",
      "Memory Usage: 16574.88 MB (RSS), 29070.16 MB (VMS)\n",
      "Processing batch 460/870 (52.87% completed)\n",
      "Memory Usage: 16574.88 MB (RSS), 29070.16 MB (VMS)\n",
      "Memory Usage: 16598.31 MB (RSS), 29093.60 MB (VMS)\n",
      "Processing batch 461/870 (52.99% completed)\n",
      "Memory Usage: 16598.31 MB (RSS), 29093.60 MB (VMS)\n",
      "Memory Usage: 16621.75 MB (RSS), 29117.04 MB (VMS)\n",
      "Processing batch 462/870 (53.10% completed)\n",
      "Memory Usage: 16621.75 MB (RSS), 29117.04 MB (VMS)\n",
      "Memory Usage: 16645.03 MB (RSS), 29140.47 MB (VMS)\n",
      "Processing batch 463/870 (53.22% completed)\n",
      "Memory Usage: 16645.03 MB (RSS), 29140.47 MB (VMS)\n",
      "Memory Usage: 16668.38 MB (RSS), 29163.91 MB (VMS)\n",
      "Processing batch 464/870 (53.33% completed)\n",
      "Memory Usage: 16668.38 MB (RSS), 29163.91 MB (VMS)\n",
      "Memory Usage: 16691.94 MB (RSS), 29187.35 MB (VMS)\n",
      "Processing batch 465/870 (53.45% completed)\n",
      "Memory Usage: 16691.94 MB (RSS), 29187.35 MB (VMS)\n",
      "Memory Usage: 16715.27 MB (RSS), 29210.79 MB (VMS)\n",
      "Processing batch 466/870 (53.56% completed)\n",
      "Memory Usage: 16715.27 MB (RSS), 29210.79 MB (VMS)\n",
      "Memory Usage: 16738.94 MB (RSS), 29234.22 MB (VMS)\n",
      "Processing batch 467/870 (53.68% completed)\n",
      "Memory Usage: 16738.94 MB (RSS), 29234.22 MB (VMS)\n",
      "Memory Usage: 16762.29 MB (RSS), 29257.66 MB (VMS)\n",
      "Processing batch 468/870 (53.79% completed)\n",
      "Memory Usage: 16762.29 MB (RSS), 29257.66 MB (VMS)\n",
      "Memory Usage: 16785.61 MB (RSS), 29281.10 MB (VMS)\n",
      "Processing batch 469/870 (53.91% completed)\n",
      "Memory Usage: 16785.61 MB (RSS), 29281.10 MB (VMS)\n",
      "Memory Usage: 16809.00 MB (RSS), 29304.54 MB (VMS)\n",
      "Processing batch 470/870 (54.02% completed)\n",
      "Memory Usage: 16809.25 MB (RSS), 29304.54 MB (VMS)\n",
      "Memory Usage: 16832.51 MB (RSS), 29327.97 MB (VMS)\n",
      "Processing batch 471/870 (54.14% completed)\n",
      "Memory Usage: 16832.51 MB (RSS), 29327.97 MB (VMS)\n",
      "Memory Usage: 16856.11 MB (RSS), 29351.41 MB (VMS)\n",
      "Processing batch 472/870 (54.25% completed)\n",
      "Memory Usage: 16856.11 MB (RSS), 29351.41 MB (VMS)\n",
      "Memory Usage: 16879.57 MB (RSS), 29374.85 MB (VMS)\n",
      "Processing batch 473/870 (54.37% completed)\n",
      "Memory Usage: 16879.57 MB (RSS), 29374.85 MB (VMS)\n",
      "Memory Usage: 16903.00 MB (RSS), 29398.29 MB (VMS)\n",
      "Processing batch 474/870 (54.48% completed)\n",
      "Memory Usage: 16903.00 MB (RSS), 29398.29 MB (VMS)\n",
      "Memory Usage: 16926.31 MB (RSS), 29421.73 MB (VMS)\n",
      "Processing batch 475/870 (54.60% completed)\n",
      "Memory Usage: 16926.31 MB (RSS), 29421.73 MB (VMS)\n",
      "Memory Usage: 16949.84 MB (RSS), 29445.16 MB (VMS)\n",
      "Processing batch 476/870 (54.71% completed)\n",
      "Memory Usage: 16949.84 MB (RSS), 29445.16 MB (VMS)\n",
      "Memory Usage: 16973.30 MB (RSS), 29468.60 MB (VMS)\n",
      "Processing batch 477/870 (54.83% completed)\n",
      "Memory Usage: 16973.30 MB (RSS), 29468.60 MB (VMS)\n",
      "Memory Usage: 16996.54 MB (RSS), 29492.04 MB (VMS)\n",
      "Processing batch 478/870 (54.94% completed)\n",
      "Memory Usage: 16996.54 MB (RSS), 29492.04 MB (VMS)\n",
      "Memory Usage: 17020.00 MB (RSS), 29515.48 MB (VMS)\n",
      "Processing batch 479/870 (55.06% completed)\n",
      "Memory Usage: 17020.00 MB (RSS), 29515.48 MB (VMS)\n",
      "Memory Usage: 17043.63 MB (RSS), 29538.91 MB (VMS)\n",
      "Processing batch 480/870 (55.17% completed)\n",
      "Memory Usage: 17043.63 MB (RSS), 29538.91 MB (VMS)\n",
      "Memory Usage: 17067.07 MB (RSS), 29562.35 MB (VMS)\n",
      "Processing batch 481/870 (55.29% completed)\n",
      "Memory Usage: 17067.07 MB (RSS), 29562.35 MB (VMS)\n",
      "Memory Usage: 17090.51 MB (RSS), 29585.79 MB (VMS)\n",
      "Processing batch 482/870 (55.40% completed)\n",
      "Memory Usage: 17090.51 MB (RSS), 29585.79 MB (VMS)\n",
      "Memory Usage: 17113.72 MB (RSS), 29609.23 MB (VMS)\n",
      "Processing batch 483/870 (55.52% completed)\n",
      "Memory Usage: 17113.72 MB (RSS), 29609.23 MB (VMS)\n",
      "Memory Usage: 17137.19 MB (RSS), 29632.66 MB (VMS)\n",
      "Processing batch 484/870 (55.63% completed)\n",
      "Memory Usage: 17137.19 MB (RSS), 29632.66 MB (VMS)\n",
      "Memory Usage: 17160.81 MB (RSS), 29656.10 MB (VMS)\n",
      "Processing batch 485/870 (55.75% completed)\n",
      "Memory Usage: 17160.81 MB (RSS), 29656.10 MB (VMS)\n",
      "Memory Usage: 17184.23 MB (RSS), 29679.54 MB (VMS)\n",
      "Processing batch 486/870 (55.86% completed)\n",
      "Memory Usage: 17184.23 MB (RSS), 29679.54 MB (VMS)\n",
      "Memory Usage: 17207.63 MB (RSS), 29702.98 MB (VMS)\n",
      "Processing batch 487/870 (55.98% completed)\n",
      "Memory Usage: 17207.63 MB (RSS), 29702.98 MB (VMS)\n",
      "Memory Usage: 17230.96 MB (RSS), 29726.41 MB (VMS)\n",
      "Processing batch 488/870 (56.09% completed)\n",
      "Memory Usage: 17230.96 MB (RSS), 29726.41 MB (VMS)\n",
      "Memory Usage: 17254.34 MB (RSS), 29749.85 MB (VMS)\n",
      "Processing batch 489/870 (56.21% completed)\n",
      "Memory Usage: 17254.34 MB (RSS), 29749.85 MB (VMS)\n",
      "Memory Usage: 17278.01 MB (RSS), 29773.29 MB (VMS)\n",
      "Processing batch 490/870 (56.32% completed)\n",
      "Memory Usage: 17278.01 MB (RSS), 29773.29 MB (VMS)\n",
      "Memory Usage: 17301.25 MB (RSS), 29796.73 MB (VMS)\n",
      "Processing batch 491/870 (56.44% completed)\n",
      "Memory Usage: 17301.25 MB (RSS), 29796.73 MB (VMS)\n",
      "Memory Usage: 17324.73 MB (RSS), 29820.16 MB (VMS)\n",
      "Processing batch 492/870 (56.55% completed)\n",
      "Memory Usage: 17324.73 MB (RSS), 29820.16 MB (VMS)\n",
      "Memory Usage: 17348.16 MB (RSS), 29843.61 MB (VMS)\n",
      "Processing batch 493/870 (56.67% completed)\n",
      "Memory Usage: 17348.16 MB (RSS), 29843.61 MB (VMS)\n",
      "Memory Usage: 17371.59 MB (RSS), 29867.04 MB (VMS)\n",
      "Processing batch 494/870 (56.78% completed)\n",
      "Memory Usage: 17371.59 MB (RSS), 29867.04 MB (VMS)\n",
      "Memory Usage: 17395.06 MB (RSS), 29890.48 MB (VMS)\n",
      "Processing batch 495/870 (56.90% completed)\n",
      "Memory Usage: 17395.06 MB (RSS), 29890.48 MB (VMS)\n",
      "Memory Usage: 17418.41 MB (RSS), 29913.92 MB (VMS)\n",
      "Processing batch 496/870 (57.01% completed)\n",
      "Memory Usage: 17418.41 MB (RSS), 29913.92 MB (VMS)\n",
      "Memory Usage: 17442.07 MB (RSS), 29937.36 MB (VMS)\n",
      "Processing batch 497/870 (57.13% completed)\n",
      "Memory Usage: 17442.07 MB (RSS), 29937.36 MB (VMS)\n",
      "Memory Usage: 17465.45 MB (RSS), 29960.79 MB (VMS)\n",
      "Processing batch 498/870 (57.24% completed)\n",
      "Memory Usage: 17465.45 MB (RSS), 29960.79 MB (VMS)\n",
      "Memory Usage: 17488.95 MB (RSS), 29984.23 MB (VMS)\n",
      "Processing batch 499/870 (57.36% completed)\n",
      "Memory Usage: 17488.95 MB (RSS), 29984.23 MB (VMS)\n",
      "Memory Usage: 17512.16 MB (RSS), 30007.67 MB (VMS)\n",
      "Processing batch 500/870 (57.47% completed)\n",
      "Memory Usage: 17512.16 MB (RSS), 30007.67 MB (VMS)\n",
      "Memory Usage: 17535.71 MB (RSS), 30031.11 MB (VMS)\n",
      "Processing batch 501/870 (57.59% completed)\n",
      "Memory Usage: 17535.71 MB (RSS), 30031.11 MB (VMS)\n",
      "Memory Usage: 17559.08 MB (RSS), 30054.54 MB (VMS)\n",
      "Processing batch 502/870 (57.70% completed)\n",
      "Memory Usage: 17559.08 MB (RSS), 30054.54 MB (VMS)\n",
      "Memory Usage: 17582.59 MB (RSS), 30077.98 MB (VMS)\n",
      "Processing batch 503/870 (57.82% completed)\n",
      "Memory Usage: 17582.59 MB (RSS), 30077.98 MB (VMS)\n",
      "Memory Usage: 17605.96 MB (RSS), 30101.42 MB (VMS)\n",
      "Processing batch 504/870 (57.93% completed)\n",
      "Memory Usage: 17605.96 MB (RSS), 30101.42 MB (VMS)\n",
      "Memory Usage: 17629.57 MB (RSS), 30124.86 MB (VMS)\n",
      "Processing batch 505/870 (58.05% completed)\n",
      "Memory Usage: 17629.57 MB (RSS), 30124.86 MB (VMS)\n",
      "Memory Usage: 17652.93 MB (RSS), 30148.29 MB (VMS)\n",
      "Processing batch 506/870 (58.16% completed)\n",
      "Memory Usage: 17652.93 MB (RSS), 30148.29 MB (VMS)\n",
      "Memory Usage: 17676.25 MB (RSS), 30171.73 MB (VMS)\n",
      "Processing batch 507/870 (58.28% completed)\n",
      "Memory Usage: 17676.25 MB (RSS), 30171.73 MB (VMS)\n",
      "Memory Usage: 17699.87 MB (RSS), 30195.17 MB (VMS)\n",
      "Processing batch 508/870 (58.39% completed)\n",
      "Memory Usage: 17699.87 MB (RSS), 30195.17 MB (VMS)\n",
      "Memory Usage: 17723.32 MB (RSS), 30218.61 MB (VMS)\n",
      "Processing batch 509/870 (58.51% completed)\n",
      "Memory Usage: 17723.32 MB (RSS), 30218.61 MB (VMS)\n",
      "Memory Usage: 17746.76 MB (RSS), 30242.04 MB (VMS)\n",
      "Processing batch 510/870 (58.62% completed)\n",
      "Memory Usage: 17746.76 MB (RSS), 30242.04 MB (VMS)\n",
      "Memory Usage: 17770.14 MB (RSS), 30265.48 MB (VMS)\n",
      "Processing batch 511/870 (58.74% completed)\n",
      "Memory Usage: 17770.14 MB (RSS), 30265.48 MB (VMS)\n",
      "Memory Usage: 17793.48 MB (RSS), 30288.92 MB (VMS)\n",
      "Processing batch 512/870 (58.85% completed)\n",
      "Memory Usage: 17793.48 MB (RSS), 30288.92 MB (VMS)\n",
      "Memory Usage: 17817.07 MB (RSS), 30312.36 MB (VMS)\n",
      "Processing batch 513/870 (58.97% completed)\n",
      "Memory Usage: 17817.07 MB (RSS), 30312.36 MB (VMS)\n",
      "Memory Usage: 17840.39 MB (RSS), 30335.79 MB (VMS)\n",
      "Processing batch 514/870 (59.08% completed)\n",
      "Memory Usage: 17840.39 MB (RSS), 30335.79 MB (VMS)\n",
      "Memory Usage: 17863.72 MB (RSS), 30359.23 MB (VMS)\n",
      "Processing batch 515/870 (59.20% completed)\n",
      "Memory Usage: 17863.72 MB (RSS), 30359.23 MB (VMS)\n",
      "Memory Usage: 17887.17 MB (RSS), 30382.67 MB (VMS)\n",
      "Processing batch 516/870 (59.31% completed)\n",
      "Memory Usage: 17887.17 MB (RSS), 30382.67 MB (VMS)\n",
      "Memory Usage: 17910.80 MB (RSS), 30406.11 MB (VMS)\n",
      "Processing batch 517/870 (59.43% completed)\n",
      "Memory Usage: 17910.80 MB (RSS), 30406.11 MB (VMS)\n",
      "Memory Usage: 17934.05 MB (RSS), 30429.55 MB (VMS)\n",
      "Processing batch 518/870 (59.54% completed)\n",
      "Memory Usage: 17934.27 MB (RSS), 30429.55 MB (VMS)\n",
      "Memory Usage: 17957.52 MB (RSS), 30452.98 MB (VMS)\n",
      "Processing batch 519/870 (59.66% completed)\n",
      "Memory Usage: 17957.52 MB (RSS), 30452.98 MB (VMS)\n",
      "Memory Usage: 17981.04 MB (RSS), 30476.42 MB (VMS)\n",
      "Processing batch 520/870 (59.77% completed)\n",
      "Memory Usage: 17981.04 MB (RSS), 30476.42 MB (VMS)\n",
      "Memory Usage: 18004.36 MB (RSS), 30499.86 MB (VMS)\n",
      "Processing batch 521/870 (59.89% completed)\n",
      "Memory Usage: 18004.36 MB (RSS), 30499.86 MB (VMS)\n",
      "Memory Usage: 18027.82 MB (RSS), 30523.30 MB (VMS)\n",
      "Processing batch 522/870 (60.00% completed)\n",
      "Memory Usage: 18027.82 MB (RSS), 30523.30 MB (VMS)\n",
      "Memory Usage: 18051.39 MB (RSS), 30546.73 MB (VMS)\n",
      "Processing batch 523/870 (60.11% completed)\n",
      "Memory Usage: 18051.39 MB (RSS), 30546.73 MB (VMS)\n",
      "Memory Usage: 18074.85 MB (RSS), 30570.17 MB (VMS)\n",
      "Processing batch 524/870 (60.23% completed)\n",
      "Memory Usage: 18074.85 MB (RSS), 30570.17 MB (VMS)\n",
      "Memory Usage: 18098.29 MB (RSS), 30593.61 MB (VMS)\n",
      "Processing batch 525/870 (60.34% completed)\n",
      "Memory Usage: 18098.29 MB (RSS), 30593.61 MB (VMS)\n",
      "Memory Usage: 18121.53 MB (RSS), 30617.05 MB (VMS)\n",
      "Processing batch 526/870 (60.46% completed)\n",
      "Memory Usage: 18121.53 MB (RSS), 30617.05 MB (VMS)\n",
      "Memory Usage: 18145.20 MB (RSS), 30640.48 MB (VMS)\n",
      "Processing batch 527/870 (60.57% completed)\n",
      "Memory Usage: 18145.20 MB (RSS), 30640.48 MB (VMS)\n",
      "Memory Usage: 18168.64 MB (RSS), 30663.92 MB (VMS)\n",
      "Processing batch 528/870 (60.69% completed)\n",
      "Memory Usage: 18168.64 MB (RSS), 30663.92 MB (VMS)\n",
      "Memory Usage: 18192.05 MB (RSS), 30687.36 MB (VMS)\n",
      "Processing batch 529/870 (60.80% completed)\n",
      "Memory Usage: 18192.05 MB (RSS), 30687.36 MB (VMS)\n",
      "Memory Usage: 18215.36 MB (RSS), 30710.80 MB (VMS)\n",
      "Processing batch 530/870 (60.92% completed)\n",
      "Memory Usage: 18215.36 MB (RSS), 30710.80 MB (VMS)\n",
      "Memory Usage: 18238.82 MB (RSS), 30734.23 MB (VMS)\n",
      "Processing batch 531/870 (61.03% completed)\n",
      "Memory Usage: 18238.82 MB (RSS), 30734.23 MB (VMS)\n",
      "Memory Usage: 18262.39 MB (RSS), 30757.67 MB (VMS)\n",
      "Processing batch 532/870 (61.15% completed)\n",
      "Memory Usage: 18262.39 MB (RSS), 30757.67 MB (VMS)\n",
      "Memory Usage: 18285.63 MB (RSS), 30781.11 MB (VMS)\n",
      "Processing batch 533/870 (61.26% completed)\n",
      "Memory Usage: 18285.63 MB (RSS), 30781.11 MB (VMS)\n",
      "Memory Usage: 18309.16 MB (RSS), 30804.55 MB (VMS)\n",
      "Processing batch 534/870 (61.38% completed)\n",
      "Memory Usage: 18309.16 MB (RSS), 30804.55 MB (VMS)\n",
      "Memory Usage: 18332.61 MB (RSS), 30827.98 MB (VMS)\n",
      "Processing batch 535/870 (61.49% completed)\n",
      "Memory Usage: 18332.61 MB (RSS), 30827.98 MB (VMS)\n",
      "Memory Usage: 18356.14 MB (RSS), 30851.43 MB (VMS)\n",
      "Processing batch 536/870 (61.61% completed)\n",
      "Memory Usage: 18356.14 MB (RSS), 30851.43 MB (VMS)\n",
      "Memory Usage: 18379.39 MB (RSS), 30874.86 MB (VMS)\n",
      "Processing batch 537/870 (61.72% completed)\n",
      "Memory Usage: 18379.39 MB (RSS), 30874.86 MB (VMS)\n",
      "Memory Usage: 18402.88 MB (RSS), 30898.30 MB (VMS)\n",
      "Processing batch 538/870 (61.84% completed)\n",
      "Memory Usage: 18402.88 MB (RSS), 30898.30 MB (VMS)\n",
      "Memory Usage: 18426.44 MB (RSS), 30921.74 MB (VMS)\n",
      "Processing batch 539/870 (61.95% completed)\n",
      "Memory Usage: 18426.44 MB (RSS), 30921.74 MB (VMS)\n",
      "Memory Usage: 18449.72 MB (RSS), 30945.18 MB (VMS)\n",
      "Processing batch 540/870 (62.07% completed)\n",
      "Memory Usage: 18449.72 MB (RSS), 30945.18 MB (VMS)\n",
      "Memory Usage: 18473.08 MB (RSS), 30968.61 MB (VMS)\n",
      "Processing batch 541/870 (62.18% completed)\n",
      "Memory Usage: 18473.33 MB (RSS), 30968.61 MB (VMS)\n",
      "Memory Usage: 18496.60 MB (RSS), 30992.05 MB (VMS)\n",
      "Processing batch 542/870 (62.30% completed)\n",
      "Memory Usage: 18496.60 MB (RSS), 30992.05 MB (VMS)\n",
      "Memory Usage: 18520.10 MB (RSS), 31015.49 MB (VMS)\n",
      "Processing batch 543/870 (62.41% completed)\n",
      "Memory Usage: 18520.10 MB (RSS), 31015.49 MB (VMS)\n",
      "Memory Usage: 18543.59 MB (RSS), 31038.93 MB (VMS)\n",
      "Processing batch 544/870 (62.53% completed)\n",
      "Memory Usage: 18543.59 MB (RSS), 31038.93 MB (VMS)\n",
      "Memory Usage: 18567.08 MB (RSS), 31062.36 MB (VMS)\n",
      "Processing batch 545/870 (62.64% completed)\n",
      "Memory Usage: 18567.08 MB (RSS), 31062.36 MB (VMS)\n",
      "Memory Usage: 18590.52 MB (RSS), 31085.80 MB (VMS)\n",
      "Processing batch 546/870 (62.76% completed)\n",
      "Memory Usage: 18590.52 MB (RSS), 31085.80 MB (VMS)\n",
      "Memory Usage: 18613.74 MB (RSS), 31109.24 MB (VMS)\n",
      "Processing batch 547/870 (62.87% completed)\n",
      "Memory Usage: 18613.74 MB (RSS), 31109.24 MB (VMS)\n",
      "Memory Usage: 18637.17 MB (RSS), 31132.68 MB (VMS)\n",
      "Processing batch 548/870 (62.99% completed)\n",
      "Memory Usage: 18637.17 MB (RSS), 31132.68 MB (VMS)\n",
      "Memory Usage: 18660.66 MB (RSS), 31156.11 MB (VMS)\n",
      "Processing batch 549/870 (63.10% completed)\n",
      "Memory Usage: 18660.66 MB (RSS), 31156.11 MB (VMS)\n",
      "Memory Usage: 18684.27 MB (RSS), 31179.55 MB (VMS)\n",
      "Processing batch 550/870 (63.22% completed)\n",
      "Memory Usage: 18684.27 MB (RSS), 31179.55 MB (VMS)\n",
      "Memory Usage: 18707.71 MB (RSS), 31202.99 MB (VMS)\n",
      "Processing batch 551/870 (63.33% completed)\n",
      "Memory Usage: 18707.71 MB (RSS), 31202.99 MB (VMS)\n",
      "Memory Usage: 18731.14 MB (RSS), 31226.43 MB (VMS)\n",
      "Processing batch 552/870 (63.45% completed)\n",
      "Memory Usage: 18731.14 MB (RSS), 31226.43 MB (VMS)\n",
      "Memory Usage: 18754.51 MB (RSS), 31249.86 MB (VMS)\n",
      "Processing batch 553/870 (63.56% completed)\n",
      "Memory Usage: 18754.51 MB (RSS), 31249.86 MB (VMS)\n",
      "Memory Usage: 18777.86 MB (RSS), 31273.30 MB (VMS)\n",
      "Processing batch 554/870 (63.68% completed)\n",
      "Memory Usage: 18777.86 MB (RSS), 31273.30 MB (VMS)\n",
      "Memory Usage: 18801.23 MB (RSS), 31296.74 MB (VMS)\n",
      "Processing batch 555/870 (63.79% completed)\n",
      "Memory Usage: 18801.23 MB (RSS), 31296.74 MB (VMS)\n",
      "Memory Usage: 18824.82 MB (RSS), 31320.18 MB (VMS)\n",
      "Processing batch 556/870 (63.91% completed)\n",
      "Memory Usage: 18824.82 MB (RSS), 31320.18 MB (VMS)\n",
      "Memory Usage: 18848.31 MB (RSS), 31343.62 MB (VMS)\n",
      "Processing batch 557/870 (64.02% completed)\n",
      "Memory Usage: 18848.31 MB (RSS), 31343.62 MB (VMS)\n",
      "Memory Usage: 18871.77 MB (RSS), 31367.05 MB (VMS)\n",
      "Processing batch 558/870 (64.14% completed)\n",
      "Memory Usage: 18871.77 MB (RSS), 31367.05 MB (VMS)\n",
      "Memory Usage: 18895.04 MB (RSS), 31390.49 MB (VMS)\n",
      "Processing batch 559/870 (64.25% completed)\n",
      "Memory Usage: 18895.04 MB (RSS), 31390.49 MB (VMS)\n",
      "Memory Usage: 18918.49 MB (RSS), 31413.93 MB (VMS)\n",
      "Processing batch 560/870 (64.37% completed)\n",
      "Memory Usage: 18918.49 MB (RSS), 31413.93 MB (VMS)\n",
      "Memory Usage: 18941.91 MB (RSS), 31437.37 MB (VMS)\n",
      "Processing batch 561/870 (64.48% completed)\n",
      "Memory Usage: 18941.91 MB (RSS), 31437.37 MB (VMS)\n",
      "Memory Usage: 18965.39 MB (RSS), 31460.80 MB (VMS)\n",
      "Processing batch 562/870 (64.60% completed)\n",
      "Memory Usage: 18965.39 MB (RSS), 31460.80 MB (VMS)\n",
      "Memory Usage: 18988.91 MB (RSS), 31484.24 MB (VMS)\n",
      "Processing batch 563/870 (64.71% completed)\n",
      "Memory Usage: 18988.91 MB (RSS), 31484.24 MB (VMS)\n",
      "Memory Usage: 19012.38 MB (RSS), 31507.68 MB (VMS)\n",
      "Processing batch 564/870 (64.83% completed)\n",
      "Memory Usage: 19012.38 MB (RSS), 31507.68 MB (VMS)\n",
      "Memory Usage: 19035.77 MB (RSS), 31531.12 MB (VMS)\n",
      "Processing batch 565/870 (64.94% completed)\n",
      "Memory Usage: 19035.77 MB (RSS), 31531.12 MB (VMS)\n",
      "Memory Usage: 19059.23 MB (RSS), 31554.55 MB (VMS)\n",
      "Processing batch 566/870 (65.06% completed)\n",
      "Memory Usage: 19059.23 MB (RSS), 31554.55 MB (VMS)\n",
      "Memory Usage: 19082.71 MB (RSS), 31577.99 MB (VMS)\n",
      "Processing batch 567/870 (65.17% completed)\n",
      "Memory Usage: 19082.71 MB (RSS), 31577.99 MB (VMS)\n",
      "Memory Usage: 19106.15 MB (RSS), 31601.43 MB (VMS)\n",
      "Processing batch 568/870 (65.29% completed)\n",
      "Memory Usage: 19106.15 MB (RSS), 31601.43 MB (VMS)\n",
      "Memory Usage: 19129.47 MB (RSS), 31624.87 MB (VMS)\n",
      "Processing batch 569/870 (65.40% completed)\n",
      "Memory Usage: 19129.47 MB (RSS), 31624.87 MB (VMS)\n",
      "Memory Usage: 19152.87 MB (RSS), 31648.30 MB (VMS)\n",
      "Processing batch 570/870 (65.52% completed)\n",
      "Memory Usage: 19152.87 MB (RSS), 31648.30 MB (VMS)\n",
      "Memory Usage: 19176.24 MB (RSS), 31671.74 MB (VMS)\n",
      "Processing batch 571/870 (65.63% completed)\n",
      "Memory Usage: 19176.24 MB (RSS), 31671.74 MB (VMS)\n",
      "Memory Usage: 19199.77 MB (RSS), 31695.18 MB (VMS)\n",
      "Processing batch 572/870 (65.75% completed)\n",
      "Memory Usage: 19199.77 MB (RSS), 31695.18 MB (VMS)\n",
      "Memory Usage: 19223.27 MB (RSS), 31718.62 MB (VMS)\n",
      "Processing batch 573/870 (65.86% completed)\n",
      "Memory Usage: 19223.27 MB (RSS), 31718.62 MB (VMS)\n",
      "Memory Usage: 19246.54 MB (RSS), 31742.05 MB (VMS)\n",
      "Processing batch 574/870 (65.98% completed)\n",
      "Memory Usage: 19246.54 MB (RSS), 31742.05 MB (VMS)\n",
      "Memory Usage: 19270.10 MB (RSS), 31765.49 MB (VMS)\n",
      "Processing batch 575/870 (66.09% completed)\n",
      "Memory Usage: 19270.10 MB (RSS), 31765.49 MB (VMS)\n",
      "Memory Usage: 19293.65 MB (RSS), 31788.93 MB (VMS)\n",
      "Processing batch 576/870 (66.21% completed)\n",
      "Memory Usage: 19293.65 MB (RSS), 31788.93 MB (VMS)\n",
      "Memory Usage: 19316.86 MB (RSS), 31812.37 MB (VMS)\n",
      "Processing batch 577/870 (66.32% completed)\n",
      "Memory Usage: 19317.09 MB (RSS), 31812.37 MB (VMS)\n",
      "Memory Usage: 19340.30 MB (RSS), 31835.80 MB (VMS)\n",
      "Processing batch 578/870 (66.44% completed)\n",
      "Memory Usage: 19340.30 MB (RSS), 31835.80 MB (VMS)\n",
      "Memory Usage: 19363.87 MB (RSS), 31859.25 MB (VMS)\n",
      "Processing batch 579/870 (66.55% completed)\n",
      "Memory Usage: 19363.87 MB (RSS), 31859.25 MB (VMS)\n",
      "Memory Usage: 19387.36 MB (RSS), 31882.68 MB (VMS)\n",
      "Processing batch 580/870 (66.67% completed)\n",
      "Memory Usage: 19387.36 MB (RSS), 31882.68 MB (VMS)\n",
      "Memory Usage: 19410.63 MB (RSS), 31906.12 MB (VMS)\n",
      "Processing batch 581/870 (66.78% completed)\n",
      "Memory Usage: 19410.63 MB (RSS), 31906.12 MB (VMS)\n",
      "Memory Usage: 19434.15 MB (RSS), 31929.56 MB (VMS)\n",
      "Processing batch 582/870 (66.90% completed)\n",
      "Memory Usage: 19434.15 MB (RSS), 31929.56 MB (VMS)\n",
      "Memory Usage: 19457.71 MB (RSS), 31953.00 MB (VMS)\n",
      "Processing batch 583/870 (67.01% completed)\n",
      "Memory Usage: 19457.71 MB (RSS), 31953.00 MB (VMS)\n",
      "Memory Usage: 19481.10 MB (RSS), 31976.43 MB (VMS)\n",
      "Processing batch 584/870 (67.13% completed)\n",
      "Memory Usage: 19481.10 MB (RSS), 31976.43 MB (VMS)\n",
      "Memory Usage: 19504.59 MB (RSS), 31999.87 MB (VMS)\n",
      "Processing batch 585/870 (67.24% completed)\n",
      "Memory Usage: 19504.59 MB (RSS), 31999.87 MB (VMS)\n",
      "Memory Usage: 19527.82 MB (RSS), 32023.31 MB (VMS)\n",
      "Processing batch 586/870 (67.36% completed)\n",
      "Memory Usage: 19527.82 MB (RSS), 32023.31 MB (VMS)\n",
      "Memory Usage: 19551.46 MB (RSS), 32046.75 MB (VMS)\n",
      "Processing batch 587/870 (67.47% completed)\n",
      "Memory Usage: 19551.46 MB (RSS), 32046.75 MB (VMS)\n",
      "Memory Usage: 19574.82 MB (RSS), 32070.18 MB (VMS)\n",
      "Processing batch 588/870 (67.59% completed)\n",
      "Memory Usage: 19574.82 MB (RSS), 32070.18 MB (VMS)\n",
      "Memory Usage: 19598.12 MB (RSS), 32093.62 MB (VMS)\n",
      "Processing batch 589/870 (67.70% completed)\n",
      "Memory Usage: 19598.12 MB (RSS), 32093.62 MB (VMS)\n",
      "Memory Usage: 19621.61 MB (RSS), 32117.06 MB (VMS)\n",
      "Processing batch 590/870 (67.82% completed)\n",
      "Memory Usage: 19621.61 MB (RSS), 32117.06 MB (VMS)\n",
      "Memory Usage: 19645.16 MB (RSS), 32140.50 MB (VMS)\n",
      "Processing batch 591/870 (67.93% completed)\n",
      "Memory Usage: 19645.16 MB (RSS), 32140.50 MB (VMS)\n",
      "Memory Usage: 19668.52 MB (RSS), 32163.93 MB (VMS)\n",
      "Processing batch 592/870 (68.05% completed)\n",
      "Memory Usage: 19668.52 MB (RSS), 32163.93 MB (VMS)\n",
      "Memory Usage: 19691.91 MB (RSS), 32187.37 MB (VMS)\n",
      "Processing batch 593/870 (68.16% completed)\n",
      "Memory Usage: 19691.91 MB (RSS), 32187.37 MB (VMS)\n",
      "Memory Usage: 19715.53 MB (RSS), 32210.81 MB (VMS)\n",
      "Processing batch 594/870 (68.28% completed)\n",
      "Memory Usage: 19715.53 MB (RSS), 32210.81 MB (VMS)\n",
      "Memory Usage: 19738.96 MB (RSS), 32234.25 MB (VMS)\n",
      "Processing batch 595/870 (68.39% completed)\n",
      "Memory Usage: 19738.96 MB (RSS), 32234.25 MB (VMS)\n",
      "Memory Usage: 19762.20 MB (RSS), 32257.68 MB (VMS)\n",
      "Processing batch 596/870 (68.51% completed)\n",
      "Memory Usage: 19762.20 MB (RSS), 32257.68 MB (VMS)\n",
      "Memory Usage: 19785.80 MB (RSS), 32281.12 MB (VMS)\n",
      "Processing batch 597/870 (68.62% completed)\n",
      "Memory Usage: 19785.80 MB (RSS), 32281.12 MB (VMS)\n",
      "Memory Usage: 19809.14 MB (RSS), 32304.56 MB (VMS)\n",
      "Processing batch 598/870 (68.74% completed)\n",
      "Memory Usage: 19809.14 MB (RSS), 32304.56 MB (VMS)\n",
      "Memory Usage: 19832.46 MB (RSS), 32328.00 MB (VMS)\n",
      "Processing batch 599/870 (68.85% completed)\n",
      "Memory Usage: 19832.46 MB (RSS), 32328.00 MB (VMS)\n",
      "Memory Usage: 19855.94 MB (RSS), 32351.44 MB (VMS)\n",
      "Processing batch 600/870 (68.97% completed)\n",
      "Memory Usage: 19855.94 MB (RSS), 32351.44 MB (VMS)\n",
      "Memory Usage: 19879.50 MB (RSS), 32374.88 MB (VMS)\n",
      "Processing batch 601/870 (69.08% completed)\n",
      "Memory Usage: 19879.50 MB (RSS), 32374.88 MB (VMS)\n",
      "Memory Usage: 19903.03 MB (RSS), 32398.31 MB (VMS)\n",
      "Processing batch 602/870 (69.20% completed)\n",
      "Memory Usage: 19903.03 MB (RSS), 32398.31 MB (VMS)\n",
      "Memory Usage: 19926.36 MB (RSS), 32421.75 MB (VMS)\n",
      "Processing batch 603/870 (69.31% completed)\n",
      "Memory Usage: 19926.36 MB (RSS), 32421.75 MB (VMS)\n",
      "Memory Usage: 19949.91 MB (RSS), 32445.19 MB (VMS)\n",
      "Processing batch 604/870 (69.43% completed)\n",
      "Memory Usage: 19949.91 MB (RSS), 32445.19 MB (VMS)\n",
      "Memory Usage: 19973.25 MB (RSS), 32468.62 MB (VMS)\n",
      "Processing batch 605/870 (69.54% completed)\n",
      "Memory Usage: 19973.25 MB (RSS), 32468.62 MB (VMS)\n",
      "Memory Usage: 19996.69 MB (RSS), 32492.06 MB (VMS)\n",
      "Processing batch 606/870 (69.66% completed)\n",
      "Memory Usage: 19996.69 MB (RSS), 32492.06 MB (VMS)\n",
      "Memory Usage: 20020.06 MB (RSS), 32515.50 MB (VMS)\n",
      "Processing batch 607/870 (69.77% completed)\n",
      "Memory Usage: 20020.06 MB (RSS), 32515.50 MB (VMS)\n",
      "Memory Usage: 20043.59 MB (RSS), 32538.94 MB (VMS)\n",
      "Processing batch 608/870 (69.89% completed)\n",
      "Memory Usage: 20043.59 MB (RSS), 32538.94 MB (VMS)\n",
      "Memory Usage: 20067.08 MB (RSS), 32562.38 MB (VMS)\n",
      "Processing batch 609/870 (70.00% completed)\n",
      "Memory Usage: 20067.08 MB (RSS), 32562.38 MB (VMS)\n",
      "Memory Usage: 20090.32 MB (RSS), 32585.81 MB (VMS)\n",
      "Processing batch 610/870 (70.11% completed)\n",
      "Memory Usage: 20090.32 MB (RSS), 32585.81 MB (VMS)\n",
      "Memory Usage: 20113.88 MB (RSS), 32609.25 MB (VMS)\n",
      "Processing batch 611/870 (70.23% completed)\n",
      "Memory Usage: 20113.88 MB (RSS), 32609.25 MB (VMS)\n",
      "Memory Usage: 20137.41 MB (RSS), 32632.69 MB (VMS)\n",
      "Processing batch 612/870 (70.34% completed)\n",
      "Memory Usage: 20137.41 MB (RSS), 32632.69 MB (VMS)\n",
      "Memory Usage: 20160.63 MB (RSS), 32656.12 MB (VMS)\n",
      "Processing batch 613/870 (70.46% completed)\n",
      "Memory Usage: 20160.63 MB (RSS), 32656.12 MB (VMS)\n",
      "Memory Usage: 20184.25 MB (RSS), 32679.56 MB (VMS)\n",
      "Processing batch 614/870 (70.57% completed)\n",
      "Memory Usage: 20184.25 MB (RSS), 32679.56 MB (VMS)\n",
      "Memory Usage: 20207.52 MB (RSS), 32703.00 MB (VMS)\n",
      "Processing batch 615/870 (70.69% completed)\n",
      "Memory Usage: 20207.52 MB (RSS), 32703.00 MB (VMS)\n",
      "Memory Usage: 20231.04 MB (RSS), 32726.44 MB (VMS)\n",
      "Processing batch 616/870 (70.80% completed)\n",
      "Memory Usage: 20231.04 MB (RSS), 32726.44 MB (VMS)\n",
      "Memory Usage: 20254.36 MB (RSS), 32749.88 MB (VMS)\n",
      "Processing batch 617/870 (70.92% completed)\n",
      "Memory Usage: 20254.59 MB (RSS), 32749.88 MB (VMS)\n",
      "Memory Usage: 20278.03 MB (RSS), 32773.31 MB (VMS)\n",
      "Processing batch 618/870 (71.03% completed)\n",
      "Memory Usage: 20278.03 MB (RSS), 32773.31 MB (VMS)\n",
      "Memory Usage: 20301.47 MB (RSS), 32796.75 MB (VMS)\n",
      "Processing batch 619/870 (71.15% completed)\n",
      "Memory Usage: 20301.47 MB (RSS), 32796.75 MB (VMS)\n",
      "Memory Usage: 20324.84 MB (RSS), 32820.19 MB (VMS)\n",
      "Processing batch 620/870 (71.26% completed)\n",
      "Memory Usage: 20324.84 MB (RSS), 32820.19 MB (VMS)\n",
      "Memory Usage: 20348.35 MB (RSS), 32843.63 MB (VMS)\n",
      "Processing batch 621/870 (71.38% completed)\n",
      "Memory Usage: 20348.35 MB (RSS), 32843.63 MB (VMS)\n",
      "Memory Usage: 20371.69 MB (RSS), 32867.07 MB (VMS)\n",
      "Processing batch 622/870 (71.49% completed)\n",
      "Memory Usage: 20371.69 MB (RSS), 32867.07 MB (VMS)\n",
      "Memory Usage: 20395.17 MB (RSS), 32890.50 MB (VMS)\n",
      "Processing batch 623/870 (71.61% completed)\n",
      "Memory Usage: 20395.17 MB (RSS), 32890.50 MB (VMS)\n",
      "Memory Usage: 20418.61 MB (RSS), 32913.94 MB (VMS)\n",
      "Processing batch 624/870 (71.72% completed)\n",
      "Memory Usage: 20418.61 MB (RSS), 32913.94 MB (VMS)\n",
      "Memory Usage: 20441.88 MB (RSS), 32937.38 MB (VMS)\n",
      "Processing batch 625/870 (71.84% completed)\n",
      "Memory Usage: 20441.88 MB (RSS), 32937.38 MB (VMS)\n",
      "Memory Usage: 20465.30 MB (RSS), 32960.82 MB (VMS)\n",
      "Processing batch 626/870 (71.95% completed)\n",
      "Memory Usage: 20465.30 MB (RSS), 32960.82 MB (VMS)\n",
      "Memory Usage: 20488.82 MB (RSS), 32984.25 MB (VMS)\n",
      "Processing batch 627/870 (72.07% completed)\n",
      "Memory Usage: 20488.82 MB (RSS), 32984.25 MB (VMS)\n",
      "Memory Usage: 20512.41 MB (RSS), 33007.69 MB (VMS)\n",
      "Processing batch 628/870 (72.18% completed)\n",
      "Memory Usage: 20512.41 MB (RSS), 33007.69 MB (VMS)\n",
      "Memory Usage: 20535.71 MB (RSS), 33031.13 MB (VMS)\n",
      "Processing batch 629/870 (72.30% completed)\n",
      "Memory Usage: 20535.71 MB (RSS), 33031.13 MB (VMS)\n",
      "Memory Usage: 20559.07 MB (RSS), 33054.57 MB (VMS)\n",
      "Processing batch 630/870 (72.41% completed)\n",
      "Memory Usage: 20559.07 MB (RSS), 33054.57 MB (VMS)\n",
      "Memory Usage: 20582.66 MB (RSS), 33078.00 MB (VMS)\n",
      "Processing batch 631/870 (72.53% completed)\n",
      "Memory Usage: 20582.66 MB (RSS), 33078.00 MB (VMS)\n",
      "Memory Usage: 20605.96 MB (RSS), 33101.44 MB (VMS)\n",
      "Processing batch 632/870 (72.64% completed)\n",
      "Memory Usage: 20605.96 MB (RSS), 33101.44 MB (VMS)\n",
      "Memory Usage: 20629.46 MB (RSS), 33124.88 MB (VMS)\n",
      "Processing batch 633/870 (72.76% completed)\n",
      "Memory Usage: 20629.46 MB (RSS), 33124.88 MB (VMS)\n",
      "Memory Usage: 20652.93 MB (RSS), 33148.32 MB (VMS)\n",
      "Processing batch 634/870 (72.87% completed)\n",
      "Memory Usage: 20652.93 MB (RSS), 33148.32 MB (VMS)\n",
      "Memory Usage: 20676.44 MB (RSS), 33171.75 MB (VMS)\n",
      "Processing batch 635/870 (72.99% completed)\n",
      "Memory Usage: 20676.44 MB (RSS), 33171.75 MB (VMS)\n",
      "Memory Usage: 20699.69 MB (RSS), 33195.19 MB (VMS)\n",
      "Processing batch 636/870 (73.10% completed)\n",
      "Memory Usage: 20699.69 MB (RSS), 33195.19 MB (VMS)\n",
      "Memory Usage: 20723.35 MB (RSS), 33218.63 MB (VMS)\n",
      "Processing batch 637/870 (73.22% completed)\n",
      "Memory Usage: 20723.35 MB (RSS), 33218.63 MB (VMS)\n",
      "Memory Usage: 20746.66 MB (RSS), 33242.07 MB (VMS)\n",
      "Processing batch 638/870 (73.33% completed)\n",
      "Memory Usage: 20746.66 MB (RSS), 33242.07 MB (VMS)\n",
      "Memory Usage: 20770.22 MB (RSS), 33265.50 MB (VMS)\n",
      "Processing batch 639/870 (73.45% completed)\n",
      "Memory Usage: 20770.22 MB (RSS), 33265.50 MB (VMS)\n",
      "Memory Usage: 20793.53 MB (RSS), 33288.94 MB (VMS)\n",
      "Processing batch 640/870 (73.56% completed)\n",
      "Memory Usage: 20793.53 MB (RSS), 33288.94 MB (VMS)\n",
      "Memory Usage: 20817.02 MB (RSS), 33312.38 MB (VMS)\n",
      "Processing batch 641/870 (73.68% completed)\n",
      "Memory Usage: 20817.02 MB (RSS), 33312.38 MB (VMS)\n",
      "Memory Usage: 20840.54 MB (RSS), 33335.82 MB (VMS)\n",
      "Processing batch 642/870 (73.79% completed)\n",
      "Memory Usage: 20840.54 MB (RSS), 33335.82 MB (VMS)\n",
      "Memory Usage: 20863.98 MB (RSS), 33359.26 MB (VMS)\n",
      "Processing batch 643/870 (73.91% completed)\n",
      "Memory Usage: 20863.98 MB (RSS), 33359.26 MB (VMS)\n",
      "Memory Usage: 20887.41 MB (RSS), 33382.70 MB (VMS)\n",
      "Processing batch 644/870 (74.02% completed)\n",
      "Memory Usage: 20887.41 MB (RSS), 33382.70 MB (VMS)\n",
      "Memory Usage: 20910.62 MB (RSS), 33406.13 MB (VMS)\n",
      "Processing batch 645/870 (74.14% completed)\n",
      "Memory Usage: 20910.62 MB (RSS), 33406.13 MB (VMS)\n",
      "Memory Usage: 20934.29 MB (RSS), 33429.57 MB (VMS)\n",
      "Processing batch 646/870 (74.25% completed)\n",
      "Memory Usage: 20934.29 MB (RSS), 33429.57 MB (VMS)\n",
      "Memory Usage: 20957.64 MB (RSS), 33453.01 MB (VMS)\n",
      "Processing batch 647/870 (74.37% completed)\n",
      "Memory Usage: 20957.64 MB (RSS), 33453.01 MB (VMS)\n",
      "Memory Usage: 20981.04 MB (RSS), 33476.45 MB (VMS)\n",
      "Processing batch 648/870 (74.48% completed)\n",
      "Memory Usage: 20981.04 MB (RSS), 33476.45 MB (VMS)\n",
      "Memory Usage: 21004.55 MB (RSS), 33499.88 MB (VMS)\n",
      "Processing batch 649/870 (74.60% completed)\n",
      "Memory Usage: 21004.55 MB (RSS), 33499.88 MB (VMS)\n",
      "Memory Usage: 21027.80 MB (RSS), 33523.32 MB (VMS)\n",
      "Processing batch 650/870 (74.71% completed)\n",
      "Memory Usage: 21027.80 MB (RSS), 33523.32 MB (VMS)\n",
      "Memory Usage: 21051.24 MB (RSS), 33546.76 MB (VMS)\n",
      "Processing batch 651/870 (74.83% completed)\n",
      "Memory Usage: 21051.24 MB (RSS), 33546.76 MB (VMS)\n",
      "Memory Usage: 21074.74 MB (RSS), 33570.20 MB (VMS)\n",
      "Processing batch 652/870 (74.94% completed)\n",
      "Memory Usage: 21074.74 MB (RSS), 33570.20 MB (VMS)\n",
      "Memory Usage: 21098.23 MB (RSS), 33593.63 MB (VMS)\n",
      "Processing batch 653/870 (75.06% completed)\n",
      "Memory Usage: 21098.23 MB (RSS), 33593.63 MB (VMS)\n",
      "Memory Usage: 21121.64 MB (RSS), 33617.07 MB (VMS)\n",
      "Processing batch 654/870 (75.17% completed)\n",
      "Memory Usage: 21121.64 MB (RSS), 33617.07 MB (VMS)\n",
      "Memory Usage: 21145.23 MB (RSS), 33640.51 MB (VMS)\n",
      "Processing batch 655/870 (75.29% completed)\n",
      "Memory Usage: 21145.23 MB (RSS), 33640.51 MB (VMS)\n",
      "Memory Usage: 21168.57 MB (RSS), 33663.95 MB (VMS)\n",
      "Processing batch 656/870 (75.40% completed)\n",
      "Memory Usage: 21168.57 MB (RSS), 33663.95 MB (VMS)\n",
      "Memory Usage: 21191.99 MB (RSS), 33687.38 MB (VMS)\n",
      "Processing batch 657/870 (75.52% completed)\n",
      "Memory Usage: 21191.99 MB (RSS), 33687.38 MB (VMS)\n",
      "Memory Usage: 21215.39 MB (RSS), 33710.82 MB (VMS)\n",
      "Processing batch 658/870 (75.63% completed)\n",
      "Memory Usage: 21215.39 MB (RSS), 33710.82 MB (VMS)\n",
      "Memory Usage: 21238.82 MB (RSS), 33734.26 MB (VMS)\n",
      "Processing batch 659/870 (75.75% completed)\n",
      "Memory Usage: 21238.82 MB (RSS), 33734.26 MB (VMS)\n",
      "Memory Usage: 21262.33 MB (RSS), 33757.70 MB (VMS)\n",
      "Processing batch 660/870 (75.86% completed)\n",
      "Memory Usage: 21262.33 MB (RSS), 33757.70 MB (VMS)\n",
      "Memory Usage: 21285.85 MB (RSS), 33781.13 MB (VMS)\n",
      "Processing batch 661/870 (75.98% completed)\n",
      "Memory Usage: 21285.85 MB (RSS), 33781.13 MB (VMS)\n",
      "Memory Usage: 21309.20 MB (RSS), 33804.57 MB (VMS)\n",
      "Processing batch 662/870 (76.09% completed)\n",
      "Memory Usage: 21309.20 MB (RSS), 33804.57 MB (VMS)\n",
      "Memory Usage: 21332.67 MB (RSS), 33828.01 MB (VMS)\n",
      "Processing batch 663/870 (76.21% completed)\n",
      "Memory Usage: 21332.67 MB (RSS), 33828.01 MB (VMS)\n",
      "Memory Usage: 21356.11 MB (RSS), 33851.45 MB (VMS)\n",
      "Processing batch 664/870 (76.32% completed)\n",
      "Memory Usage: 21356.11 MB (RSS), 33851.45 MB (VMS)\n",
      "Memory Usage: 21379.61 MB (RSS), 33874.89 MB (VMS)\n",
      "Processing batch 665/870 (76.44% completed)\n",
      "Memory Usage: 21379.61 MB (RSS), 33874.89 MB (VMS)\n",
      "Memory Usage: 21402.96 MB (RSS), 33898.32 MB (VMS)\n",
      "Processing batch 666/870 (76.55% completed)\n",
      "Memory Usage: 21402.96 MB (RSS), 33898.32 MB (VMS)\n",
      "Memory Usage: 21426.40 MB (RSS), 33921.76 MB (VMS)\n",
      "Processing batch 667/870 (76.67% completed)\n",
      "Memory Usage: 21426.40 MB (RSS), 33921.76 MB (VMS)\n",
      "Memory Usage: 21449.77 MB (RSS), 33945.20 MB (VMS)\n",
      "Processing batch 668/870 (76.78% completed)\n",
      "Memory Usage: 21449.77 MB (RSS), 33945.20 MB (VMS)\n",
      "Memory Usage: 21473.36 MB (RSS), 33968.64 MB (VMS)\n",
      "Processing batch 669/870 (76.90% completed)\n",
      "Memory Usage: 21473.36 MB (RSS), 33968.64 MB (VMS)\n",
      "Memory Usage: 21496.59 MB (RSS), 33992.07 MB (VMS)\n",
      "Processing batch 670/870 (77.01% completed)\n",
      "Memory Usage: 21496.59 MB (RSS), 33992.07 MB (VMS)\n",
      "Memory Usage: 21520.05 MB (RSS), 34015.51 MB (VMS)\n",
      "Processing batch 671/870 (77.13% completed)\n",
      "Memory Usage: 21520.05 MB (RSS), 34015.51 MB (VMS)\n",
      "Memory Usage: 21543.61 MB (RSS), 34038.95 MB (VMS)\n",
      "Processing batch 672/870 (77.24% completed)\n",
      "Memory Usage: 21543.61 MB (RSS), 34038.95 MB (VMS)\n",
      "Memory Usage: 21567.10 MB (RSS), 34062.39 MB (VMS)\n",
      "Processing batch 673/870 (77.36% completed)\n",
      "Memory Usage: 21567.10 MB (RSS), 34062.39 MB (VMS)\n",
      "Memory Usage: 21590.41 MB (RSS), 34085.82 MB (VMS)\n",
      "Processing batch 674/870 (77.47% completed)\n",
      "Memory Usage: 21590.41 MB (RSS), 34085.82 MB (VMS)\n",
      "Memory Usage: 21613.82 MB (RSS), 34109.26 MB (VMS)\n",
      "Processing batch 675/870 (77.59% completed)\n",
      "Memory Usage: 21613.82 MB (RSS), 34109.26 MB (VMS)\n",
      "Memory Usage: 21637.17 MB (RSS), 34132.70 MB (VMS)\n",
      "Processing batch 676/870 (77.70% completed)\n",
      "Memory Usage: 21637.17 MB (RSS), 34132.70 MB (VMS)\n",
      "Memory Usage: 21660.86 MB (RSS), 34156.14 MB (VMS)\n",
      "Processing batch 677/870 (77.82% completed)\n",
      "Memory Usage: 21660.86 MB (RSS), 34156.14 MB (VMS)\n",
      "Memory Usage: 21684.29 MB (RSS), 34179.57 MB (VMS)\n",
      "Processing batch 678/870 (77.93% completed)\n",
      "Memory Usage: 21684.29 MB (RSS), 34179.57 MB (VMS)\n",
      "Memory Usage: 21707.62 MB (RSS), 34203.01 MB (VMS)\n",
      "Processing batch 679/870 (78.05% completed)\n",
      "Memory Usage: 21707.62 MB (RSS), 34203.01 MB (VMS)\n",
      "Memory Usage: 21730.92 MB (RSS), 34226.45 MB (VMS)\n",
      "Processing batch 680/870 (78.16% completed)\n",
      "Memory Usage: 21730.92 MB (RSS), 34226.45 MB (VMS)\n",
      "Memory Usage: 21754.37 MB (RSS), 34249.89 MB (VMS)\n",
      "Processing batch 681/870 (78.28% completed)\n",
      "Memory Usage: 21754.37 MB (RSS), 34249.89 MB (VMS)\n",
      "Memory Usage: 21778.02 MB (RSS), 34273.32 MB (VMS)\n",
      "Processing batch 682/870 (78.39% completed)\n",
      "Memory Usage: 21778.02 MB (RSS), 34273.32 MB (VMS)\n",
      "Memory Usage: 21801.23 MB (RSS), 34296.76 MB (VMS)\n",
      "Processing batch 683/870 (78.51% completed)\n",
      "Memory Usage: 21801.23 MB (RSS), 34296.76 MB (VMS)\n",
      "Memory Usage: 21824.67 MB (RSS), 34320.20 MB (VMS)\n",
      "Processing batch 684/870 (78.62% completed)\n",
      "Memory Usage: 21824.92 MB (RSS), 34320.20 MB (VMS)\n",
      "Memory Usage: 21848.22 MB (RSS), 34343.64 MB (VMS)\n",
      "Processing batch 685/870 (78.74% completed)\n",
      "Memory Usage: 21848.22 MB (RSS), 34343.64 MB (VMS)\n",
      "Memory Usage: 21871.75 MB (RSS), 34367.08 MB (VMS)\n",
      "Processing batch 686/870 (78.85% completed)\n",
      "Memory Usage: 21871.75 MB (RSS), 34367.08 MB (VMS)\n",
      "Memory Usage: 21895.05 MB (RSS), 34390.52 MB (VMS)\n",
      "Processing batch 687/870 (78.97% completed)\n",
      "Memory Usage: 21895.05 MB (RSS), 34390.52 MB (VMS)\n",
      "Memory Usage: 21918.67 MB (RSS), 34413.95 MB (VMS)\n",
      "Processing batch 688/870 (79.08% completed)\n",
      "Memory Usage: 21918.67 MB (RSS), 34413.95 MB (VMS)\n",
      "Memory Usage: 21942.04 MB (RSS), 34437.39 MB (VMS)\n",
      "Processing batch 689/870 (79.20% completed)\n",
      "Memory Usage: 21942.04 MB (RSS), 34437.39 MB (VMS)\n",
      "Memory Usage: 21965.44 MB (RSS), 34460.83 MB (VMS)\n",
      "Processing batch 690/870 (79.31% completed)\n",
      "Memory Usage: 21965.44 MB (RSS), 34460.83 MB (VMS)\n",
      "Memory Usage: 21988.88 MB (RSS), 34484.27 MB (VMS)\n",
      "Processing batch 691/870 (79.43% completed)\n",
      "Memory Usage: 21988.88 MB (RSS), 34484.27 MB (VMS)\n",
      "Memory Usage: 22012.42 MB (RSS), 34507.70 MB (VMS)\n",
      "Processing batch 692/870 (79.54% completed)\n",
      "Memory Usage: 22012.42 MB (RSS), 34507.70 MB (VMS)\n",
      "Memory Usage: 22035.71 MB (RSS), 34531.14 MB (VMS)\n",
      "Processing batch 693/870 (79.66% completed)\n",
      "Memory Usage: 22035.71 MB (RSS), 34531.14 MB (VMS)\n",
      "Memory Usage: 22059.30 MB (RSS), 34554.58 MB (VMS)\n",
      "Processing batch 694/870 (79.77% completed)\n",
      "Memory Usage: 22059.30 MB (RSS), 34554.58 MB (VMS)\n",
      "Memory Usage: 22082.73 MB (RSS), 34578.02 MB (VMS)\n",
      "Processing batch 695/870 (79.89% completed)\n",
      "Memory Usage: 22082.73 MB (RSS), 34578.02 MB (VMS)\n",
      "Memory Usage: 22106.08 MB (RSS), 34601.45 MB (VMS)\n",
      "Processing batch 696/870 (80.00% completed)\n",
      "Memory Usage: 22106.08 MB (RSS), 34601.45 MB (VMS)\n",
      "Memory Usage: 22129.52 MB (RSS), 34624.89 MB (VMS)\n",
      "Processing batch 697/870 (80.11% completed)\n",
      "Memory Usage: 22129.52 MB (RSS), 34624.89 MB (VMS)\n",
      "Memory Usage: 22153.00 MB (RSS), 34648.33 MB (VMS)\n",
      "Processing batch 698/870 (80.23% completed)\n",
      "Memory Usage: 22153.00 MB (RSS), 34648.33 MB (VMS)\n",
      "Memory Usage: 22176.23 MB (RSS), 34671.77 MB (VMS)\n",
      "Processing batch 699/870 (80.34% completed)\n",
      "Memory Usage: 22176.48 MB (RSS), 34671.77 MB (VMS)\n",
      "Memory Usage: 22199.92 MB (RSS), 34695.20 MB (VMS)\n",
      "Processing batch 700/870 (80.46% completed)\n",
      "Memory Usage: 22199.92 MB (RSS), 34695.20 MB (VMS)\n",
      "Memory Usage: 22223.18 MB (RSS), 34718.64 MB (VMS)\n",
      "Processing batch 701/870 (80.57% completed)\n",
      "Memory Usage: 22223.18 MB (RSS), 34718.64 MB (VMS)\n",
      "Memory Usage: 22246.57 MB (RSS), 34742.08 MB (VMS)\n",
      "Processing batch 702/870 (80.69% completed)\n",
      "Memory Usage: 22246.57 MB (RSS), 34742.08 MB (VMS)\n",
      "Memory Usage: 22270.10 MB (RSS), 34765.52 MB (VMS)\n",
      "Processing batch 703/870 (80.80% completed)\n",
      "Memory Usage: 22270.10 MB (RSS), 34765.52 MB (VMS)\n",
      "Memory Usage: 22293.56 MB (RSS), 34788.95 MB (VMS)\n",
      "Processing batch 704/870 (80.92% completed)\n",
      "Memory Usage: 22293.56 MB (RSS), 34788.95 MB (VMS)\n",
      "Memory Usage: 22317.10 MB (RSS), 34812.39 MB (VMS)\n",
      "Processing batch 705/870 (81.03% completed)\n",
      "Memory Usage: 22317.10 MB (RSS), 34812.39 MB (VMS)\n",
      "Memory Usage: 22340.48 MB (RSS), 34835.83 MB (VMS)\n",
      "Processing batch 706/870 (81.15% completed)\n",
      "Memory Usage: 22340.48 MB (RSS), 34835.83 MB (VMS)\n",
      "Memory Usage: 22363.75 MB (RSS), 34859.27 MB (VMS)\n",
      "Processing batch 707/870 (81.26% completed)\n",
      "Memory Usage: 22363.75 MB (RSS), 34859.27 MB (VMS)\n",
      "Memory Usage: 22387.34 MB (RSS), 34882.71 MB (VMS)\n",
      "Processing batch 708/870 (81.38% completed)\n",
      "Memory Usage: 22387.34 MB (RSS), 34882.71 MB (VMS)\n",
      "Memory Usage: 22410.66 MB (RSS), 34906.14 MB (VMS)\n",
      "Processing batch 709/870 (81.49% completed)\n",
      "Memory Usage: 22410.66 MB (RSS), 34906.14 MB (VMS)\n",
      "Memory Usage: 22434.19 MB (RSS), 34929.58 MB (VMS)\n",
      "Processing batch 710/870 (81.61% completed)\n",
      "Memory Usage: 22434.19 MB (RSS), 34929.58 MB (VMS)\n",
      "Memory Usage: 22457.50 MB (RSS), 34953.02 MB (VMS)\n",
      "Processing batch 711/870 (81.72% completed)\n",
      "Memory Usage: 22457.50 MB (RSS), 34953.02 MB (VMS)\n",
      "Memory Usage: 22481.18 MB (RSS), 34976.46 MB (VMS)\n",
      "Processing batch 712/870 (81.84% completed)\n",
      "Memory Usage: 22481.18 MB (RSS), 34976.46 MB (VMS)\n",
      "Memory Usage: 22504.61 MB (RSS), 34999.89 MB (VMS)\n",
      "Processing batch 713/870 (81.95% completed)\n",
      "Memory Usage: 22504.61 MB (RSS), 34999.89 MB (VMS)\n",
      "Memory Usage: 22528.02 MB (RSS), 35023.33 MB (VMS)\n",
      "Processing batch 714/870 (82.07% completed)\n",
      "Memory Usage: 22528.02 MB (RSS), 35023.33 MB (VMS)\n",
      "Memory Usage: 22551.49 MB (RSS), 35046.77 MB (VMS)\n",
      "Processing batch 715/870 (82.18% completed)\n",
      "Memory Usage: 22551.49 MB (RSS), 35046.77 MB (VMS)\n",
      "Memory Usage: 22574.83 MB (RSS), 35070.21 MB (VMS)\n",
      "Processing batch 716/870 (82.30% completed)\n",
      "Memory Usage: 22574.83 MB (RSS), 35070.21 MB (VMS)\n",
      "Memory Usage: 22598.35 MB (RSS), 35093.64 MB (VMS)\n",
      "Processing batch 717/870 (82.41% completed)\n",
      "Memory Usage: 22598.35 MB (RSS), 35093.64 MB (VMS)\n",
      "Memory Usage: 22621.77 MB (RSS), 35117.08 MB (VMS)\n",
      "Processing batch 718/870 (82.53% completed)\n",
      "Memory Usage: 22621.77 MB (RSS), 35117.08 MB (VMS)\n",
      "Memory Usage: 22645.17 MB (RSS), 35140.52 MB (VMS)\n",
      "Processing batch 719/870 (82.64% completed)\n",
      "Memory Usage: 22645.17 MB (RSS), 35140.52 MB (VMS)\n",
      "Memory Usage: 22668.46 MB (RSS), 35163.96 MB (VMS)\n",
      "Processing batch 720/870 (82.76% completed)\n",
      "Memory Usage: 22668.46 MB (RSS), 35163.96 MB (VMS)\n",
      "Memory Usage: 22691.88 MB (RSS), 35187.39 MB (VMS)\n",
      "Processing batch 721/870 (82.87% completed)\n",
      "Memory Usage: 22691.88 MB (RSS), 35187.39 MB (VMS)\n",
      "Memory Usage: 22715.47 MB (RSS), 35210.83 MB (VMS)\n",
      "Processing batch 722/870 (82.99% completed)\n",
      "Memory Usage: 22715.47 MB (RSS), 35210.83 MB (VMS)\n",
      "Memory Usage: 22738.87 MB (RSS), 35234.27 MB (VMS)\n",
      "Processing batch 723/870 (83.10% completed)\n",
      "Memory Usage: 22738.87 MB (RSS), 35234.27 MB (VMS)\n",
      "Memory Usage: 22762.21 MB (RSS), 35257.71 MB (VMS)\n",
      "Processing batch 724/870 (83.22% completed)\n",
      "Memory Usage: 22762.21 MB (RSS), 35257.71 MB (VMS)\n",
      "Memory Usage: 22785.86 MB (RSS), 35281.14 MB (VMS)\n",
      "Processing batch 725/870 (83.33% completed)\n",
      "Memory Usage: 22785.86 MB (RSS), 35281.14 MB (VMS)\n",
      "Memory Usage: 22809.30 MB (RSS), 35304.58 MB (VMS)\n",
      "Processing batch 726/870 (83.45% completed)\n",
      "Memory Usage: 22809.30 MB (RSS), 35304.58 MB (VMS)\n",
      "Memory Usage: 22832.51 MB (RSS), 35328.02 MB (VMS)\n",
      "Processing batch 727/870 (83.56% completed)\n",
      "Memory Usage: 22832.51 MB (RSS), 35328.02 MB (VMS)\n",
      "Memory Usage: 22855.93 MB (RSS), 35351.46 MB (VMS)\n",
      "Processing batch 728/870 (83.68% completed)\n",
      "Memory Usage: 22855.93 MB (RSS), 35351.46 MB (VMS)\n",
      "Memory Usage: 22879.45 MB (RSS), 35374.90 MB (VMS)\n",
      "Processing batch 729/870 (83.79% completed)\n",
      "Memory Usage: 22879.45 MB (RSS), 35374.90 MB (VMS)\n",
      "Memory Usage: 22902.84 MB (RSS), 35398.34 MB (VMS)\n",
      "Processing batch 730/870 (83.91% completed)\n",
      "Memory Usage: 22902.84 MB (RSS), 35398.34 MB (VMS)\n",
      "Memory Usage: 22926.43 MB (RSS), 35421.77 MB (VMS)\n",
      "Processing batch 731/870 (84.02% completed)\n",
      "Memory Usage: 22926.43 MB (RSS), 35421.77 MB (VMS)\n",
      "Memory Usage: 22949.89 MB (RSS), 35445.21 MB (VMS)\n",
      "Processing batch 732/870 (84.14% completed)\n",
      "Memory Usage: 22949.89 MB (RSS), 35445.21 MB (VMS)\n",
      "Memory Usage: 22973.22 MB (RSS), 35468.65 MB (VMS)\n",
      "Processing batch 733/870 (84.25% completed)\n",
      "Memory Usage: 22973.22 MB (RSS), 35468.65 MB (VMS)\n",
      "Memory Usage: 22996.79 MB (RSS), 35492.09 MB (VMS)\n",
      "Processing batch 734/870 (84.37% completed)\n",
      "Memory Usage: 22996.79 MB (RSS), 35492.09 MB (VMS)\n",
      "Memory Usage: 23020.07 MB (RSS), 35515.52 MB (VMS)\n",
      "Processing batch 735/870 (84.48% completed)\n",
      "Memory Usage: 23020.07 MB (RSS), 35515.52 MB (VMS)\n",
      "Memory Usage: 23043.46 MB (RSS), 35538.96 MB (VMS)\n",
      "Processing batch 736/870 (84.60% completed)\n",
      "Memory Usage: 23043.46 MB (RSS), 35538.96 MB (VMS)\n",
      "Memory Usage: 23067.02 MB (RSS), 35562.40 MB (VMS)\n",
      "Processing batch 737/870 (84.71% completed)\n",
      "Memory Usage: 23067.02 MB (RSS), 35562.40 MB (VMS)\n",
      "Memory Usage: 23090.54 MB (RSS), 35585.84 MB (VMS)\n",
      "Processing batch 738/870 (84.83% completed)\n",
      "Memory Usage: 23090.54 MB (RSS), 35585.84 MB (VMS)\n",
      "Memory Usage: 23113.99 MB (RSS), 35609.27 MB (VMS)\n",
      "Processing batch 739/870 (84.94% completed)\n",
      "Memory Usage: 23113.99 MB (RSS), 35609.27 MB (VMS)\n",
      "Memory Usage: 23137.26 MB (RSS), 35632.71 MB (VMS)\n",
      "Processing batch 740/870 (85.06% completed)\n",
      "Memory Usage: 23137.26 MB (RSS), 35632.71 MB (VMS)\n",
      "Memory Usage: 23160.73 MB (RSS), 35656.15 MB (VMS)\n",
      "Processing batch 741/870 (85.17% completed)\n",
      "Memory Usage: 23160.73 MB (RSS), 35656.15 MB (VMS)\n",
      "Memory Usage: 23184.26 MB (RSS), 35679.59 MB (VMS)\n",
      "Processing batch 742/870 (85.29% completed)\n",
      "Memory Usage: 23184.26 MB (RSS), 35679.59 MB (VMS)\n",
      "Memory Usage: 23207.59 MB (RSS), 35703.02 MB (VMS)\n",
      "Processing batch 743/870 (85.40% completed)\n",
      "Memory Usage: 23207.59 MB (RSS), 35703.02 MB (VMS)\n",
      "Memory Usage: 23231.17 MB (RSS), 35726.46 MB (VMS)\n",
      "Processing batch 744/870 (85.52% completed)\n",
      "Memory Usage: 23231.17 MB (RSS), 35726.46 MB (VMS)\n",
      "Memory Usage: 23254.58 MB (RSS), 35749.90 MB (VMS)\n",
      "Processing batch 745/870 (85.63% completed)\n",
      "Memory Usage: 23254.58 MB (RSS), 35749.90 MB (VMS)\n",
      "Memory Usage: 23277.80 MB (RSS), 35773.34 MB (VMS)\n",
      "Processing batch 746/870 (85.75% completed)\n",
      "Memory Usage: 23277.80 MB (RSS), 35773.34 MB (VMS)\n",
      "Memory Usage: 23301.38 MB (RSS), 35796.77 MB (VMS)\n",
      "Processing batch 747/870 (85.86% completed)\n",
      "Memory Usage: 23301.38 MB (RSS), 35796.77 MB (VMS)\n",
      "Memory Usage: 23324.82 MB (RSS), 35820.21 MB (VMS)\n",
      "Processing batch 748/870 (85.98% completed)\n",
      "Memory Usage: 23324.82 MB (RSS), 35820.21 MB (VMS)\n",
      "Memory Usage: 23348.37 MB (RSS), 35843.65 MB (VMS)\n",
      "Processing batch 749/870 (86.09% completed)\n",
      "Memory Usage: 23348.37 MB (RSS), 35843.65 MB (VMS)\n",
      "Memory Usage: 23371.61 MB (RSS), 35867.09 MB (VMS)\n",
      "Processing batch 750/870 (86.21% completed)\n",
      "Memory Usage: 23371.61 MB (RSS), 35867.09 MB (VMS)\n",
      "Memory Usage: 23395.25 MB (RSS), 35890.53 MB (VMS)\n",
      "Processing batch 751/870 (86.32% completed)\n",
      "Memory Usage: 23395.25 MB (RSS), 35890.53 MB (VMS)\n",
      "Memory Usage: 23418.68 MB (RSS), 35913.96 MB (VMS)\n",
      "Processing batch 752/870 (86.44% completed)\n",
      "Memory Usage: 23418.68 MB (RSS), 35913.96 MB (VMS)\n",
      "Memory Usage: 23441.96 MB (RSS), 35937.40 MB (VMS)\n",
      "Processing batch 753/870 (86.55% completed)\n",
      "Memory Usage: 23441.96 MB (RSS), 35937.40 MB (VMS)\n",
      "Memory Usage: 23465.44 MB (RSS), 35960.84 MB (VMS)\n",
      "Processing batch 754/870 (86.67% completed)\n",
      "Memory Usage: 23465.44 MB (RSS), 35960.84 MB (VMS)\n",
      "Memory Usage: 23488.86 MB (RSS), 35984.28 MB (VMS)\n",
      "Processing batch 755/870 (86.78% completed)\n",
      "Memory Usage: 23488.86 MB (RSS), 35984.28 MB (VMS)\n",
      "Memory Usage: 23512.19 MB (RSS), 36007.71 MB (VMS)\n",
      "Processing batch 756/870 (86.90% completed)\n",
      "Memory Usage: 23512.19 MB (RSS), 36007.71 MB (VMS)\n",
      "Memory Usage: 23535.79 MB (RSS), 36031.15 MB (VMS)\n",
      "Processing batch 757/870 (87.01% completed)\n",
      "Memory Usage: 23535.79 MB (RSS), 36031.15 MB (VMS)\n",
      "Memory Usage: 23559.14 MB (RSS), 36054.59 MB (VMS)\n",
      "Processing batch 758/870 (87.13% completed)\n",
      "Memory Usage: 23559.14 MB (RSS), 36054.59 MB (VMS)\n",
      "Memory Usage: 23582.73 MB (RSS), 36078.03 MB (VMS)\n",
      "Processing batch 759/870 (87.24% completed)\n",
      "Memory Usage: 23582.73 MB (RSS), 36078.03 MB (VMS)\n",
      "Memory Usage: 23605.98 MB (RSS), 36101.46 MB (VMS)\n",
      "Processing batch 760/870 (87.36% completed)\n",
      "Memory Usage: 23605.98 MB (RSS), 36101.46 MB (VMS)\n",
      "Memory Usage: 23629.47 MB (RSS), 36124.90 MB (VMS)\n",
      "Processing batch 761/870 (87.47% completed)\n",
      "Memory Usage: 23629.47 MB (RSS), 36124.90 MB (VMS)\n",
      "Memory Usage: 23653.03 MB (RSS), 36148.34 MB (VMS)\n",
      "Processing batch 762/870 (87.59% completed)\n",
      "Memory Usage: 23653.03 MB (RSS), 36148.34 MB (VMS)\n",
      "Memory Usage: 23676.29 MB (RSS), 36171.78 MB (VMS)\n",
      "Processing batch 763/870 (87.70% completed)\n",
      "Memory Usage: 23676.29 MB (RSS), 36171.78 MB (VMS)\n",
      "Memory Usage: 23699.93 MB (RSS), 36195.21 MB (VMS)\n",
      "Processing batch 764/870 (87.82% completed)\n",
      "Memory Usage: 23699.93 MB (RSS), 36195.21 MB (VMS)\n",
      "Memory Usage: 23723.37 MB (RSS), 36218.65 MB (VMS)\n",
      "Processing batch 765/870 (87.93% completed)\n",
      "Memory Usage: 23723.37 MB (RSS), 36218.65 MB (VMS)\n",
      "Memory Usage: 23746.66 MB (RSS), 36242.09 MB (VMS)\n",
      "Processing batch 766/870 (88.05% completed)\n",
      "Memory Usage: 23746.66 MB (RSS), 36242.09 MB (VMS)\n",
      "Memory Usage: 23770.14 MB (RSS), 36265.53 MB (VMS)\n",
      "Processing batch 767/870 (88.16% completed)\n",
      "Memory Usage: 23770.14 MB (RSS), 36265.53 MB (VMS)\n",
      "Memory Usage: 23793.44 MB (RSS), 36288.96 MB (VMS)\n",
      "Processing batch 768/870 (88.28% completed)\n",
      "Memory Usage: 23793.68 MB (RSS), 36288.96 MB (VMS)\n",
      "Memory Usage: 23816.98 MB (RSS), 36312.40 MB (VMS)\n",
      "Processing batch 769/870 (88.39% completed)\n",
      "Memory Usage: 23816.98 MB (RSS), 36312.40 MB (VMS)\n",
      "Memory Usage: 23840.46 MB (RSS), 36335.84 MB (VMS)\n",
      "Processing batch 770/870 (88.51% completed)\n",
      "Memory Usage: 23840.46 MB (RSS), 36335.84 MB (VMS)\n",
      "Memory Usage: 23863.86 MB (RSS), 36359.28 MB (VMS)\n",
      "Processing batch 771/870 (88.62% completed)\n",
      "Memory Usage: 23863.86 MB (RSS), 36359.28 MB (VMS)\n",
      "Memory Usage: 23887.44 MB (RSS), 36382.72 MB (VMS)\n",
      "Processing batch 772/870 (88.74% completed)\n",
      "Memory Usage: 23887.44 MB (RSS), 36382.72 MB (VMS)\n",
      "Memory Usage: 23910.88 MB (RSS), 36406.16 MB (VMS)\n",
      "Processing batch 773/870 (88.85% completed)\n",
      "Memory Usage: 23910.88 MB (RSS), 36406.16 MB (VMS)\n",
      "Memory Usage: 23934.24 MB (RSS), 36429.59 MB (VMS)\n",
      "Processing batch 774/870 (88.97% completed)\n",
      "Memory Usage: 23934.24 MB (RSS), 36429.59 MB (VMS)\n",
      "Memory Usage: 23957.71 MB (RSS), 36453.03 MB (VMS)\n",
      "Processing batch 775/870 (89.08% completed)\n",
      "Memory Usage: 23957.71 MB (RSS), 36453.03 MB (VMS)\n",
      "Memory Usage: 23980.98 MB (RSS), 36476.47 MB (VMS)\n",
      "Processing batch 776/870 (89.20% completed)\n",
      "Memory Usage: 23980.98 MB (RSS), 36476.47 MB (VMS)\n",
      "Memory Usage: 24004.62 MB (RSS), 36499.91 MB (VMS)\n",
      "Processing batch 777/870 (89.31% completed)\n",
      "Memory Usage: 24004.62 MB (RSS), 36499.91 MB (VMS)\n",
      "Memory Usage: 24027.90 MB (RSS), 36523.34 MB (VMS)\n",
      "Processing batch 778/870 (89.43% completed)\n",
      "Memory Usage: 24027.90 MB (RSS), 36523.34 MB (VMS)\n",
      "Memory Usage: 24051.47 MB (RSS), 36546.78 MB (VMS)\n",
      "Processing batch 779/870 (89.54% completed)\n",
      "Memory Usage: 24051.47 MB (RSS), 36546.78 MB (VMS)\n",
      "Memory Usage: 24074.93 MB (RSS), 36570.22 MB (VMS)\n",
      "Processing batch 780/870 (89.66% completed)\n",
      "Memory Usage: 24074.93 MB (RSS), 36570.22 MB (VMS)\n",
      "Memory Usage: 24098.38 MB (RSS), 36593.66 MB (VMS)\n",
      "Processing batch 781/870 (89.77% completed)\n",
      "Memory Usage: 24098.38 MB (RSS), 36593.66 MB (VMS)\n",
      "Memory Usage: 24121.81 MB (RSS), 36617.09 MB (VMS)\n",
      "Processing batch 782/870 (89.89% completed)\n",
      "Memory Usage: 24121.81 MB (RSS), 36617.09 MB (VMS)\n",
      "Memory Usage: 24145.18 MB (RSS), 36640.53 MB (VMS)\n",
      "Processing batch 783/870 (90.00% completed)\n",
      "Memory Usage: 24145.18 MB (RSS), 36640.53 MB (VMS)\n",
      "Memory Usage: 24168.57 MB (RSS), 36663.97 MB (VMS)\n",
      "Processing batch 784/870 (90.11% completed)\n",
      "Memory Usage: 24168.57 MB (RSS), 36663.97 MB (VMS)\n",
      "Memory Usage: 24192.07 MB (RSS), 36687.41 MB (VMS)\n",
      "Processing batch 785/870 (90.23% completed)\n",
      "Memory Usage: 24192.07 MB (RSS), 36687.41 MB (VMS)\n",
      "Memory Usage: 24215.34 MB (RSS), 36710.84 MB (VMS)\n",
      "Processing batch 786/870 (90.34% completed)\n",
      "Memory Usage: 24215.34 MB (RSS), 36710.84 MB (VMS)\n",
      "Memory Usage: 24238.88 MB (RSS), 36734.28 MB (VMS)\n",
      "Processing batch 787/870 (90.46% completed)\n",
      "Memory Usage: 24238.88 MB (RSS), 36734.28 MB (VMS)\n",
      "Memory Usage: 24262.20 MB (RSS), 36757.72 MB (VMS)\n",
      "Processing batch 788/870 (90.57% completed)\n",
      "Memory Usage: 24262.20 MB (RSS), 36757.72 MB (VMS)\n",
      "Memory Usage: 24285.78 MB (RSS), 36781.16 MB (VMS)\n",
      "Processing batch 789/870 (90.69% completed)\n",
      "Memory Usage: 24285.78 MB (RSS), 36781.16 MB (VMS)\n",
      "Memory Usage: 24309.08 MB (RSS), 36804.59 MB (VMS)\n",
      "Processing batch 790/870 (90.80% completed)\n",
      "Memory Usage: 24309.08 MB (RSS), 36804.59 MB (VMS)\n",
      "Memory Usage: 24332.66 MB (RSS), 36828.03 MB (VMS)\n",
      "Processing batch 791/870 (90.92% completed)\n",
      "Memory Usage: 24332.66 MB (RSS), 36828.03 MB (VMS)\n",
      "Memory Usage: 24356.19 MB (RSS), 36851.47 MB (VMS)\n",
      "Processing batch 792/870 (91.03% completed)\n",
      "Memory Usage: 24356.19 MB (RSS), 36851.47 MB (VMS)\n",
      "Memory Usage: 24379.58 MB (RSS), 36874.91 MB (VMS)\n",
      "Processing batch 793/870 (91.15% completed)\n",
      "Memory Usage: 24379.58 MB (RSS), 36874.91 MB (VMS)\n",
      "Memory Usage: 24403.04 MB (RSS), 36898.35 MB (VMS)\n",
      "Processing batch 794/870 (91.26% completed)\n",
      "Memory Usage: 24403.04 MB (RSS), 36898.35 MB (VMS)\n",
      "Memory Usage: 24426.30 MB (RSS), 36921.79 MB (VMS)\n",
      "Processing batch 795/870 (91.38% completed)\n",
      "Memory Usage: 24426.30 MB (RSS), 36921.79 MB (VMS)\n",
      "Memory Usage: 24449.81 MB (RSS), 36945.22 MB (VMS)\n",
      "Processing batch 796/870 (91.49% completed)\n",
      "Memory Usage: 24449.81 MB (RSS), 36945.22 MB (VMS)\n",
      "Memory Usage: 24473.35 MB (RSS), 36968.66 MB (VMS)\n",
      "Processing batch 797/870 (91.61% completed)\n",
      "Memory Usage: 24473.35 MB (RSS), 36968.66 MB (VMS)\n",
      "Memory Usage: 24496.58 MB (RSS), 36992.10 MB (VMS)\n",
      "Processing batch 798/870 (91.72% completed)\n",
      "Memory Usage: 24496.58 MB (RSS), 36992.10 MB (VMS)\n",
      "Memory Usage: 24520.12 MB (RSS), 37015.54 MB (VMS)\n",
      "Processing batch 799/870 (91.84% completed)\n",
      "Memory Usage: 24520.12 MB (RSS), 37015.54 MB (VMS)\n",
      "Memory Usage: 24543.64 MB (RSS), 37038.97 MB (VMS)\n",
      "Processing batch 800/870 (91.95% completed)\n",
      "Memory Usage: 24543.64 MB (RSS), 37038.97 MB (VMS)\n",
      "Memory Usage: 24567.12 MB (RSS), 37062.41 MB (VMS)\n",
      "Processing batch 801/870 (92.07% completed)\n",
      "Memory Usage: 24567.12 MB (RSS), 37062.41 MB (VMS)\n",
      "Memory Usage: 24590.57 MB (RSS), 37085.85 MB (VMS)\n",
      "Processing batch 802/870 (92.18% completed)\n",
      "Memory Usage: 24590.57 MB (RSS), 37085.85 MB (VMS)\n",
      "Memory Usage: 24613.96 MB (RSS), 37109.29 MB (VMS)\n",
      "Processing batch 803/870 (92.30% completed)\n",
      "Memory Usage: 24613.96 MB (RSS), 37109.29 MB (VMS)\n",
      "Memory Usage: 24637.39 MB (RSS), 37132.72 MB (VMS)\n",
      "Processing batch 804/870 (92.41% completed)\n",
      "Memory Usage: 24637.39 MB (RSS), 37132.72 MB (VMS)\n",
      "Memory Usage: 24660.87 MB (RSS), 37156.16 MB (VMS)\n",
      "Processing batch 805/870 (92.53% completed)\n",
      "Memory Usage: 24660.87 MB (RSS), 37156.16 MB (VMS)\n",
      "Memory Usage: 24684.32 MB (RSS), 37179.60 MB (VMS)\n",
      "Processing batch 806/870 (92.64% completed)\n",
      "Memory Usage: 24684.32 MB (RSS), 37179.60 MB (VMS)\n",
      "Memory Usage: 24707.58 MB (RSS), 37203.04 MB (VMS)\n",
      "Processing batch 807/870 (92.76% completed)\n",
      "Memory Usage: 24707.58 MB (RSS), 37203.04 MB (VMS)\n",
      "Memory Usage: 24731.16 MB (RSS), 37226.47 MB (VMS)\n",
      "Processing batch 808/870 (92.87% completed)\n",
      "Memory Usage: 24731.16 MB (RSS), 37226.47 MB (VMS)\n",
      "Memory Usage: 24754.61 MB (RSS), 37249.91 MB (VMS)\n",
      "Processing batch 809/870 (92.99% completed)\n",
      "Memory Usage: 24754.61 MB (RSS), 37249.91 MB (VMS)\n",
      "Memory Usage: 24778.06 MB (RSS), 37273.35 MB (VMS)\n",
      "Processing batch 810/870 (93.10% completed)\n",
      "Memory Usage: 24778.06 MB (RSS), 37273.35 MB (VMS)\n",
      "Memory Usage: 24801.50 MB (RSS), 37296.79 MB (VMS)\n",
      "Processing batch 811/870 (93.22% completed)\n",
      "Memory Usage: 24801.50 MB (RSS), 37296.79 MB (VMS)\n",
      "Memory Usage: 24824.78 MB (RSS), 37320.22 MB (VMS)\n",
      "Processing batch 812/870 (93.33% completed)\n",
      "Memory Usage: 24824.78 MB (RSS), 37320.22 MB (VMS)\n",
      "Memory Usage: 24848.30 MB (RSS), 37343.66 MB (VMS)\n",
      "Processing batch 813/870 (93.45% completed)\n",
      "Memory Usage: 24848.30 MB (RSS), 37343.66 MB (VMS)\n",
      "Memory Usage: 24871.68 MB (RSS), 37367.10 MB (VMS)\n",
      "Processing batch 814/870 (93.56% completed)\n",
      "Memory Usage: 24871.68 MB (RSS), 37367.10 MB (VMS)\n",
      "Memory Usage: 24895.03 MB (RSS), 37390.54 MB (VMS)\n",
      "Processing batch 815/870 (93.68% completed)\n",
      "Memory Usage: 24895.03 MB (RSS), 37390.54 MB (VMS)\n",
      "Memory Usage: 24918.59 MB (RSS), 37413.98 MB (VMS)\n",
      "Processing batch 816/870 (93.79% completed)\n",
      "Memory Usage: 24918.59 MB (RSS), 37413.98 MB (VMS)\n",
      "Memory Usage: 24941.92 MB (RSS), 37437.41 MB (VMS)\n",
      "Processing batch 817/870 (93.91% completed)\n",
      "Memory Usage: 24941.92 MB (RSS), 37437.41 MB (VMS)\n",
      "Memory Usage: 24965.52 MB (RSS), 37460.85 MB (VMS)\n",
      "Processing batch 818/870 (94.02% completed)\n",
      "Memory Usage: 24965.52 MB (RSS), 37460.85 MB (VMS)\n",
      "Memory Usage: 24988.81 MB (RSS), 37484.29 MB (VMS)\n",
      "Processing batch 819/870 (94.14% completed)\n",
      "Memory Usage: 24988.81 MB (RSS), 37484.29 MB (VMS)\n",
      "Memory Usage: 25012.41 MB (RSS), 37507.73 MB (VMS)\n",
      "Processing batch 820/870 (94.25% completed)\n",
      "Memory Usage: 25012.41 MB (RSS), 37507.73 MB (VMS)\n",
      "Memory Usage: 25035.88 MB (RSS), 37531.16 MB (VMS)\n",
      "Processing batch 821/870 (94.37% completed)\n",
      "Memory Usage: 25035.88 MB (RSS), 37531.16 MB (VMS)\n",
      "Memory Usage: 25059.08 MB (RSS), 37554.60 MB (VMS)\n",
      "Processing batch 822/870 (94.48% completed)\n",
      "Memory Usage: 25059.32 MB (RSS), 37554.60 MB (VMS)\n",
      "Memory Usage: 25082.71 MB (RSS), 37578.04 MB (VMS)\n",
      "Processing batch 823/870 (94.60% completed)\n",
      "Memory Usage: 25082.71 MB (RSS), 37578.04 MB (VMS)\n",
      "Memory Usage: 25106.06 MB (RSS), 37601.48 MB (VMS)\n",
      "Processing batch 824/870 (94.71% completed)\n",
      "Memory Usage: 25106.06 MB (RSS), 37601.48 MB (VMS)\n",
      "Memory Usage: 25129.41 MB (RSS), 37624.91 MB (VMS)\n",
      "Processing batch 825/870 (94.83% completed)\n",
      "Memory Usage: 25129.41 MB (RSS), 37624.91 MB (VMS)\n",
      "Memory Usage: 25152.94 MB (RSS), 37648.35 MB (VMS)\n",
      "Processing batch 826/870 (94.94% completed)\n",
      "Memory Usage: 25152.94 MB (RSS), 37648.35 MB (VMS)\n",
      "Memory Usage: 25176.36 MB (RSS), 37671.79 MB (VMS)\n",
      "Processing batch 827/870 (95.06% completed)\n",
      "Memory Usage: 25176.36 MB (RSS), 37671.79 MB (VMS)\n",
      "Memory Usage: 25199.95 MB (RSS), 37695.23 MB (VMS)\n",
      "Processing batch 828/870 (95.17% completed)\n",
      "Memory Usage: 25199.95 MB (RSS), 37695.23 MB (VMS)\n",
      "Memory Usage: 25223.19 MB (RSS), 37718.66 MB (VMS)\n",
      "Processing batch 829/870 (95.29% completed)\n",
      "Memory Usage: 25223.19 MB (RSS), 37718.66 MB (VMS)\n",
      "Memory Usage: 25246.71 MB (RSS), 37742.10 MB (VMS)\n",
      "Processing batch 830/870 (95.40% completed)\n",
      "Memory Usage: 25246.71 MB (RSS), 37742.10 MB (VMS)\n",
      "Memory Usage: 25270.25 MB (RSS), 37765.54 MB (VMS)\n",
      "Processing batch 831/870 (95.52% completed)\n",
      "Memory Usage: 25270.25 MB (RSS), 37765.54 MB (VMS)\n",
      "Memory Usage: 25293.54 MB (RSS), 37788.98 MB (VMS)\n",
      "Processing batch 832/870 (95.63% completed)\n",
      "Memory Usage: 25293.54 MB (RSS), 37788.98 MB (VMS)\n",
      "Memory Usage: 25317.09 MB (RSS), 37812.41 MB (VMS)\n",
      "Processing batch 833/870 (95.75% completed)\n",
      "Memory Usage: 25317.09 MB (RSS), 37812.41 MB (VMS)\n",
      "Memory Usage: 25340.57 MB (RSS), 37835.85 MB (VMS)\n",
      "Processing batch 834/870 (95.86% completed)\n",
      "Memory Usage: 25340.57 MB (RSS), 37835.85 MB (VMS)\n",
      "Memory Usage: 25363.84 MB (RSS), 37859.29 MB (VMS)\n",
      "Processing batch 835/870 (95.98% completed)\n",
      "Memory Usage: 25363.84 MB (RSS), 37859.29 MB (VMS)\n",
      "Memory Usage: 25387.32 MB (RSS), 37882.73 MB (VMS)\n",
      "Processing batch 836/870 (96.09% completed)\n",
      "Memory Usage: 25387.32 MB (RSS), 37882.73 MB (VMS)\n",
      "Memory Usage: 25410.87 MB (RSS), 37906.17 MB (VMS)\n",
      "Processing batch 837/870 (96.21% completed)\n",
      "Memory Usage: 25410.87 MB (RSS), 37906.17 MB (VMS)\n",
      "Memory Usage: 25434.12 MB (RSS), 37929.61 MB (VMS)\n",
      "Processing batch 838/870 (96.32% completed)\n",
      "Memory Usage: 25434.12 MB (RSS), 37929.61 MB (VMS)\n",
      "Memory Usage: 25457.68 MB (RSS), 37953.04 MB (VMS)\n",
      "Processing batch 839/870 (96.44% completed)\n",
      "Memory Usage: 25457.68 MB (RSS), 37953.04 MB (VMS)\n",
      "Memory Usage: 25481.18 MB (RSS), 37976.48 MB (VMS)\n",
      "Processing batch 840/870 (96.55% completed)\n",
      "Memory Usage: 25481.18 MB (RSS), 37976.48 MB (VMS)\n",
      "Memory Usage: 25504.54 MB (RSS), 37999.92 MB (VMS)\n",
      "Processing batch 841/870 (96.67% completed)\n",
      "Memory Usage: 25504.54 MB (RSS), 37999.92 MB (VMS)\n",
      "Memory Usage: 25527.93 MB (RSS), 38023.36 MB (VMS)\n",
      "Processing batch 842/870 (96.78% completed)\n",
      "Memory Usage: 25527.93 MB (RSS), 38023.36 MB (VMS)\n",
      "Memory Usage: 25551.51 MB (RSS), 38046.79 MB (VMS)\n",
      "Processing batch 843/870 (96.90% completed)\n",
      "Memory Usage: 25551.51 MB (RSS), 38046.79 MB (VMS)\n",
      "Memory Usage: 25574.88 MB (RSS), 38070.23 MB (VMS)\n",
      "Processing batch 844/870 (97.01% completed)\n",
      "Memory Usage: 25574.88 MB (RSS), 38070.23 MB (VMS)\n",
      "Memory Usage: 25598.36 MB (RSS), 38093.67 MB (VMS)\n",
      "Processing batch 845/870 (97.13% completed)\n",
      "Memory Usage: 25598.36 MB (RSS), 38093.67 MB (VMS)\n",
      "Memory Usage: 25621.79 MB (RSS), 38117.11 MB (VMS)\n",
      "Processing batch 846/870 (97.24% completed)\n",
      "Memory Usage: 25621.79 MB (RSS), 38117.11 MB (VMS)\n",
      "Memory Usage: 25645.07 MB (RSS), 38140.54 MB (VMS)\n",
      "Processing batch 847/870 (97.36% completed)\n",
      "Memory Usage: 25645.07 MB (RSS), 38140.54 MB (VMS)\n",
      "Memory Usage: 25668.64 MB (RSS), 38163.98 MB (VMS)\n",
      "Processing batch 848/870 (97.47% completed)\n",
      "Memory Usage: 25668.64 MB (RSS), 38163.98 MB (VMS)\n",
      "Memory Usage: 25692.02 MB (RSS), 38187.42 MB (VMS)\n",
      "Processing batch 849/870 (97.59% completed)\n",
      "Memory Usage: 25692.02 MB (RSS), 38187.42 MB (VMS)\n",
      "Memory Usage: 25715.47 MB (RSS), 38210.86 MB (VMS)\n",
      "Processing batch 850/870 (97.70% completed)\n",
      "Memory Usage: 25715.47 MB (RSS), 38210.86 MB (VMS)\n",
      "Memory Usage: 25738.98 MB (RSS), 38234.29 MB (VMS)\n",
      "Processing batch 851/870 (97.82% completed)\n",
      "Memory Usage: 25738.98 MB (RSS), 38234.29 MB (VMS)\n",
      "Memory Usage: 25762.45 MB (RSS), 38257.73 MB (VMS)\n",
      "Processing batch 852/870 (97.93% completed)\n",
      "Memory Usage: 25762.45 MB (RSS), 38257.73 MB (VMS)\n",
      "Memory Usage: 25785.82 MB (RSS), 38281.17 MB (VMS)\n",
      "Processing batch 853/870 (98.05% completed)\n",
      "Memory Usage: 25785.82 MB (RSS), 38281.17 MB (VMS)\n",
      "Memory Usage: 25809.09 MB (RSS), 38304.61 MB (VMS)\n",
      "Processing batch 854/870 (98.16% completed)\n",
      "Memory Usage: 25809.09 MB (RSS), 38304.61 MB (VMS)\n",
      "Memory Usage: 25832.72 MB (RSS), 38328.04 MB (VMS)\n",
      "Processing batch 855/870 (98.28% completed)\n",
      "Memory Usage: 25832.72 MB (RSS), 38328.04 MB (VMS)\n",
      "Memory Usage: 25855.99 MB (RSS), 38351.48 MB (VMS)\n",
      "Processing batch 856/870 (98.39% completed)\n",
      "Memory Usage: 25855.99 MB (RSS), 38351.48 MB (VMS)\n",
      "Memory Usage: 25879.49 MB (RSS), 38374.92 MB (VMS)\n",
      "Processing batch 857/870 (98.51% completed)\n",
      "Memory Usage: 25879.49 MB (RSS), 38374.92 MB (VMS)\n",
      "Memory Usage: 25902.98 MB (RSS), 38398.36 MB (VMS)\n",
      "Processing batch 858/870 (98.62% completed)\n",
      "Memory Usage: 25902.98 MB (RSS), 38398.36 MB (VMS)\n",
      "Memory Usage: 25926.36 MB (RSS), 38421.80 MB (VMS)\n",
      "Processing batch 859/870 (98.74% completed)\n",
      "Memory Usage: 25926.36 MB (RSS), 38421.80 MB (VMS)\n",
      "Memory Usage: 25949.95 MB (RSS), 38445.23 MB (VMS)\n",
      "Processing batch 860/870 (98.85% completed)\n",
      "Memory Usage: 25949.95 MB (RSS), 38445.23 MB (VMS)\n",
      "Memory Usage: 25973.38 MB (RSS), 38468.67 MB (VMS)\n",
      "Processing batch 861/870 (98.97% completed)\n",
      "Memory Usage: 25973.38 MB (RSS), 38468.67 MB (VMS)\n",
      "Memory Usage: 25996.78 MB (RSS), 38492.11 MB (VMS)\n",
      "Processing batch 862/870 (99.08% completed)\n",
      "Memory Usage: 25996.78 MB (RSS), 38492.11 MB (VMS)\n",
      "Memory Usage: 26020.09 MB (RSS), 38515.55 MB (VMS)\n",
      "Processing batch 863/870 (99.20% completed)\n",
      "Memory Usage: 26020.09 MB (RSS), 38515.55 MB (VMS)\n",
      "Memory Usage: 26043.59 MB (RSS), 38538.98 MB (VMS)\n",
      "Processing batch 864/870 (99.31% completed)\n",
      "Memory Usage: 26043.59 MB (RSS), 38538.98 MB (VMS)\n",
      "Memory Usage: 26066.93 MB (RSS), 38562.42 MB (VMS)\n",
      "Processing batch 865/870 (99.43% completed)\n",
      "Memory Usage: 26066.93 MB (RSS), 38562.42 MB (VMS)\n",
      "Memory Usage: 26090.58 MB (RSS), 38585.86 MB (VMS)\n",
      "Processing batch 866/870 (99.54% completed)\n",
      "Memory Usage: 26090.58 MB (RSS), 38585.86 MB (VMS)\n",
      "Memory Usage: 26113.97 MB (RSS), 38609.30 MB (VMS)\n",
      "Processing batch 867/870 (99.66% completed)\n",
      "Memory Usage: 26113.97 MB (RSS), 38609.30 MB (VMS)\n",
      "Memory Usage: 26137.43 MB (RSS), 38632.73 MB (VMS)\n",
      "Processing batch 868/870 (99.77% completed)\n",
      "Memory Usage: 26137.43 MB (RSS), 38632.73 MB (VMS)\n",
      "Memory Usage: 26160.74 MB (RSS), 38656.17 MB (VMS)\n",
      "Processing batch 869/870 (99.89% completed)\n",
      "Memory Usage: 26160.74 MB (RSS), 38656.17 MB (VMS)\n",
      "Memory Usage: 26184.30 MB (RSS), 38679.61 MB (VMS)\n",
      "Processing batch 870/870 (100.00% completed)\n",
      "Memory Usage: 26184.30 MB (RSS), 38679.61 MB (VMS)\n",
      "Memory Usage: 26184.30 MB (RSS), 38679.61 MB (VMS)\n",
      "Merged input_ids shape: torch.Size([1738125, 512])\n",
      "Merged attention_mask shape: torch.Size([1738125, 512])\n",
      "Memory Usage: 39779.16 MB (RSS), 52536.00 MB (VMS)\n"
     ]
    }
   ],
   "source": [
    "import pandas as pd\n",
    "from sklearn.model_selection import train_test_split\n",
    "from transformers import BertTokenizer, BertForSequenceClassification, Trainer, TrainingArguments\n",
    "import torch\n",
    "import numpy as np\n",
    "import psutil  # For memory monitoring\n",
    "\n",
    "# Define device\n",
    "\n",
    "\n",
    "# Set a fixed maximum sequence length\n",
    "max_length = 512\n",
    "\n",
    "# Tokenize the data with fixed max_length padding and truncation\n",
    "tokenized_data_batches = []\n",
    "batch_size = 2000  # Adjust based on system's memory\n",
    "total_batches = len(data['text']) // batch_size + (1 if len(data['text']) % batch_size > 0 else 0)  # Total number of batches\n",
    "\n",
    "# Function to monitor memory usage\n",
    "def log_memory_usage():\n",
    "    process = psutil.Process()\n",
    "    memory_info = process.memory_info()\n",
    "    print(f\"Memory Usage: {memory_info.rss / (1024 ** 2):.2f} MB (RSS), {memory_info.vms / (1024 ** 2):.2f} MB (VMS)\")\n",
    "\n",
    "for i in range(0, len(data['text']), batch_size):\n",
    "    batch_number = i // batch_size + 1\n",
    "    print(f\"Processing batch {batch_number}/{total_batches} ({(batch_number / total_batches) * 100:.2f}% completed)\")\n",
    "    log_memory_usage()  # Log memory usage before processing the batch\n",
    "    \n",
    "    batch = data['text'][i:i + batch_size].tolist()\n",
    "    tokenized_batch = tokenizer(batch, padding='max_length', truncation=True, max_length=max_length, return_tensors='pt')\n",
    "    tokenized_data_batches.append(tokenized_batch)\n",
    "    \n",
    "    log_memory_usage()  # Log memory usage after processing the batch\n",
    "\n",
    "# Concatenate tokenized batches into single tensors\n",
    "all_input_ids = torch.cat([batch['input_ids'] for batch in tokenized_data_batches], dim=0)\n",
    "all_attention_masks = torch.cat([batch['attention_mask'] for batch in tokenized_data_batches], dim=0)\n",
    "\n",
    "# Combine into a single dictionary if needed\n",
    "merged_tokenized_data = {\n",
    "    'input_ids': all_input_ids,\n",
    "    'attention_mask': all_attention_masks\n",
    "}\n",
    "\n",
    "# Confirm tensor shapes\n",
    "print(\"Merged input_ids shape:\", merged_tokenized_data['input_ids'].shape)\n",
    "print(\"Merged attention_mask shape:\", merged_tokenized_data['attention_mask'].shape)\n",
    "\n",
    "# Define labels tensor for classification\n",
    "labels_tensor = torch.tensor(labels_data.values, dtype=torch.long)\n",
    "\n",
    "# Final memory usage log\n",
    "log_memory_usage()\n"
   ]
  },
  {
   "cell_type": "code",
   "execution_count": 23,
   "id": "801a3cf8-b4bd-4c8c-8c87-ad5a8615b822",
   "metadata": {
    "tags": []
   },
   "outputs": [
    {
     "data": {
      "text/plain": [
       "torch.Size([1738125, 512])"
      ]
     },
     "execution_count": 23,
     "metadata": {},
     "output_type": "execute_result"
    }
   ],
   "source": [
    "all_attention_masks.shape"
   ]
  },
  {
   "cell_type": "code",
   "execution_count": 22,
   "id": "3a63d49d-c8ca-4049-b826-fe74ccc2b659",
   "metadata": {
    "tags": []
   },
   "outputs": [],
   "source": [
    "torch.save(all_input_ids, 'input_ids.pt')\n",
    "torch.save(all_attention_masks, 'attention_mask.pt')\n",
    "torch.save(labels_tensor, 'labels_tensor.pt')"
   ]
  },
  {
   "cell_type": "code",
   "execution_count": 13,
   "id": "70d0feb9-d17e-42f5-a4dc-207dcfa195ca",
   "metadata": {
    "tags": []
   },
   "outputs": [
    {
     "name": "stderr",
     "output_type": "stream",
     "text": [
      "/tmp/ipykernel_4006585/1263569302.py:1: FutureWarning: You are using `torch.load` with `weights_only=False` (the current default value), which uses the default pickle module implicitly. It is possible to construct malicious pickle data which will execute arbitrary code during unpickling (See https://github.com/pytorch/pytorch/blob/main/SECURITY.md#untrusted-models for more details). In a future release, the default value for `weights_only` will be flipped to `True`. This limits the functions that could be executed during unpickling. Arbitrary objects will no longer be allowed to be loaded via this mode unless they are explicitly allowlisted by the user via `torch.serialization.add_safe_globals`. We recommend you start setting `weights_only=True` for any use case where you don't have full control of the loaded file. Please open an issue on GitHub for any issues related to this experimental feature.\n",
      "  all_input_ids = torch.load('input_ids.pt')\n",
      "/tmp/ipykernel_4006585/1263569302.py:2: FutureWarning: You are using `torch.load` with `weights_only=False` (the current default value), which uses the default pickle module implicitly. It is possible to construct malicious pickle data which will execute arbitrary code during unpickling (See https://github.com/pytorch/pytorch/blob/main/SECURITY.md#untrusted-models for more details). In a future release, the default value for `weights_only` will be flipped to `True`. This limits the functions that could be executed during unpickling. Arbitrary objects will no longer be allowed to be loaded via this mode unless they are explicitly allowlisted by the user via `torch.serialization.add_safe_globals`. We recommend you start setting `weights_only=True` for any use case where you don't have full control of the loaded file. Please open an issue on GitHub for any issues related to this experimental feature.\n",
      "  all_attention_masks = torch.load('attention_mask.pt')\n",
      "/tmp/ipykernel_4006585/1263569302.py:3: FutureWarning: You are using `torch.load` with `weights_only=False` (the current default value), which uses the default pickle module implicitly. It is possible to construct malicious pickle data which will execute arbitrary code during unpickling (See https://github.com/pytorch/pytorch/blob/main/SECURITY.md#untrusted-models for more details). In a future release, the default value for `weights_only` will be flipped to `True`. This limits the functions that could be executed during unpickling. Arbitrary objects will no longer be allowed to be loaded via this mode unless they are explicitly allowlisted by the user via `torch.serialization.add_safe_globals`. We recommend you start setting `weights_only=True` for any use case where you don't have full control of the loaded file. Please open an issue on GitHub for any issues related to this experimental feature.\n",
      "  labels_tensor = torch.load('labels_tensor.pt')\n"
     ]
    }
   ],
   "source": [
    "all_input_ids = torch.load('input_ids.pt')\n",
    "all_attention_masks = torch.load('attention_mask.pt')\n",
    "labels_tensor = torch.load('labels_tensor.pt')"
   ]
  },
  {
   "cell_type": "code",
   "execution_count": 16,
   "id": "09b3244e-efff-45bc-bbd9-9386ba415e48",
   "metadata": {
    "tags": []
   },
   "outputs": [
    {
     "name": "stderr",
     "output_type": "stream",
     "text": [
      "Some weights of BertForSequenceClassification were not initialized from the model checkpoint at emilyalsentzer/Bio_ClinicalBERT and are newly initialized: ['classifier.bias', 'classifier.weight']\n",
      "You should probably TRAIN this model on a down-stream task to be able to use it for predictions and inference.\n"
     ]
    },
    {
     "data": {
      "text/plain": [
       "BertForSequenceClassification(\n",
       "  (bert): BertModel(\n",
       "    (embeddings): BertEmbeddings(\n",
       "      (word_embeddings): Embedding(28996, 768, padding_idx=0)\n",
       "      (position_embeddings): Embedding(512, 768)\n",
       "      (token_type_embeddings): Embedding(2, 768)\n",
       "      (LayerNorm): LayerNorm((768,), eps=1e-12, elementwise_affine=True)\n",
       "      (dropout): Dropout(p=0.1, inplace=False)\n",
       "    )\n",
       "    (encoder): BertEncoder(\n",
       "      (layer): ModuleList(\n",
       "        (0-11): 12 x BertLayer(\n",
       "          (attention): BertAttention(\n",
       "            (self): BertSdpaSelfAttention(\n",
       "              (query): Linear(in_features=768, out_features=768, bias=True)\n",
       "              (key): Linear(in_features=768, out_features=768, bias=True)\n",
       "              (value): Linear(in_features=768, out_features=768, bias=True)\n",
       "              (dropout): Dropout(p=0.1, inplace=False)\n",
       "            )\n",
       "            (output): BertSelfOutput(\n",
       "              (dense): Linear(in_features=768, out_features=768, bias=True)\n",
       "              (LayerNorm): LayerNorm((768,), eps=1e-12, elementwise_affine=True)\n",
       "              (dropout): Dropout(p=0.1, inplace=False)\n",
       "            )\n",
       "          )\n",
       "          (intermediate): BertIntermediate(\n",
       "            (dense): Linear(in_features=768, out_features=3072, bias=True)\n",
       "            (intermediate_act_fn): GELUActivation()\n",
       "          )\n",
       "          (output): BertOutput(\n",
       "            (dense): Linear(in_features=3072, out_features=768, bias=True)\n",
       "            (LayerNorm): LayerNorm((768,), eps=1e-12, elementwise_affine=True)\n",
       "            (dropout): Dropout(p=0.1, inplace=False)\n",
       "          )\n",
       "        )\n",
       "      )\n",
       "    )\n",
       "    (pooler): BertPooler(\n",
       "      (dense): Linear(in_features=768, out_features=768, bias=True)\n",
       "      (activation): Tanh()\n",
       "    )\n",
       "  )\n",
       "  (dropout): Dropout(p=0.1, inplace=False)\n",
       "  (classifier): Linear(in_features=768, out_features=2, bias=True)\n",
       ")"
      ]
     },
     "execution_count": 16,
     "metadata": {},
     "output_type": "execute_result"
    }
   ],
   "source": [
    "\n",
    "# Split data into train and validation sets\n",
    "train_inputs, val_inputs, train_masks, val_masks, train_labels, val_labels, train_patient_ids, val_patient_ids = train_test_split(\n",
    "    all_input_ids,\n",
    "    all_attention_masks,\n",
    "    labels_tensor,\n",
    "    patient_ids,\n",
    "    test_size=0.1,\n",
    "    random_state=42\n",
    ")\n",
    "\n",
    "# Define custom dataset class for the Trainer\n",
    "class MortalityDataset(torch.utils.data.Dataset):\n",
    "    def __init__(self, input_ids, attention_masks, labels, patient_ids):\n",
    "        self.input_ids = input_ids\n",
    "        self.attention_masks = attention_masks\n",
    "        self.labels = labels\n",
    "        self.patient_ids = patient_ids\n",
    "\n",
    "    def __len__(self):\n",
    "        return len(self.labels)\n",
    "\n",
    "    def __getitem__(self, idx):\n",
    "        return {\n",
    "            'input_ids': self.input_ids[idx],\n",
    "            'attention_mask': self.attention_masks[idx],\n",
    "            'labels': self.labels[idx],\n",
    "            'patient_id': self.patient_ids[idx]\n",
    "        }\n",
    "\n",
    "# Create train and validation datasets\n",
    "train_dataset = MortalityDataset(train_inputs, train_masks, train_labels, train_patient_ids)\n",
    "val_dataset = MortalityDataset(val_inputs, val_masks, val_labels, val_patient_ids)\n",
    "\n",
    "# Define and configure the model\n",
    "model = BertForSequenceClassification.from_pretrained('emilyalsentzer/Bio_ClinicalBERT', num_labels=2)\n",
    "model.to(device)  # Move to GPU if available\n",
    "\n",
    "# # Define training arguments\n",
    "# training_args = TrainingArguments(\n",
    "#     output_dir='./results',          # Output directory\n",
    "#     evaluation_strategy=\"epoch\",     # Evaluate at each epoch\n",
    "#     per_device_train_batch_size=8,   # Batch size for training\n",
    "#     per_device_eval_batch_size=8,    # Batch size for evaluation\n",
    "#     num_train_epochs=3,              # Number of epochs\n",
    "#     weight_decay=0.01,               # Strength of weight decay\n",
    "#     logging_dir='./logs',            # Directory for storing logs\n",
    "#     logging_steps=10,\n",
    "# )\n",
    "\n",
    "# # Initialize Trainer\n",
    "# trainer = Trainer(\n",
    "#     model=model,                        \n",
    "#     args=training_args,            \n",
    "#     train_dataset=train_dataset,       \n",
    "#     eval_dataset=val_dataset             \n",
    "# )\n",
    "\n",
    "# # Train the model\n",
    "# trainer.train()\n",
    "\n",
    "# # Evaluate the model\n",
    "# results = trainer.evaluate()\n",
    "# print(\"Evaluation Results:\", results)\n"
   ]
  },
  {
   "cell_type": "code",
   "execution_count": 17,
   "id": "5b507b40-2c46-4f0e-a64a-4d5f60b1ce00",
   "metadata": {
    "tags": []
   },
   "outputs": [
    {
     "name": "stderr",
     "output_type": "stream",
     "text": [
      "Processing batches:   1%|▎                                                        | 640/97770 [01:00<2:30:07, 10.78it/s]"
     ]
    },
    {
     "name": "stdout",
     "output_type": "stream",
     "text": [
      "Completion Percentage: 0.65%\n"
     ]
    },
    {
     "name": "stderr",
     "output_type": "stream",
     "text": [
      "Processing batches:   1%|▋                                                       | 1288/97770 [02:00<2:29:00, 10.79it/s]"
     ]
    },
    {
     "name": "stdout",
     "output_type": "stream",
     "text": [
      "Completion Percentage: 1.32%\n"
     ]
    },
    {
     "name": "stderr",
     "output_type": "stream",
     "text": [
      "Processing batches:   2%|█                                                       | 1936/97770 [03:00<2:28:07, 10.78it/s]"
     ]
    },
    {
     "name": "stdout",
     "output_type": "stream",
     "text": [
      "Completion Percentage: 1.98%\n"
     ]
    },
    {
     "name": "stderr",
     "output_type": "stream",
     "text": [
      "Processing batches:   3%|█▍                                                      | 2584/97770 [04:00<2:27:08, 10.78it/s]"
     ]
    },
    {
     "name": "stdout",
     "output_type": "stream",
     "text": [
      "Completion Percentage: 2.64%\n"
     ]
    },
    {
     "name": "stderr",
     "output_type": "stream",
     "text": [
      "Processing batches:   3%|█▊                                                      | 3230/97770 [05:00<2:26:09, 10.78it/s]"
     ]
    },
    {
     "name": "stdout",
     "output_type": "stream",
     "text": [
      "Completion Percentage: 3.30%\n"
     ]
    },
    {
     "name": "stderr",
     "output_type": "stream",
     "text": [
      "Processing batches:   4%|██▏                                                     | 3878/97770 [06:00<2:25:10, 10.78it/s]"
     ]
    },
    {
     "name": "stdout",
     "output_type": "stream",
     "text": [
      "Completion Percentage: 3.96%\n"
     ]
    },
    {
     "name": "stderr",
     "output_type": "stream",
     "text": [
      "Processing batches:   5%|██▌                                                     | 4524/97770 [07:00<2:24:12, 10.78it/s]"
     ]
    },
    {
     "name": "stdout",
     "output_type": "stream",
     "text": [
      "Completion Percentage: 4.63%\n"
     ]
    },
    {
     "name": "stderr",
     "output_type": "stream",
     "text": [
      "Processing batches:   5%|██▉                                                     | 5172/97770 [08:00<2:23:02, 10.79it/s]"
     ]
    },
    {
     "name": "stdout",
     "output_type": "stream",
     "text": [
      "Completion Percentage: 5.29%\n"
     ]
    },
    {
     "name": "stderr",
     "output_type": "stream",
     "text": [
      "Processing batches:   6%|███▎                                                    | 5820/97770 [09:00<2:22:03, 10.79it/s]"
     ]
    },
    {
     "name": "stdout",
     "output_type": "stream",
     "text": [
      "Completion Percentage: 5.95%\n"
     ]
    },
    {
     "name": "stderr",
     "output_type": "stream",
     "text": [
      "Processing batches:   7%|███▋                                                    | 6468/97770 [10:00<2:21:02, 10.79it/s]"
     ]
    },
    {
     "name": "stdout",
     "output_type": "stream",
     "text": [
      "Completion Percentage: 6.61%\n"
     ]
    },
    {
     "name": "stderr",
     "output_type": "stream",
     "text": [
      "Processing batches:   7%|████                                                    | 7116/97770 [11:00<2:20:02, 10.79it/s]"
     ]
    },
    {
     "name": "stdout",
     "output_type": "stream",
     "text": [
      "Completion Percentage: 7.28%\n"
     ]
    },
    {
     "name": "stderr",
     "output_type": "stream",
     "text": [
      "Processing batches:   8%|████▍                                                   | 7764/97770 [12:00<2:18:58, 10.79it/s]"
     ]
    },
    {
     "name": "stdout",
     "output_type": "stream",
     "text": [
      "Completion Percentage: 7.94%\n"
     ]
    },
    {
     "name": "stderr",
     "output_type": "stream",
     "text": [
      "Processing batches:   9%|████▊                                                   | 8412/97770 [13:00<2:18:03, 10.79it/s]"
     ]
    },
    {
     "name": "stdout",
     "output_type": "stream",
     "text": [
      "Completion Percentage: 8.60%\n"
     ]
    },
    {
     "name": "stderr",
     "output_type": "stream",
     "text": [
      "Processing batches:   9%|█████▏                                                  | 9060/97770 [14:00<2:17:02, 10.79it/s]"
     ]
    },
    {
     "name": "stdout",
     "output_type": "stream",
     "text": [
      "Completion Percentage: 9.27%\n"
     ]
    },
    {
     "name": "stderr",
     "output_type": "stream",
     "text": [
      "Processing batches:  10%|█████▌                                                  | 9708/97770 [15:00<2:15:59, 10.79it/s]"
     ]
    },
    {
     "name": "stdout",
     "output_type": "stream",
     "text": [
      "Completion Percentage: 9.93%\n"
     ]
    },
    {
     "name": "stderr",
     "output_type": "stream",
     "text": [
      "Processing batches:  11%|█████▊                                                 | 10356/97770 [16:00<2:14:59, 10.79it/s]"
     ]
    },
    {
     "name": "stdout",
     "output_type": "stream",
     "text": [
      "Completion Percentage: 10.59%\n"
     ]
    },
    {
     "name": "stderr",
     "output_type": "stream",
     "text": [
      "Processing batches:  11%|██████▏                                                | 11004/97770 [17:00<2:14:05, 10.78it/s]"
     ]
    },
    {
     "name": "stdout",
     "output_type": "stream",
     "text": [
      "Completion Percentage: 11.25%\n"
     ]
    },
    {
     "name": "stderr",
     "output_type": "stream",
     "text": [
      "Processing batches:  12%|██████▌                                                | 11652/97770 [18:00<2:13:00, 10.79it/s]"
     ]
    },
    {
     "name": "stdout",
     "output_type": "stream",
     "text": [
      "Completion Percentage: 11.92%\n"
     ]
    },
    {
     "name": "stderr",
     "output_type": "stream",
     "text": [
      "Processing batches:  13%|██████▉                                                | 12300/97770 [19:00<2:12:01, 10.79it/s]"
     ]
    },
    {
     "name": "stdout",
     "output_type": "stream",
     "text": [
      "Completion Percentage: 12.58%\n"
     ]
    },
    {
     "name": "stderr",
     "output_type": "stream",
     "text": [
      "Processing batches:  13%|███████▎                                               | 12948/97770 [20:00<2:11:03, 10.79it/s]"
     ]
    },
    {
     "name": "stdout",
     "output_type": "stream",
     "text": [
      "Completion Percentage: 13.24%\n"
     ]
    },
    {
     "name": "stderr",
     "output_type": "stream",
     "text": [
      "Processing batches:  14%|███████▋                                               | 13596/97770 [21:00<2:09:59, 10.79it/s]"
     ]
    },
    {
     "name": "stdout",
     "output_type": "stream",
     "text": [
      "Completion Percentage: 13.91%\n"
     ]
    },
    {
     "name": "stderr",
     "output_type": "stream",
     "text": [
      "Processing batches:  15%|████████                                               | 14244/97770 [22:01<2:08:58, 10.79it/s]"
     ]
    },
    {
     "name": "stdout",
     "output_type": "stream",
     "text": [
      "Completion Percentage: 14.57%\n"
     ]
    },
    {
     "name": "stderr",
     "output_type": "stream",
     "text": [
      "Processing batches:  15%|████████▍                                              | 14892/97770 [23:01<2:08:00, 10.79it/s]"
     ]
    },
    {
     "name": "stdout",
     "output_type": "stream",
     "text": [
      "Completion Percentage: 15.23%\n"
     ]
    },
    {
     "name": "stderr",
     "output_type": "stream",
     "text": [
      "Processing batches:  16%|████████▋                                              | 15540/97770 [24:01<2:07:00, 10.79it/s]"
     ]
    },
    {
     "name": "stdout",
     "output_type": "stream",
     "text": [
      "Completion Percentage: 15.89%\n"
     ]
    },
    {
     "name": "stderr",
     "output_type": "stream",
     "text": [
      "Processing batches:  17%|█████████                                              | 16188/97770 [25:01<2:06:07, 10.78it/s]"
     ]
    },
    {
     "name": "stdout",
     "output_type": "stream",
     "text": [
      "Completion Percentage: 16.56%\n"
     ]
    },
    {
     "name": "stderr",
     "output_type": "stream",
     "text": [
      "Processing batches:  17%|█████████▍                                             | 16836/97770 [26:01<2:04:59, 10.79it/s]"
     ]
    },
    {
     "name": "stdout",
     "output_type": "stream",
     "text": [
      "Completion Percentage: 17.22%\n"
     ]
    },
    {
     "name": "stderr",
     "output_type": "stream",
     "text": [
      "Processing batches:  18%|█████████▊                                             | 17484/97770 [27:01<2:04:09, 10.78it/s]"
     ]
    },
    {
     "name": "stdout",
     "output_type": "stream",
     "text": [
      "Completion Percentage: 17.88%\n"
     ]
    },
    {
     "name": "stderr",
     "output_type": "stream",
     "text": [
      "Processing batches:  19%|██████████▏                                            | 18132/97770 [28:01<2:02:59, 10.79it/s]"
     ]
    },
    {
     "name": "stdout",
     "output_type": "stream",
     "text": [
      "Completion Percentage: 18.54%\n"
     ]
    },
    {
     "name": "stderr",
     "output_type": "stream",
     "text": [
      "Processing batches:  19%|██████████▌                                            | 18780/97770 [29:01<2:01:59, 10.79it/s]"
     ]
    },
    {
     "name": "stdout",
     "output_type": "stream",
     "text": [
      "Completion Percentage: 19.21%\n"
     ]
    },
    {
     "name": "stderr",
     "output_type": "stream",
     "text": [
      "Processing batches:  20%|██████████▉                                            | 19428/97770 [30:01<2:00:54, 10.80it/s]"
     ]
    },
    {
     "name": "stdout",
     "output_type": "stream",
     "text": [
      "Completion Percentage: 19.87%\n"
     ]
    },
    {
     "name": "stderr",
     "output_type": "stream",
     "text": [
      "Processing batches:  21%|███████████▎                                           | 20076/97770 [31:01<2:00:00, 10.79it/s]"
     ]
    },
    {
     "name": "stdout",
     "output_type": "stream",
     "text": [
      "Completion Percentage: 20.53%\n"
     ]
    },
    {
     "name": "stderr",
     "output_type": "stream",
     "text": [
      "Processing batches:  21%|███████████▋                                           | 20724/97770 [32:01<1:58:56, 10.80it/s]"
     ]
    },
    {
     "name": "stdout",
     "output_type": "stream",
     "text": [
      "Completion Percentage: 21.20%\n"
     ]
    },
    {
     "name": "stderr",
     "output_type": "stream",
     "text": [
      "Processing batches:  22%|████████████                                           | 21372/97770 [33:01<1:57:59, 10.79it/s]"
     ]
    },
    {
     "name": "stdout",
     "output_type": "stream",
     "text": [
      "Completion Percentage: 21.86%\n"
     ]
    },
    {
     "name": "stderr",
     "output_type": "stream",
     "text": [
      "Processing batches:  23%|████████████▍                                          | 22020/97770 [34:01<1:57:01, 10.79it/s]"
     ]
    },
    {
     "name": "stdout",
     "output_type": "stream",
     "text": [
      "Completion Percentage: 22.52%\n"
     ]
    },
    {
     "name": "stderr",
     "output_type": "stream",
     "text": [
      "Processing batches:  23%|████████████▊                                          | 22668/97770 [35:01<1:55:58, 10.79it/s]"
     ]
    },
    {
     "name": "stdout",
     "output_type": "stream",
     "text": [
      "Completion Percentage: 23.18%\n"
     ]
    },
    {
     "name": "stderr",
     "output_type": "stream",
     "text": [
      "Processing batches:  24%|█████████████                                          | 23316/97770 [36:01<1:55:08, 10.78it/s]"
     ]
    },
    {
     "name": "stdout",
     "output_type": "stream",
     "text": [
      "Completion Percentage: 23.85%\n"
     ]
    },
    {
     "name": "stderr",
     "output_type": "stream",
     "text": [
      "Processing batches:  25%|█████████████▍                                         | 23964/97770 [37:01<1:54:01, 10.79it/s]"
     ]
    },
    {
     "name": "stdout",
     "output_type": "stream",
     "text": [
      "Completion Percentage: 24.51%\n"
     ]
    },
    {
     "name": "stderr",
     "output_type": "stream",
     "text": [
      "Processing batches:  25%|█████████████▊                                         | 24612/97770 [38:02<1:53:01, 10.79it/s]"
     ]
    },
    {
     "name": "stdout",
     "output_type": "stream",
     "text": [
      "Completion Percentage: 25.17%\n"
     ]
    },
    {
     "name": "stderr",
     "output_type": "stream",
     "text": [
      "Processing batches:  26%|██████████████▏                                        | 25260/97770 [39:02<1:52:01, 10.79it/s]"
     ]
    },
    {
     "name": "stdout",
     "output_type": "stream",
     "text": [
      "Completion Percentage: 25.83%\n"
     ]
    },
    {
     "name": "stderr",
     "output_type": "stream",
     "text": [
      "Processing batches:  26%|██████████████▌                                        | 25908/97770 [40:02<1:51:00, 10.79it/s]"
     ]
    },
    {
     "name": "stdout",
     "output_type": "stream",
     "text": [
      "Completion Percentage: 26.50%\n"
     ]
    },
    {
     "name": "stderr",
     "output_type": "stream",
     "text": [
      "Processing batches:  27%|██████████████▉                                        | 26556/97770 [41:02<1:50:05, 10.78it/s]"
     ]
    },
    {
     "name": "stdout",
     "output_type": "stream",
     "text": [
      "Completion Percentage: 27.16%\n"
     ]
    },
    {
     "name": "stderr",
     "output_type": "stream",
     "text": [
      "Processing batches:  28%|███████████████▎                                       | 27204/97770 [42:02<1:48:57, 10.79it/s]"
     ]
    },
    {
     "name": "stdout",
     "output_type": "stream",
     "text": [
      "Completion Percentage: 27.82%\n"
     ]
    },
    {
     "name": "stderr",
     "output_type": "stream",
     "text": [
      "Processing batches:  28%|███████████████▋                                       | 27852/97770 [43:02<1:47:59, 10.79it/s]"
     ]
    },
    {
     "name": "stdout",
     "output_type": "stream",
     "text": [
      "Completion Percentage: 28.49%\n"
     ]
    },
    {
     "name": "stderr",
     "output_type": "stream",
     "text": [
      "Processing batches:  29%|████████████████                                       | 28500/97770 [44:02<1:46:57, 10.79it/s]"
     ]
    },
    {
     "name": "stdout",
     "output_type": "stream",
     "text": [
      "Completion Percentage: 29.15%\n"
     ]
    },
    {
     "name": "stderr",
     "output_type": "stream",
     "text": [
      "Processing batches:  30%|████████████████▍                                      | 29148/97770 [45:02<1:46:01, 10.79it/s]"
     ]
    },
    {
     "name": "stdout",
     "output_type": "stream",
     "text": [
      "Completion Percentage: 29.81%\n"
     ]
    },
    {
     "name": "stderr",
     "output_type": "stream",
     "text": [
      "Processing batches:  30%|████████████████▊                                      | 29796/97770 [46:02<1:44:59, 10.79it/s]"
     ]
    },
    {
     "name": "stdout",
     "output_type": "stream",
     "text": [
      "Completion Percentage: 30.47%\n"
     ]
    },
    {
     "name": "stderr",
     "output_type": "stream",
     "text": [
      "Processing batches:  31%|█████████████████▏                                     | 30444/97770 [47:02<1:43:56, 10.79it/s]"
     ]
    },
    {
     "name": "stdout",
     "output_type": "stream",
     "text": [
      "Completion Percentage: 31.14%\n"
     ]
    },
    {
     "name": "stderr",
     "output_type": "stream",
     "text": [
      "Processing batches:  32%|█████████████████▍                                     | 31092/97770 [48:02<1:42:59, 10.79it/s]"
     ]
    },
    {
     "name": "stdout",
     "output_type": "stream",
     "text": [
      "Completion Percentage: 31.80%\n"
     ]
    },
    {
     "name": "stderr",
     "output_type": "stream",
     "text": [
      "Processing batches:  32%|█████████████████▊                                     | 31740/97770 [49:02<1:42:02, 10.78it/s]"
     ]
    },
    {
     "name": "stdout",
     "output_type": "stream",
     "text": [
      "Completion Percentage: 32.46%\n"
     ]
    },
    {
     "name": "stderr",
     "output_type": "stream",
     "text": [
      "Processing batches:  33%|██████████████████▏                                    | 32388/97770 [50:02<1:41:00, 10.79it/s]"
     ]
    },
    {
     "name": "stdout",
     "output_type": "stream",
     "text": [
      "Completion Percentage: 33.12%\n"
     ]
    },
    {
     "name": "stderr",
     "output_type": "stream",
     "text": [
      "Processing batches:  34%|██████████████████▌                                    | 33036/97770 [51:02<1:40:01, 10.79it/s]"
     ]
    },
    {
     "name": "stdout",
     "output_type": "stream",
     "text": [
      "Completion Percentage: 33.79%\n"
     ]
    },
    {
     "name": "stderr",
     "output_type": "stream",
     "text": [
      "Processing batches:  34%|██████████████████▉                                    | 33684/97770 [52:02<1:38:59, 10.79it/s]"
     ]
    },
    {
     "name": "stdout",
     "output_type": "stream",
     "text": [
      "Completion Percentage: 34.45%\n"
     ]
    },
    {
     "name": "stderr",
     "output_type": "stream",
     "text": [
      "Processing batches:  35%|███████████████████▎                                   | 34332/97770 [53:02<1:37:58, 10.79it/s]"
     ]
    },
    {
     "name": "stdout",
     "output_type": "stream",
     "text": [
      "Completion Percentage: 35.11%\n"
     ]
    },
    {
     "name": "stderr",
     "output_type": "stream",
     "text": [
      "Processing batches:  36%|███████████████████▋                                   | 34980/97770 [54:02<1:37:05, 10.78it/s]"
     ]
    },
    {
     "name": "stdout",
     "output_type": "stream",
     "text": [
      "Completion Percentage: 35.78%\n"
     ]
    },
    {
     "name": "stderr",
     "output_type": "stream",
     "text": [
      "Processing batches:  36%|████████████████████                                   | 35628/97770 [55:03<1:36:00, 10.79it/s]"
     ]
    },
    {
     "name": "stdout",
     "output_type": "stream",
     "text": [
      "Completion Percentage: 36.44%\n"
     ]
    },
    {
     "name": "stderr",
     "output_type": "stream",
     "text": [
      "Processing batches:  37%|████████████████████▍                                  | 36276/97770 [56:03<1:34:56, 10.80it/s]"
     ]
    },
    {
     "name": "stdout",
     "output_type": "stream",
     "text": [
      "Completion Percentage: 37.10%\n"
     ]
    },
    {
     "name": "stderr",
     "output_type": "stream",
     "text": [
      "Processing batches:  38%|████████████████████▊                                  | 36922/97770 [57:03<1:34:06, 10.78it/s]"
     ]
    },
    {
     "name": "stdout",
     "output_type": "stream",
     "text": [
      "Completion Percentage: 37.76%\n"
     ]
    },
    {
     "name": "stderr",
     "output_type": "stream",
     "text": [
      "Processing batches:  38%|█████████████████████▏                                 | 37570/97770 [58:03<1:32:59, 10.79it/s]"
     ]
    },
    {
     "name": "stdout",
     "output_type": "stream",
     "text": [
      "Completion Percentage: 38.42%\n"
     ]
    },
    {
     "name": "stderr",
     "output_type": "stream",
     "text": [
      "Processing batches:  39%|█████████████████████▍                                 | 38218/97770 [59:03<1:31:57, 10.79it/s]"
     ]
    },
    {
     "name": "stdout",
     "output_type": "stream",
     "text": [
      "Completion Percentage: 39.09%\n"
     ]
    },
    {
     "name": "stderr",
     "output_type": "stream",
     "text": [
      "Processing batches:  40%|█████████████████████                                | 38864/97770 [1:00:03<1:31:12, 10.76it/s]"
     ]
    },
    {
     "name": "stdout",
     "output_type": "stream",
     "text": [
      "Completion Percentage: 39.75%\n"
     ]
    },
    {
     "name": "stderr",
     "output_type": "stream",
     "text": [
      "Processing batches:  40%|█████████████████████▍                               | 39512/97770 [1:01:03<1:30:06, 10.78it/s]"
     ]
    },
    {
     "name": "stdout",
     "output_type": "stream",
     "text": [
      "Completion Percentage: 40.41%\n"
     ]
    },
    {
     "name": "stderr",
     "output_type": "stream",
     "text": [
      "Processing batches:  41%|█████████████████████▊                               | 40160/97770 [1:02:03<1:28:58, 10.79it/s]"
     ]
    },
    {
     "name": "stdout",
     "output_type": "stream",
     "text": [
      "Completion Percentage: 41.07%\n"
     ]
    },
    {
     "name": "stderr",
     "output_type": "stream",
     "text": [
      "Processing batches:  42%|██████████████████████                               | 40808/97770 [1:03:03<1:28:02, 10.78it/s]"
     ]
    },
    {
     "name": "stdout",
     "output_type": "stream",
     "text": [
      "Completion Percentage: 41.74%\n"
     ]
    },
    {
     "name": "stderr",
     "output_type": "stream",
     "text": [
      "Processing batches:  42%|██████████████████████▍                              | 41454/97770 [1:04:03<1:27:13, 10.76it/s]"
     ]
    },
    {
     "name": "stdout",
     "output_type": "stream",
     "text": [
      "Completion Percentage: 42.40%\n"
     ]
    },
    {
     "name": "stderr",
     "output_type": "stream",
     "text": [
      "Processing batches:  43%|██████████████████████▊                              | 42102/97770 [1:05:03<1:26:12, 10.76it/s]"
     ]
    },
    {
     "name": "stdout",
     "output_type": "stream",
     "text": [
      "Completion Percentage: 43.06%\n"
     ]
    },
    {
     "name": "stderr",
     "output_type": "stream",
     "text": [
      "Processing batches:  44%|███████████████████████▏                             | 42748/97770 [1:06:03<1:25:05, 10.78it/s]"
     ]
    },
    {
     "name": "stdout",
     "output_type": "stream",
     "text": [
      "Completion Percentage: 43.72%\n"
     ]
    },
    {
     "name": "stderr",
     "output_type": "stream",
     "text": [
      "Processing batches:  44%|███████████████████████▌                             | 43396/97770 [1:07:03<1:24:00, 10.79it/s]"
     ]
    },
    {
     "name": "stdout",
     "output_type": "stream",
     "text": [
      "Completion Percentage: 44.38%\n"
     ]
    },
    {
     "name": "stderr",
     "output_type": "stream",
     "text": [
      "Processing batches:  45%|███████████████████████▊                             | 44042/97770 [1:08:03<1:23:10, 10.77it/s]"
     ]
    },
    {
     "name": "stdout",
     "output_type": "stream",
     "text": [
      "Completion Percentage: 45.05%\n"
     ]
    },
    {
     "name": "stderr",
     "output_type": "stream",
     "text": [
      "Processing batches:  46%|████████████████████████▏                            | 44690/97770 [1:09:03<1:22:01, 10.79it/s]"
     ]
    },
    {
     "name": "stdout",
     "output_type": "stream",
     "text": [
      "Completion Percentage: 45.71%\n"
     ]
    },
    {
     "name": "stderr",
     "output_type": "stream",
     "text": [
      "Processing batches:  46%|████████████████████████▌                            | 45336/97770 [1:10:03<1:21:00, 10.79it/s]"
     ]
    },
    {
     "name": "stdout",
     "output_type": "stream",
     "text": [
      "Completion Percentage: 46.37%\n"
     ]
    },
    {
     "name": "stderr",
     "output_type": "stream",
     "text": [
      "Processing batches:  47%|████████████████████████▉                            | 45984/97770 [1:11:03<1:20:10, 10.77it/s]"
     ]
    },
    {
     "name": "stdout",
     "output_type": "stream",
     "text": [
      "Completion Percentage: 47.03%\n"
     ]
    },
    {
     "name": "stderr",
     "output_type": "stream",
     "text": [
      "Processing batches:  48%|█████████████████████████▎                           | 46630/97770 [1:12:03<1:19:09, 10.77it/s]"
     ]
    },
    {
     "name": "stdout",
     "output_type": "stream",
     "text": [
      "Completion Percentage: 47.69%\n"
     ]
    },
    {
     "name": "stderr",
     "output_type": "stream",
     "text": [
      "Processing batches:  48%|█████████████████████████▋                           | 47278/97770 [1:13:03<1:18:07, 10.77it/s]"
     ]
    },
    {
     "name": "stdout",
     "output_type": "stream",
     "text": [
      "Completion Percentage: 48.35%\n"
     ]
    },
    {
     "name": "stderr",
     "output_type": "stream",
     "text": [
      "Processing batches:  49%|█████████████████████████▉                           | 47924/97770 [1:14:03<1:17:09, 10.77it/s]"
     ]
    },
    {
     "name": "stdout",
     "output_type": "stream",
     "text": [
      "Completion Percentage: 49.02%\n"
     ]
    },
    {
     "name": "stderr",
     "output_type": "stream",
     "text": [
      "Processing batches:  50%|██████████████████████████▎                          | 48572/97770 [1:15:03<1:16:07, 10.77it/s]"
     ]
    },
    {
     "name": "stdout",
     "output_type": "stream",
     "text": [
      "Completion Percentage: 49.68%\n"
     ]
    },
    {
     "name": "stderr",
     "output_type": "stream",
     "text": [
      "Processing batches:  50%|██████████████████████████▋                          | 49220/97770 [1:16:03<1:14:59, 10.79it/s]"
     ]
    },
    {
     "name": "stdout",
     "output_type": "stream",
     "text": [
      "Completion Percentage: 50.34%\n"
     ]
    },
    {
     "name": "stderr",
     "output_type": "stream",
     "text": [
      "Processing batches:  51%|███████████████████████████                          | 49866/97770 [1:17:03<1:14:02, 10.78it/s]"
     ]
    },
    {
     "name": "stdout",
     "output_type": "stream",
     "text": [
      "Completion Percentage: 51.00%\n"
     ]
    },
    {
     "name": "stderr",
     "output_type": "stream",
     "text": [
      "Processing batches:  52%|███████████████████████████▍                         | 50514/97770 [1:18:03<1:13:05, 10.78it/s]"
     ]
    },
    {
     "name": "stdout",
     "output_type": "stream",
     "text": [
      "Completion Percentage: 51.67%\n"
     ]
    },
    {
     "name": "stderr",
     "output_type": "stream",
     "text": [
      "Processing batches:  52%|███████████████████████████▋                         | 51162/97770 [1:19:03<1:12:07, 10.77it/s]"
     ]
    },
    {
     "name": "stdout",
     "output_type": "stream",
     "text": [
      "Completion Percentage: 52.33%\n"
     ]
    },
    {
     "name": "stderr",
     "output_type": "stream",
     "text": [
      "Processing batches:  53%|████████████████████████████                         | 51808/97770 [1:20:03<1:11:06, 10.77it/s]"
     ]
    },
    {
     "name": "stdout",
     "output_type": "stream",
     "text": [
      "Completion Percentage: 52.99%\n"
     ]
    },
    {
     "name": "stderr",
     "output_type": "stream",
     "text": [
      "Processing batches:  54%|████████████████████████████▍                        | 52456/97770 [1:21:03<1:10:08, 10.77it/s]"
     ]
    },
    {
     "name": "stdout",
     "output_type": "stream",
     "text": [
      "Completion Percentage: 53.65%\n"
     ]
    },
    {
     "name": "stderr",
     "output_type": "stream",
     "text": [
      "Processing batches:  54%|████████████████████████████▊                        | 53104/97770 [1:22:04<1:08:58, 10.79it/s]"
     ]
    },
    {
     "name": "stdout",
     "output_type": "stream",
     "text": [
      "Completion Percentage: 54.31%\n"
     ]
    },
    {
     "name": "stderr",
     "output_type": "stream",
     "text": [
      "Processing batches:  55%|█████████████████████████████▏                       | 53752/97770 [1:23:04<1:08:01, 10.78it/s]"
     ]
    },
    {
     "name": "stdout",
     "output_type": "stream",
     "text": [
      "Completion Percentage: 54.98%\n"
     ]
    },
    {
     "name": "stderr",
     "output_type": "stream",
     "text": [
      "Processing batches:  56%|█████████████████████████████▍                       | 54400/97770 [1:24:04<1:07:02, 10.78it/s]"
     ]
    },
    {
     "name": "stdout",
     "output_type": "stream",
     "text": [
      "Completion Percentage: 55.64%\n"
     ]
    },
    {
     "name": "stderr",
     "output_type": "stream",
     "text": [
      "Processing batches:  56%|█████████████████████████████▊                       | 55048/97770 [1:25:04<1:06:00, 10.79it/s]"
     ]
    },
    {
     "name": "stdout",
     "output_type": "stream",
     "text": [
      "Completion Percentage: 56.30%\n"
     ]
    },
    {
     "name": "stderr",
     "output_type": "stream",
     "text": [
      "Processing batches:  57%|██████████████████████████████▏                      | 55694/97770 [1:26:04<1:05:06, 10.77it/s]"
     ]
    },
    {
     "name": "stdout",
     "output_type": "stream",
     "text": [
      "Completion Percentage: 56.96%\n"
     ]
    },
    {
     "name": "stderr",
     "output_type": "stream",
     "text": [
      "Processing batches:  58%|██████████████████████████████▌                      | 56342/97770 [1:27:04<1:04:09, 10.76it/s]"
     ]
    },
    {
     "name": "stdout",
     "output_type": "stream",
     "text": [
      "Completion Percentage: 57.63%\n"
     ]
    },
    {
     "name": "stderr",
     "output_type": "stream",
     "text": [
      "Processing batches:  58%|██████████████████████████████▉                      | 56988/97770 [1:28:04<1:03:08, 10.76it/s]"
     ]
    },
    {
     "name": "stdout",
     "output_type": "stream",
     "text": [
      "Completion Percentage: 58.29%\n"
     ]
    },
    {
     "name": "stderr",
     "output_type": "stream",
     "text": [
      "Processing batches:  59%|███████████████████████████████▏                     | 57636/97770 [1:29:04<1:02:04, 10.78it/s]"
     ]
    },
    {
     "name": "stdout",
     "output_type": "stream",
     "text": [
      "Completion Percentage: 58.95%\n"
     ]
    },
    {
     "name": "stderr",
     "output_type": "stream",
     "text": [
      "Processing batches:  60%|███████████████████████████████▌                     | 58282/97770 [1:30:04<1:00:59, 10.79it/s]"
     ]
    },
    {
     "name": "stdout",
     "output_type": "stream",
     "text": [
      "Completion Percentage: 59.61%\n"
     ]
    },
    {
     "name": "stderr",
     "output_type": "stream",
     "text": [
      "Processing batches:  60%|███████████████████████████████▉                     | 58930/97770 [1:31:04<1:00:10, 10.76it/s]"
     ]
    },
    {
     "name": "stdout",
     "output_type": "stream",
     "text": [
      "Completion Percentage: 60.27%\n"
     ]
    },
    {
     "name": "stderr",
     "output_type": "stream",
     "text": [
      "Processing batches:  61%|█████████████████████████████████▌                     | 59576/97770 [1:32:04<59:05, 10.77it/s]"
     ]
    },
    {
     "name": "stdout",
     "output_type": "stream",
     "text": [
      "Completion Percentage: 60.93%\n"
     ]
    },
    {
     "name": "stderr",
     "output_type": "stream",
     "text": [
      "Processing batches:  62%|█████████████████████████████████▉                     | 60224/97770 [1:33:04<57:59, 10.79it/s]"
     ]
    },
    {
     "name": "stdout",
     "output_type": "stream",
     "text": [
      "Completion Percentage: 61.60%\n"
     ]
    },
    {
     "name": "stderr",
     "output_type": "stream",
     "text": [
      "Processing batches:  62%|██████████████████████████████████▏                    | 60870/97770 [1:34:04<57:02, 10.78it/s]"
     ]
    },
    {
     "name": "stdout",
     "output_type": "stream",
     "text": [
      "Completion Percentage: 62.26%\n"
     ]
    },
    {
     "name": "stderr",
     "output_type": "stream",
     "text": [
      "Processing batches:  63%|██████████████████████████████████▌                    | 61518/97770 [1:35:04<56:09, 10.76it/s]"
     ]
    },
    {
     "name": "stdout",
     "output_type": "stream",
     "text": [
      "Completion Percentage: 62.92%\n"
     ]
    },
    {
     "name": "stderr",
     "output_type": "stream",
     "text": [
      "Processing batches:  64%|██████████████████████████████████▉                    | 62164/97770 [1:36:04<55:05, 10.77it/s]"
     ]
    },
    {
     "name": "stdout",
     "output_type": "stream",
     "text": [
      "Completion Percentage: 63.58%\n"
     ]
    },
    {
     "name": "stderr",
     "output_type": "stream",
     "text": [
      "Processing batches:  64%|███████████████████████████████████▎                   | 62812/97770 [1:37:04<54:10, 10.75it/s]"
     ]
    },
    {
     "name": "stdout",
     "output_type": "stream",
     "text": [
      "Completion Percentage: 64.24%\n"
     ]
    },
    {
     "name": "stderr",
     "output_type": "stream",
     "text": [
      "Processing batches:  65%|███████████████████████████████████▋                   | 63458/97770 [1:38:04<53:03, 10.78it/s]"
     ]
    },
    {
     "name": "stdout",
     "output_type": "stream",
     "text": [
      "Completion Percentage: 64.90%\n"
     ]
    },
    {
     "name": "stderr",
     "output_type": "stream",
     "text": [
      "Processing batches:  66%|████████████████████████████████████                   | 64106/97770 [1:39:04<52:01, 10.79it/s]"
     ]
    },
    {
     "name": "stdout",
     "output_type": "stream",
     "text": [
      "Completion Percentage: 65.57%\n"
     ]
    },
    {
     "name": "stderr",
     "output_type": "stream",
     "text": [
      "Processing batches:  66%|████████████████████████████████████▍                  | 64752/97770 [1:40:04<51:08, 10.76it/s]"
     ]
    },
    {
     "name": "stdout",
     "output_type": "stream",
     "text": [
      "Completion Percentage: 66.23%\n"
     ]
    },
    {
     "name": "stderr",
     "output_type": "stream",
     "text": [
      "Processing batches:  67%|████████████████████████████████████▊                  | 65400/97770 [1:41:05<50:05, 10.77it/s]"
     ]
    },
    {
     "name": "stdout",
     "output_type": "stream",
     "text": [
      "Completion Percentage: 66.89%\n"
     ]
    },
    {
     "name": "stderr",
     "output_type": "stream",
     "text": [
      "Processing batches:  68%|█████████████████████████████████████▏                 | 66046/97770 [1:42:04<49:06, 10.77it/s]"
     ]
    },
    {
     "name": "stdout",
     "output_type": "stream",
     "text": [
      "Completion Percentage: 67.55%\n"
     ]
    },
    {
     "name": "stderr",
     "output_type": "stream",
     "text": [
      "Processing batches:  68%|█████████████████████████████████████▌                 | 66694/97770 [1:43:05<48:03, 10.78it/s]"
     ]
    },
    {
     "name": "stdout",
     "output_type": "stream",
     "text": [
      "Completion Percentage: 68.21%\n"
     ]
    },
    {
     "name": "stderr",
     "output_type": "stream",
     "text": [
      "Processing batches:  69%|█████████████████████████████████████▉                 | 67340/97770 [1:44:05<47:05, 10.77it/s]"
     ]
    },
    {
     "name": "stdout",
     "output_type": "stream",
     "text": [
      "Completion Percentage: 68.87%\n"
     ]
    },
    {
     "name": "stderr",
     "output_type": "stream",
     "text": [
      "Processing batches:  70%|██████████████████████████████████████▏                | 67986/97770 [1:45:05<46:07, 10.76it/s]"
     ]
    },
    {
     "name": "stdout",
     "output_type": "stream",
     "text": [
      "Completion Percentage: 69.54%\n"
     ]
    },
    {
     "name": "stderr",
     "output_type": "stream",
     "text": [
      "Processing batches:  70%|██████████████████████████████████████▌                | 68634/97770 [1:46:05<45:03, 10.78it/s]"
     ]
    },
    {
     "name": "stdout",
     "output_type": "stream",
     "text": [
      "Completion Percentage: 70.20%\n"
     ]
    },
    {
     "name": "stderr",
     "output_type": "stream",
     "text": [
      "Processing batches:  71%|██████████████████████████████████████▉                | 69280/97770 [1:47:05<44:06, 10.77it/s]"
     ]
    },
    {
     "name": "stdout",
     "output_type": "stream",
     "text": [
      "Completion Percentage: 70.86%\n"
     ]
    },
    {
     "name": "stderr",
     "output_type": "stream",
     "text": [
      "Processing batches:  72%|███████████████████████████████████████▎               | 69926/97770 [1:48:05<43:06, 10.76it/s]"
     ]
    },
    {
     "name": "stdout",
     "output_type": "stream",
     "text": [
      "Completion Percentage: 71.52%\n"
     ]
    },
    {
     "name": "stderr",
     "output_type": "stream",
     "text": [
      "Processing batches:  72%|███████████████████████████████████████▋               | 70574/97770 [1:49:05<42:07, 10.76it/s]"
     ]
    },
    {
     "name": "stdout",
     "output_type": "stream",
     "text": [
      "Completion Percentage: 72.18%\n"
     ]
    },
    {
     "name": "stderr",
     "output_type": "stream",
     "text": [
      "Processing batches:  73%|████████████████████████████████████████               | 71220/97770 [1:50:05<41:00, 10.79it/s]"
     ]
    },
    {
     "name": "stdout",
     "output_type": "stream",
     "text": [
      "Completion Percentage: 72.84%\n"
     ]
    },
    {
     "name": "stderr",
     "output_type": "stream",
     "text": [
      "Processing batches:  74%|████████████████████████████████████████▍              | 71868/97770 [1:51:05<40:03, 10.78it/s]"
     ]
    },
    {
     "name": "stdout",
     "output_type": "stream",
     "text": [
      "Completion Percentage: 73.51%\n"
     ]
    },
    {
     "name": "stderr",
     "output_type": "stream",
     "text": [
      "Processing batches:  74%|████████████████████████████████████████▊              | 72516/97770 [1:52:05<39:03, 10.78it/s]"
     ]
    },
    {
     "name": "stdout",
     "output_type": "stream",
     "text": [
      "Completion Percentage: 74.17%\n"
     ]
    },
    {
     "name": "stderr",
     "output_type": "stream",
     "text": [
      "Processing batches:  75%|█████████████████████████████████████████▏             | 73162/97770 [1:53:05<38:06, 10.76it/s]"
     ]
    },
    {
     "name": "stdout",
     "output_type": "stream",
     "text": [
      "Completion Percentage: 74.83%\n"
     ]
    },
    {
     "name": "stderr",
     "output_type": "stream",
     "text": [
      "Processing batches:  75%|█████████████████████████████████████████▌             | 73810/97770 [1:54:05<37:04, 10.77it/s]"
     ]
    },
    {
     "name": "stdout",
     "output_type": "stream",
     "text": [
      "Completion Percentage: 75.49%\n"
     ]
    },
    {
     "name": "stderr",
     "output_type": "stream",
     "text": [
      "Processing batches:  76%|█████████████████████████████████████████▉             | 74456/97770 [1:55:05<36:02, 10.78it/s]"
     ]
    },
    {
     "name": "stdout",
     "output_type": "stream",
     "text": [
      "Completion Percentage: 76.15%\n"
     ]
    },
    {
     "name": "stderr",
     "output_type": "stream",
     "text": [
      "Processing batches:  77%|██████████████████████████████████████████▏            | 75104/97770 [1:56:05<35:03, 10.78it/s]"
     ]
    },
    {
     "name": "stdout",
     "output_type": "stream",
     "text": [
      "Completion Percentage: 76.81%\n"
     ]
    },
    {
     "name": "stderr",
     "output_type": "stream",
     "text": [
      "Processing batches:  77%|██████████████████████████████████████████▌            | 75750/97770 [1:57:05<34:03, 10.78it/s]"
     ]
    },
    {
     "name": "stdout",
     "output_type": "stream",
     "text": [
      "Completion Percentage: 77.48%\n"
     ]
    },
    {
     "name": "stderr",
     "output_type": "stream",
     "text": [
      "Processing batches:  78%|██████████████████████████████████████████▉            | 76398/97770 [1:58:05<33:02, 10.78it/s]"
     ]
    },
    {
     "name": "stdout",
     "output_type": "stream",
     "text": [
      "Completion Percentage: 78.14%\n"
     ]
    },
    {
     "name": "stderr",
     "output_type": "stream",
     "text": [
      "Processing batches:  79%|███████████████████████████████████████████▎           | 77044/97770 [1:59:05<32:03, 10.78it/s]"
     ]
    },
    {
     "name": "stdout",
     "output_type": "stream",
     "text": [
      "Completion Percentage: 78.80%\n"
     ]
    },
    {
     "name": "stderr",
     "output_type": "stream",
     "text": [
      "Processing batches:  79%|███████████████████████████████████████████▋           | 77692/97770 [2:00:05<31:03, 10.78it/s]"
     ]
    },
    {
     "name": "stdout",
     "output_type": "stream",
     "text": [
      "Completion Percentage: 79.46%\n"
     ]
    },
    {
     "name": "stderr",
     "output_type": "stream",
     "text": [
      "Processing batches:  80%|████████████████████████████████████████████           | 78338/97770 [2:01:05<30:02, 10.78it/s]"
     ]
    },
    {
     "name": "stdout",
     "output_type": "stream",
     "text": [
      "Completion Percentage: 80.12%\n"
     ]
    },
    {
     "name": "stderr",
     "output_type": "stream",
     "text": [
      "Processing batches:  81%|████████████████████████████████████████████▍          | 78986/97770 [2:02:05<29:01, 10.79it/s]"
     ]
    },
    {
     "name": "stdout",
     "output_type": "stream",
     "text": [
      "Completion Percentage: 80.79%\n"
     ]
    },
    {
     "name": "stderr",
     "output_type": "stream",
     "text": [
      "Processing batches:  81%|████████████████████████████████████████████▊          | 79632/97770 [2:03:05<28:02, 10.78it/s]"
     ]
    },
    {
     "name": "stdout",
     "output_type": "stream",
     "text": [
      "Completion Percentage: 81.45%\n"
     ]
    },
    {
     "name": "stderr",
     "output_type": "stream",
     "text": [
      "Processing batches:  82%|█████████████████████████████████████████████▏         | 80280/97770 [2:04:06<27:03, 10.77it/s]"
     ]
    },
    {
     "name": "stdout",
     "output_type": "stream",
     "text": [
      "Completion Percentage: 82.11%\n"
     ]
    },
    {
     "name": "stderr",
     "output_type": "stream",
     "text": [
      "Processing batches:  83%|█████████████████████████████████████████████▌         | 80926/97770 [2:05:05<26:02, 10.78it/s]"
     ]
    },
    {
     "name": "stdout",
     "output_type": "stream",
     "text": [
      "Completion Percentage: 82.77%\n"
     ]
    },
    {
     "name": "stderr",
     "output_type": "stream",
     "text": [
      "Processing batches:  83%|█████████████████████████████████████████████▉         | 81574/97770 [2:06:06<25:01, 10.78it/s]"
     ]
    },
    {
     "name": "stdout",
     "output_type": "stream",
     "text": [
      "Completion Percentage: 83.43%\n"
     ]
    },
    {
     "name": "stderr",
     "output_type": "stream",
     "text": [
      "Processing batches:  84%|██████████████████████████████████████████████▎        | 82222/97770 [2:07:06<24:01, 10.79it/s]"
     ]
    },
    {
     "name": "stdout",
     "output_type": "stream",
     "text": [
      "Completion Percentage: 84.10%\n"
     ]
    },
    {
     "name": "stderr",
     "output_type": "stream",
     "text": [
      "Processing batches:  85%|██████████████████████████████████████████████▌        | 82870/97770 [2:08:06<23:02, 10.78it/s]"
     ]
    },
    {
     "name": "stdout",
     "output_type": "stream",
     "text": [
      "Completion Percentage: 84.76%\n"
     ]
    },
    {
     "name": "stderr",
     "output_type": "stream",
     "text": [
      "Processing batches:  85%|██████████████████████████████████████████████▉        | 83516/97770 [2:09:06<22:03, 10.77it/s]"
     ]
    },
    {
     "name": "stdout",
     "output_type": "stream",
     "text": [
      "Completion Percentage: 85.42%\n"
     ]
    },
    {
     "name": "stderr",
     "output_type": "stream",
     "text": [
      "Processing batches:  86%|███████████████████████████████████████████████▎       | 84164/97770 [2:10:06<21:02, 10.78it/s]"
     ]
    },
    {
     "name": "stdout",
     "output_type": "stream",
     "text": [
      "Completion Percentage: 86.08%\n"
     ]
    },
    {
     "name": "stderr",
     "output_type": "stream",
     "text": [
      "Processing batches:  87%|███████████████████████████████████████████████▋       | 84810/97770 [2:11:06<20:03, 10.77it/s]"
     ]
    },
    {
     "name": "stdout",
     "output_type": "stream",
     "text": [
      "Completion Percentage: 86.74%\n"
     ]
    },
    {
     "name": "stderr",
     "output_type": "stream",
     "text": [
      "Processing batches:  87%|████████████████████████████████████████████████       | 85458/97770 [2:12:06<19:01, 10.79it/s]"
     ]
    },
    {
     "name": "stdout",
     "output_type": "stream",
     "text": [
      "Completion Percentage: 87.41%\n"
     ]
    },
    {
     "name": "stderr",
     "output_type": "stream",
     "text": [
      "Processing batches:  88%|████████████████████████████████████████████████▍      | 86104/97770 [2:13:06<18:08, 10.72it/s]"
     ]
    },
    {
     "name": "stdout",
     "output_type": "stream",
     "text": [
      "Completion Percentage: 88.07%\n"
     ]
    },
    {
     "name": "stderr",
     "output_type": "stream",
     "text": [
      "Processing batches:  89%|████████████████████████████████████████████████▊      | 86752/97770 [2:14:06<17:01, 10.79it/s]"
     ]
    },
    {
     "name": "stdout",
     "output_type": "stream",
     "text": [
      "Completion Percentage: 88.73%\n"
     ]
    },
    {
     "name": "stderr",
     "output_type": "stream",
     "text": [
      "Processing batches:  89%|█████████████████████████████████████████████████▏     | 87398/97770 [2:15:06<16:03, 10.77it/s]"
     ]
    },
    {
     "name": "stdout",
     "output_type": "stream",
     "text": [
      "Completion Percentage: 89.39%\n"
     ]
    },
    {
     "name": "stderr",
     "output_type": "stream",
     "text": [
      "Processing batches:  90%|█████████████████████████████████████████████████▌     | 88046/97770 [2:16:06<15:02, 10.78it/s]"
     ]
    },
    {
     "name": "stdout",
     "output_type": "stream",
     "text": [
      "Completion Percentage: 90.05%\n"
     ]
    },
    {
     "name": "stderr",
     "output_type": "stream",
     "text": [
      "Processing batches:  91%|█████████████████████████████████████████████████▉     | 88692/97770 [2:17:06<14:02, 10.77it/s]"
     ]
    },
    {
     "name": "stdout",
     "output_type": "stream",
     "text": [
      "Completion Percentage: 90.71%\n"
     ]
    },
    {
     "name": "stderr",
     "output_type": "stream",
     "text": [
      "Processing batches:  91%|██████████████████████████████████████████████████▎    | 89340/97770 [2:18:06<13:01, 10.78it/s]"
     ]
    },
    {
     "name": "stdout",
     "output_type": "stream",
     "text": [
      "Completion Percentage: 91.38%\n"
     ]
    },
    {
     "name": "stderr",
     "output_type": "stream",
     "text": [
      "Processing batches:  92%|██████████████████████████████████████████████████▌    | 89986/97770 [2:19:06<12:01, 10.79it/s]"
     ]
    },
    {
     "name": "stdout",
     "output_type": "stream",
     "text": [
      "Completion Percentage: 92.04%\n"
     ]
    },
    {
     "name": "stderr",
     "output_type": "stream",
     "text": [
      "Processing batches:  93%|██████████████████████████████████████████████████▉    | 90634/97770 [2:20:06<11:02, 10.78it/s]"
     ]
    },
    {
     "name": "stdout",
     "output_type": "stream",
     "text": [
      "Completion Percentage: 92.70%\n"
     ]
    },
    {
     "name": "stderr",
     "output_type": "stream",
     "text": [
      "Processing batches:  93%|███████████████████████████████████████████████████▎   | 91280/97770 [2:21:06<10:02, 10.77it/s]"
     ]
    },
    {
     "name": "stdout",
     "output_type": "stream",
     "text": [
      "Completion Percentage: 93.36%\n"
     ]
    },
    {
     "name": "stderr",
     "output_type": "stream",
     "text": [
      "Processing batches:  94%|███████████████████████████████████████████████████▋   | 91928/97770 [2:22:06<09:02, 10.77it/s]"
     ]
    },
    {
     "name": "stdout",
     "output_type": "stream",
     "text": [
      "Completion Percentage: 94.02%\n"
     ]
    },
    {
     "name": "stderr",
     "output_type": "stream",
     "text": [
      "Processing batches:  95%|████████████████████████████████████████████████████   | 92574/97770 [2:23:06<08:03, 10.75it/s]"
     ]
    },
    {
     "name": "stdout",
     "output_type": "stream",
     "text": [
      "Completion Percentage: 94.68%\n"
     ]
    },
    {
     "name": "stderr",
     "output_type": "stream",
     "text": [
      "Processing batches:  95%|████████████████████████████████████████████████████▍  | 93222/97770 [2:24:06<07:01, 10.78it/s]"
     ]
    },
    {
     "name": "stdout",
     "output_type": "stream",
     "text": [
      "Completion Percentage: 95.35%\n"
     ]
    },
    {
     "name": "stderr",
     "output_type": "stream",
     "text": [
      "Processing batches:  96%|████████████████████████████████████████████████████▊  | 93868/97770 [2:25:06<06:02, 10.77it/s]"
     ]
    },
    {
     "name": "stdout",
     "output_type": "stream",
     "text": [
      "Completion Percentage: 96.01%\n"
     ]
    },
    {
     "name": "stderr",
     "output_type": "stream",
     "text": [
      "Processing batches:  97%|█████████████████████████████████████████████████████▏ | 94516/97770 [2:26:07<05:01, 10.78it/s]"
     ]
    },
    {
     "name": "stdout",
     "output_type": "stream",
     "text": [
      "Completion Percentage: 96.67%\n"
     ]
    },
    {
     "name": "stderr",
     "output_type": "stream",
     "text": [
      "Processing batches:  97%|█████████████████████████████████████████████████████▌ | 95164/97770 [2:27:07<04:01, 10.78it/s]"
     ]
    },
    {
     "name": "stdout",
     "output_type": "stream",
     "text": [
      "Completion Percentage: 97.33%\n"
     ]
    },
    {
     "name": "stderr",
     "output_type": "stream",
     "text": [
      "Processing batches:  98%|█████████████████████████████████████████████████████▉ | 95812/97770 [2:28:07<03:01, 10.78it/s]"
     ]
    },
    {
     "name": "stdout",
     "output_type": "stream",
     "text": [
      "Completion Percentage: 98.00%\n"
     ]
    },
    {
     "name": "stderr",
     "output_type": "stream",
     "text": [
      "Processing batches:  99%|██████████████████████████████████████████████████████▎| 96460/97770 [2:29:07<02:01, 10.80it/s]"
     ]
    },
    {
     "name": "stdout",
     "output_type": "stream",
     "text": [
      "Completion Percentage: 98.66%\n"
     ]
    },
    {
     "name": "stderr",
     "output_type": "stream",
     "text": [
      "Processing batches:  99%|██████████████████████████████████████████████████████▋| 97108/97770 [2:30:07<01:01, 10.77it/s]"
     ]
    },
    {
     "name": "stdout",
     "output_type": "stream",
     "text": [
      "Completion Percentage: 99.32%\n"
     ]
    },
    {
     "name": "stderr",
     "output_type": "stream",
     "text": [
      "Processing batches: 100%|██████████████████████████████████████████████████████▉| 97754/97770 [2:31:07<00:01, 10.76it/s]"
     ]
    },
    {
     "name": "stdout",
     "output_type": "stream",
     "text": [
      "Completion Percentage: 99.98%\n"
     ]
    },
    {
     "name": "stderr",
     "output_type": "stream",
     "text": [
      "Processing batches: 100%|███████████████████████████████████████████████████████| 97770/97770 [2:31:08<00:00, 10.78it/s]\n"
     ]
    },
    {
     "name": "stdout",
     "output_type": "stream",
     "text": [
      "Processing completed.\n"
     ]
    }
   ],
   "source": [
    "import torch\n",
    "import numpy as np\n",
    "import pandas as pd\n",
    "import time\n",
    "from torch.utils.data import DataLoader, SequentialSampler\n",
    "from tqdm import tqdm\n",
    "\n",
    "# Assuming train_dataset, model, and device are already defined\n",
    "\n",
    "batch_size = 16\n",
    "dataloader = DataLoader(\n",
    "    train_dataset,\n",
    "    sampler=SequentialSampler(train_dataset),\n",
    "    batch_size=batch_size\n",
    ")\n",
    "\n",
    "# Set model to evaluation mode\n",
    "model.eval()\n",
    "\n",
    "# Initialize lists to store embeddings and patient IDs\n",
    "all_embeddings = []\n",
    "all_patient_ids = []\n",
    "\n",
    "# Track progress and timing\n",
    "start_time = time.time()\n",
    "total_batches = len(dataloader)\n",
    "processed_batches = 0\n",
    "\n",
    "with torch.no_grad():\n",
    "    for batch in tqdm(dataloader, desc=\"Processing batches\"):\n",
    "        # Move data to the specified device (CPU/GPU)\n",
    "        input_ids = batch['input_ids'].to(device)\n",
    "        attention_masks = batch['attention_mask'].to(device)\n",
    "        patient_ids_batch = batch['patient_id'].numpy()\n",
    "\n",
    "        # Forward pass to get hidden states\n",
    "        outputs = model(\n",
    "            input_ids=input_ids,\n",
    "            attention_mask=attention_masks,\n",
    "            output_hidden_states=True\n",
    "        )\n",
    "\n",
    "        # Extract [CLS] token embeddings from the last hidden layer\n",
    "        cls_embeddings = outputs.hidden_states[-1][:, 0, :].cpu().numpy()\n",
    "\n",
    "        # Append embeddings and patient IDs to lists\n",
    "        all_embeddings.append(cls_embeddings)\n",
    "        all_patient_ids.extend(patient_ids_batch)\n",
    "\n",
    "        # Update processed batch count\n",
    "        processed_batches += 1\n",
    "\n",
    "        # Check elapsed time and print completion percentage every 30 seconds\n",
    "        elapsed_time = time.time() - start_time\n",
    "        if elapsed_time >= 60:\n",
    "            completion_percentage = (processed_batches / total_batches) * 100\n",
    "            print(f\"Completion Percentage: {completion_percentage:.2f}%\")\n",
    "            start_time = time.time()  # Reset timer\n",
    "\n",
    "# Concatenate all embeddings into a single NumPy array\n",
    "all_embeddings = np.concatenate(all_embeddings, axis=0)\n",
    "all_patient_ids = np.array(all_patient_ids)\n",
    "\n",
    "# Create a DataFrame to store embeddings and patient IDs\n",
    "embeddings_df = pd.DataFrame(all_embeddings)\n",
    "embeddings_df['patient_id'] = all_patient_ids\n",
    "\n",
    "# Aggregate embeddings by patient ID (e.g., calculate mean embeddings)\n",
    "patient_embeddings = embeddings_df.groupby('patient_id').mean().reset_index()\n",
    "\n",
    "# Print completion message\n",
    "print(\"Processing completed.\")\n",
    "\n",
    "# patient_embeddings now contains the aggregated embeddings for each patient\n"
   ]
  },
  {
   "cell_type": "code",
   "execution_count": 18,
   "id": "99d2bc38-b377-4220-85c1-7f07c56fc2fb",
   "metadata": {
    "tags": []
   },
   "outputs": [
    {
     "data": {
      "text/plain": [
       "(45105, 769)"
      ]
     },
     "execution_count": 18,
     "metadata": {},
     "output_type": "execute_result"
    }
   ],
   "source": [
    "patient_embeddings.shape"
   ]
  },
  {
   "cell_type": "code",
   "execution_count": 19,
   "id": "47501af9-2f25-4512-b8b6-f8af3ea16f4a",
   "metadata": {
    "tags": []
   },
   "outputs": [],
   "source": [
    "patient_embeddings.to_csv('patient_embeddings.csv', index=False)"
   ]
  },
  {
   "cell_type": "markdown",
   "id": "24e6edef-5cda-498f-a1a1-7b2031817c48",
   "metadata": {},
   "source": [
    "## Handling the imbalance of Mortality"
   ]
  },
  {
   "cell_type": "code",
   "execution_count": null,
   "id": "87ec6560-6357-4e76-94fb-6138dcb3bba2",
   "metadata": {
    "tags": []
   },
   "outputs": [],
   "source": [
    "\n",
    "from sklearn.utils import resample\n",
    "train_data = pd.DataFrame({'text': train_texts, 'label': train_labels})\n",
    "df_majority = train_data[train_data.label == 0]\n",
    "df_minority = train_data[train_data.label == 1]\n",
    "df_minority_oversampled = resample(\n",
    "    df_minority,\n",
    "    replace=True,\n",
    "    n_samples=len(df_majority),\n",
    "    random_state=42\n",
    ")\n"
   ]
  },
  {
   "cell_type": "code",
   "execution_count": null,
   "id": "8034a1e4-f96a-4a1f-a31e-aae293083155",
   "metadata": {
    "tags": []
   },
   "outputs": [],
   "source": [
    "train_data_balanced = pd.concat([df_majority, df_minority_oversampled])\n",
    "train_data_balanced = train_data_balanced.sample(frac=1, random_state=42).reset_index(drop=True)\n",
    "train_texts_balanced = train_data_balanced['text']\n",
    "train_labels_balanced = train_data_balanced['label']\n",
    "\n",
    "train_encodings_balanced = tokenizer(\n",
    "    train_texts_balanced.tolist(),\n",
    "    truncation=True,\n",
    "    padding=True\n",
    "\n",
    ")\n",
    "train_dataset_balanced = MimicDataset(train_encodings_balanced, train_labels_balanced)\n",
    "\n"
   ]
  },
  {
   "cell_type": "code",
   "execution_count": null,
   "id": "76095542-6d91-40dd-ad1a-f531d633535b",
   "metadata": {
    "tags": []
   },
   "outputs": [],
   "source": [
    "\n",
    "from sklearn.utils.class_weight import compute_class_weight\n",
    "\n",
    "class_weights = compute_class_weight(\n",
    "    class_weight='balanced',\n",
    "    classes=np.unique(train_labels),\n",
    "    y=train_labels.values  # Use original labels\n",
    ")\n",
    "class_weights = torch.tensor(class_weights, dtype=torch.float).to(device)\n",
    "\n",
    "# Define custom loss function\n",
    "import torch.nn as nn\n",
    "\n",
    "def custom_loss_fn(logits, labels):\n",
    "    loss_fct = nn.CrossEntropyLoss(weight=class_weights)\n",
    "    return loss_fct(logits.view(-1, model.config.num_labels), labels.view(-1))\n",
    "\n",
    "# Subclass Trainer\n",
    "from transformers import Trainer\n",
    "\n",
    "class CustomTrainer(Trainer):\n",
    "    def compute_loss(self, model, inputs, return_outputs=False):\n",
    "        labels = inputs.pop(\"labels\")\n",
    "        outputs = model(**inputs)\n",
    "        logits = outputs.get(\"logits\")\n",
    "        loss = custom_loss_fn(logits, labels)\n",
    "        return (loss, outputs) if return_outputs else loss\n",
    "\n",
    "# Initialize the model\n",
    "from transformers import BertForSequenceClassification\n",
    "\n",
    "model = BertForSequenceClassification.from_pretrained(\n",
    "    'bert-base-uncased',\n",
    "    num_labels=2\n",
    ")\n",
    "model.to(device)\n",
    "\n",
    "# Initialize the Trainer with your custom class\n",
    "trainer = CustomTrainer(\n",
    "    model=model,\n",
    "    args=training_args,\n",
    "    train_dataset=train_dataset_balanced,\n",
    "    eval_dataset=val_dataset,\n",
    "    compute_metrics=compute_metrics,\n",
    ")\n",
    "\n",
    "# Train the model\n",
    "trainer.train()\n"
   ]
  },
  {
   "cell_type": "code",
   "execution_count": null,
   "id": "62a3ef00-a79c-4bd6-9ddf-2ff695f11b3e",
   "metadata": {},
   "outputs": [],
   "source": []
  }
 ],
 "metadata": {
  "kernelspec": {
   "display_name": "Python 3 (ipykernel)",
   "language": "python",
   "name": "python3"
  },
  "language_info": {
   "codemirror_mode": {
    "name": "ipython",
    "version": 3
   },
   "file_extension": ".py",
   "mimetype": "text/x-python",
   "name": "python",
   "nbconvert_exporter": "python",
   "pygments_lexer": "ipython3",
   "version": "3.10.11"
  }
 },
 "nbformat": 4,
 "nbformat_minor": 5
}
